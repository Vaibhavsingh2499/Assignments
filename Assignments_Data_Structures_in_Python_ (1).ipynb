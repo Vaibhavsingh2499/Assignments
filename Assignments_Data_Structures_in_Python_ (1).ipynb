{
  "nbformat": 4,
  "nbformat_minor": 0,
  "metadata": {
    "colab": {
      "provenance": []
    },
    "kernelspec": {
      "name": "python3",
      "display_name": "Python 3"
    },
    "language_info": {
      "name": "python"
    }
  },
  "cells": [
    {
      "cell_type": "code",
      "source": [
        "# Q.1 Write a code to reverse a string\n",
        "str1= 'helloworld'\n",
        "str1[::-1]"
      ],
      "metadata": {
        "colab": {
          "base_uri": "https://localhost:8080/",
          "height": 35
        },
        "id": "ucw1ggswQlTW",
        "outputId": "5341251c-30b4-4e3d-d1ca-7333f83cb366"
      },
      "execution_count": null,
      "outputs": [
        {
          "output_type": "execute_result",
          "data": {
            "text/plain": [
              "'dlrowolleh'"
            ],
            "application/vnd.google.colaboratory.intrinsic+json": {
              "type": "string"
            }
          },
          "metadata": {},
          "execution_count": 90
        }
      ]
    },
    {
      "cell_type": "code",
      "source": [
        "# Q.2 Write a code to count the number of vowels in a string\n",
        "vowels = 'aeiouAEIOU'\n",
        "def count_vowels(s):\n",
        "    return sum(1 for char in s if char in vowels)\n",
        "print(count_vowels(\"hello world\"))"
      ],
      "metadata": {
        "colab": {
          "base_uri": "https://localhost:8080/"
        },
        "id": "FeuhXKy2Qua-",
        "outputId": "a16c7442-1944-4f8b-cc3d-8536b8552fb8"
      },
      "execution_count": null,
      "outputs": [
        {
          "output_type": "stream",
          "name": "stdout",
          "text": [
            "3\n"
          ]
        }
      ]
    },
    {
      "cell_type": "code",
      "source": [
        "# Q.3 Write a code to check if a given string is a palindrome or not\n",
        "str2 =\"racecar\"\n",
        "if str2 == str2[::-1]:\n",
        "    print(\"palindrome\")\n",
        "else:\n",
        "    print(\"not palindrome\")\n"
      ],
      "metadata": {
        "colab": {
          "base_uri": "https://localhost:8080/"
        },
        "id": "bOIxQo8ZRBbL",
        "outputId": "3c555c5f-1bb9-407b-9773-10d15844e7a1"
      },
      "execution_count": null,
      "outputs": [
        {
          "output_type": "stream",
          "name": "stdout",
          "text": [
            "palindrome\n"
          ]
        }
      ]
    },
    {
      "cell_type": "code",
      "source": [
        "# Q.4 Write a code to check if two given strings are anagrams of each other\n",
        "str3 = \"tabo\"\n",
        "str4 = \"boat\"\n",
        "if sorted(str3) == sorted(str4):\n",
        "    print(\"anagrams\")\n",
        "else:\n",
        "    print(\"not anagrams\")"
      ],
      "metadata": {
        "colab": {
          "base_uri": "https://localhost:8080/"
        },
        "id": "4nMgf11aRH30",
        "outputId": "4715ddb3-ea5c-46ea-b13d-3f054e00d5e7"
      },
      "execution_count": null,
      "outputs": [
        {
          "output_type": "stream",
          "name": "stdout",
          "text": [
            "anagrams\n"
          ]
        }
      ]
    },
    {
      "cell_type": "code",
      "source": [
        "# Q.5  Write a code to find all occurrences of a given substring within another string.\n",
        "str1= \"helloworld\"\n",
        "print(str1.endswith(\"rld\"))"
      ],
      "metadata": {
        "id": "DfJ12Pr3ROw4",
        "colab": {
          "base_uri": "https://localhost:8080/"
        },
        "outputId": "a606eed0-c386-4710-d479-9785b9d87b97"
      },
      "execution_count": 1,
      "outputs": [
        {
          "output_type": "stream",
          "name": "stdout",
          "text": [
            "True\n"
          ]
        }
      ]
    },
    {
      "cell_type": "code",
      "source": [
        "# Q.6 Write a code to perform basic string compression using the counts of repeated characters.\n",
        "\n",
        "a = \"hello world\"\n",
        "b = []\n",
        "for i in a:\n",
        "  if i not in b:\n",
        "      b.append(i)\n",
        "for c in b:\n",
        "  print(c,a.count(c))"
      ],
      "metadata": {
        "id": "IAbvSJ2MWmUj",
        "colab": {
          "base_uri": "https://localhost:8080/"
        },
        "outputId": "61044c91-2e1a-4917-847c-9f7c28eae5e2"
      },
      "execution_count": 2,
      "outputs": [
        {
          "output_type": "stream",
          "name": "stdout",
          "text": [
            "h 1\n",
            "e 1\n",
            "l 3\n",
            "o 2\n",
            "  1\n",
            "w 1\n",
            "r 1\n",
            "d 1\n"
          ]
        }
      ]
    },
    {
      "cell_type": "code",
      "source": [
        "# Q.7 Write a code to determine if a string has all unique characters\n",
        "string = \"Hello\"\n",
        "\n",
        "unique = True\n",
        "for char in string:\n",
        "    if string.count(char) > 1:\n",
        "        unique = False\n",
        "        break\n",
        "if unique:\n",
        "    print(\"The string has all unique characters.\")\n",
        "else:\n",
        "    print(\"The string does not have all unique characters.\")\n"
      ],
      "metadata": {
        "id": "yv4TiuBvXpn_",
        "colab": {
          "base_uri": "https://localhost:8080/"
        },
        "outputId": "9752f399-2de8-4ac5-b15e-2d86f4016c22"
      },
      "execution_count": null,
      "outputs": [
        {
          "output_type": "stream",
          "name": "stdout",
          "text": [
            "The string does not have all unique characters.\n"
          ]
        }
      ]
    },
    {
      "cell_type": "code",
      "source": [
        "# Q.8 Write a code to convert a given string to uppercase or lowercase.\n",
        "str6 = \"samsung\"\n",
        "str.upper(str6)\n",
        "print(str.upper(str6))\n",
        "\n",
        "\n",
        "str7 = \"APPLE\"\n",
        "str.lower(str7)\n",
        "print(str.lower(str7))"
      ],
      "metadata": {
        "id": "VPlIVsosXshQ",
        "colab": {
          "base_uri": "https://localhost:8080/"
        },
        "outputId": "664d068f-7ed7-447f-ce8f-dde27f399c58"
      },
      "execution_count": 3,
      "outputs": [
        {
          "output_type": "stream",
          "name": "stdout",
          "text": [
            "SAMSUNG\n",
            "apple\n"
          ]
        }
      ]
    },
    {
      "cell_type": "code",
      "source": [
        "# Q.9 Write a code to count the number of words in a string.\n",
        "str6 = \"samsung\"\n",
        "print(len(str6))"
      ],
      "metadata": {
        "colab": {
          "base_uri": "https://localhost:8080/"
        },
        "id": "ft4i0vPDXuRD",
        "outputId": "2bda1a21-229e-4598-9e90-7b522989f16c"
      },
      "execution_count": null,
      "outputs": [
        {
          "output_type": "stream",
          "name": "stdout",
          "text": [
            "7\n"
          ]
        }
      ]
    },
    {
      "cell_type": "code",
      "source": [
        "# Q.10 Write a code to concatenate two strings without using the + operator.\n",
        "\n",
        "str9 = \"hello\"\n",
        "str10 =\"world\"\n",
        "str9 + str10"
      ],
      "metadata": {
        "colab": {
          "base_uri": "https://localhost:8080/",
          "height": 35
        },
        "id": "2tj_TN2jXw6K",
        "outputId": "6aff85fd-ebcf-4c29-e90e-b79594b11616"
      },
      "execution_count": null,
      "outputs": [
        {
          "output_type": "execute_result",
          "data": {
            "text/plain": [
              "'helloworld'"
            ],
            "application/vnd.google.colaboratory.intrinsic+json": {
              "type": "string"
            }
          },
          "metadata": {},
          "execution_count": 17
        }
      ]
    },
    {
      "cell_type": "code",
      "source": [
        "# Q.11 Write a code to remove all occurrences of a specific element from a list.\n",
        "list1 =[4,5,6,7,8,6,9,6]\n",
        "element = 6\n",
        "while element in list1:\n",
        "    list1.remove(element)\n",
        "print(list1)"
      ],
      "metadata": {
        "colab": {
          "base_uri": "https://localhost:8080/"
        },
        "id": "z_CQKrBQXzr5",
        "outputId": "72987749-7c5f-4a0b-ca45-5261201682f4"
      },
      "execution_count": null,
      "outputs": [
        {
          "output_type": "stream",
          "name": "stdout",
          "text": [
            "[4, 5, 7, 8, 9]\n"
          ]
        }
      ]
    },
    {
      "cell_type": "code",
      "source": [
        "# Q.12 Implement a code to find the second largest number in a given list of integers.\n",
        "def second_largest(list1):\n",
        "     list1.sort()\n",
        "     unique_list2 = []\n",
        "     for x in list1:\n",
        "         if x not in unique_list2:\n",
        "             unique_list2.append(x)\n",
        "     return unique_list2[-2] if len(unique_list2) >= 2 else None\n",
        "print(second_largest([2, 4, 8, 6]))"
      ],
      "metadata": {
        "colab": {
          "base_uri": "https://localhost:8080/"
        },
        "id": "oPy71CdlX16M",
        "outputId": "b13e4bc8-37d8-4f4f-fd65-57edf6e39561"
      },
      "execution_count": null,
      "outputs": [
        {
          "output_type": "stream",
          "name": "stdout",
          "text": [
            "6\n"
          ]
        }
      ]
    },
    {
      "cell_type": "code",
      "source": [
        "# Q.13  Create a code to count the occurrences of each element in a list and return a dictionary with elements as keys and their counts as values.\n",
        "lst = input().split(',')\n",
        "print({x: lst.count(x) for x in set(lst)})"
      ],
      "metadata": {
        "id": "lVF4DfJuX307",
        "colab": {
          "base_uri": "https://localhost:8080/"
        },
        "outputId": "82171c39-a11d-47bf-973a-ce563c860716"
      },
      "execution_count": null,
      "outputs": [
        {
          "output_type": "stream",
          "name": "stdout",
          "text": [
            "4,5,6,3,3,5,6,6,5,6,3,2,3\n",
            "{'6': 4, '3': 4, '2': 1, '5': 3, '4': 1}\n"
          ]
        }
      ]
    },
    {
      "cell_type": "code",
      "source": [
        "# Q.14  Write a code to reverse a list in-place without using any built-in reverse functions.\n",
        "\n",
        "str1= [1,2,3]\n",
        "str2=str1[::-1]\n",
        "print(str2)"
      ],
      "metadata": {
        "colab": {
          "base_uri": "https://localhost:8080/"
        },
        "id": "iPxJopYwX6RU",
        "outputId": "54a50a6f-8da1-461f-b93a-24a893801725"
      },
      "execution_count": null,
      "outputs": [
        {
          "output_type": "stream",
          "name": "stdout",
          "text": [
            "[3, 2, 1]\n"
          ]
        }
      ]
    },
    {
      "cell_type": "code",
      "source": [
        "# Q.15 Implement a code to find and remove duplicates from a list while preserving the original order of elements.\n",
        "a=[1,2,2,2,3,1,1,0,5,6,7,8,9,1,5,5]\n",
        "b=set(list(a))\n",
        "print(b)"
      ],
      "metadata": {
        "colab": {
          "base_uri": "https://localhost:8080/"
        },
        "id": "5ptbvIhrX8J2",
        "outputId": "0d911caa-e9d2-4b50-9970-9f5a002c3250"
      },
      "execution_count": null,
      "outputs": [
        {
          "output_type": "stream",
          "name": "stdout",
          "text": [
            "{0, 1, 2, 3, 5, 6, 7, 8, 9}\n"
          ]
        }
      ]
    },
    {
      "cell_type": "code",
      "source": [
        "# Q.16  Create a code to check if a given list is sorted (either in ascending or descending order) or not.\n",
        "list1 = [24,43,56,20,50,42]\n",
        "list1.sort()\n",
        "print(list1)\n",
        "if list1 == list1[::-1]:\n",
        "    print(\"descending\")\n",
        "else:\n",
        "    print(\"ascending\")"
      ],
      "metadata": {
        "colab": {
          "base_uri": "https://localhost:8080/"
        },
        "id": "llTyyf2nX-bY",
        "outputId": "54c4ce74-fc86-445d-ae97-a29d871654ec"
      },
      "execution_count": null,
      "outputs": [
        {
          "output_type": "stream",
          "name": "stdout",
          "text": [
            "[20, 24, 42, 43, 50, 56]\n",
            "ascending\n"
          ]
        }
      ]
    },
    {
      "cell_type": "code",
      "source": [
        "# Q.17 Write a code to merge two sorted lists into a single sorted list.\n",
        "list1 = [24,43,56,30,40,22]\n",
        "list2 = [42,23,22,56,35,20]\n",
        "list1.extend(list2)\n",
        "list1 = sorted(list1)\n",
        "print(list1)"
      ],
      "metadata": {
        "colab": {
          "base_uri": "https://localhost:8080/"
        },
        "id": "gJEsL5OmYBV0",
        "outputId": "dca23a44-a01b-445d-f956-9edd9d7b5939"
      },
      "execution_count": null,
      "outputs": [
        {
          "output_type": "stream",
          "name": "stdout",
          "text": [
            "[20, 22, 22, 23, 24, 30, 35, 40, 42, 43, 56, 56]\n"
          ]
        }
      ]
    },
    {
      "cell_type": "code",
      "source": [
        "# Q.18  Implement a code to find the intersection of two given lists.\n",
        "list1 = [42,23,22,56,35,20]\n",
        "list2 = [23,42,56,65,24]\n",
        "intersection = list(set(list1)&set(list2))\n",
        "print(intersection)"
      ],
      "metadata": {
        "colab": {
          "base_uri": "https://localhost:8080/"
        },
        "id": "JxhsNpYEYDhW",
        "outputId": "32f71c74-eb95-4b8e-9434-d47ac6c8908b"
      },
      "execution_count": null,
      "outputs": [
        {
          "output_type": "stream",
          "name": "stdout",
          "text": [
            "[56, 42, 23]\n"
          ]
        }
      ]
    },
    {
      "cell_type": "code",
      "source": [
        "# Q.19 Create a code to find the union of two lists without duplicates\n",
        "list1 = [42,23,22,56,35,20]\n",
        "list2 = [23,42,56,65,24]\n",
        "union= list(set(list1)|set(list2))\n",
        "print(union)"
      ],
      "metadata": {
        "colab": {
          "base_uri": "https://localhost:8080/"
        },
        "id": "_yeu4QUyYGYM",
        "outputId": "cae1dd79-63df-4226-a25a-f8e192ba1ffb"
      },
      "execution_count": null,
      "outputs": [
        {
          "output_type": "stream",
          "name": "stdout",
          "text": [
            "[65, 35, 42, 20, 22, 23, 56, 24]\n"
          ]
        }
      ]
    },
    {
      "cell_type": "code",
      "source": [
        "# Q.20  Write a code to shuffle a given list randomly without using any built-in shuffle functions.\n",
        "list_input = input(\"Enter list elements separated by spaces: \").split()\n",
        "n = len(list_input)\n",
        "for i in range(n):\n",
        "    swap_index = (i * 3) % n\n",
        "    list_input[i], list_input[swap_index] = list_input[swap_index], list_input[i]\n",
        "print(\"Shuffled List:\", list_input)"
      ],
      "metadata": {
        "id": "tO8BZWlQYIeF",
        "colab": {
          "base_uri": "https://localhost:8080/"
        },
        "outputId": "7e41cc9b-0848-42be-cfce-1811ca06628c"
      },
      "execution_count": 4,
      "outputs": [
        {
          "output_type": "stream",
          "name": "stdout",
          "text": [
            "Enter list elements separated by spaces: 1 2 3 4 5 6 7 8 9 \n",
            "Shuffled List: ['6', '4', '7', '8', '1', '3', '9', '5', '2']\n"
          ]
        }
      ]
    },
    {
      "cell_type": "code",
      "source": [
        "# Q.21  Write a code that takes two tuples as input and returns a new tuple containing elements that are common to both input tuples.\n",
        "\n",
        "tuple1 = tuple(input().split(','))\n",
        "tuple2 = tuple(input().split(','))\n",
        "print(tuple(set(tuple1) & set(tuple2)))"
      ],
      "metadata": {
        "colab": {
          "base_uri": "https://localhost:8080/"
        },
        "id": "CfcgH7VnaidP",
        "outputId": "8cd21357-4385-409d-b0c7-7e0dc214e422"
      },
      "execution_count": null,
      "outputs": [
        {
          "output_type": "stream",
          "name": "stdout",
          "text": [
            "1,2,3,4,5\n",
            "3,4,5,6,7\n",
            "('3', '5', '4')\n"
          ]
        }
      ]
    },
    {
      "cell_type": "code",
      "source": [
        "# Q.22  Create a code that prompts the user to enter two sets of integers separated by commas. Then, print the intersection of these two sets.\n",
        "nums1 = input(\"Enter first set of numbers (comma-separated): \").split(',')\n",
        "nums2 = input(\"Enter second set of numbers (comma-separated): \").split(',')\n",
        "\n",
        "set1 = {int(num) for num in nums1}\n",
        "set2 = {int(num) for num in nums2}\n",
        "print(\"Intersection:\", set1 & set2)"
      ],
      "metadata": {
        "id": "ev2HXc7-ajEC",
        "colab": {
          "base_uri": "https://localhost:8080/"
        },
        "outputId": "ef7186db-a4ff-4f1d-a52b-ad10a2511b7e"
      },
      "execution_count": 5,
      "outputs": [
        {
          "output_type": "stream",
          "name": "stdout",
          "text": [
            "Enter first set of numbers (comma-separated): 4,8,6,9,5\n",
            "Enter second set of numbers (comma-separated): 6,4,8,7,2,4\n",
            "Intersection: {8, 4, 6}\n"
          ]
        }
      ]
    },
    {
      "cell_type": "code",
      "source": [
        "# Q.23 Write a code to concatenate two tuples. The function should take two tuples as input and return a new tuple containing elements from both input tuples.\n",
        "\n",
        "tuple1 = tuple(input().split(','))\n",
        "tuple2 = tuple(input().split(','))\n",
        "print(tuple1 + tuple2)"
      ],
      "metadata": {
        "id": "HDplNDDHajNl",
        "colab": {
          "base_uri": "https://localhost:8080/"
        },
        "outputId": "f7f4bf51-db91-4192-fada-4c617d7ebf74"
      },
      "execution_count": null,
      "outputs": [
        {
          "output_type": "stream",
          "name": "stdout",
          "text": [
            "1,2,3,5,6,5\n",
            "1,3,6,8,9,40\n",
            "('1', '2', '3', '5', '6', '5', '1', '3', '6', '8', '9', '40')\n"
          ]
        }
      ]
    },
    {
      "cell_type": "code",
      "source": [
        "# Q.24 Develop a code that prompts the user to input two sets of strings. Then, print the elements that are present in the first set but not in the second set\n",
        "str1= input(\"Enter pincode \")\n",
        "str2 = input(\"Enter stdcode \")\n",
        "print(str1)"
      ],
      "metadata": {
        "id": "yWCJ9KRKajYg",
        "colab": {
          "base_uri": "https://localhost:8080/"
        },
        "outputId": "7d754b89-616d-4c7f-e96a-38899651dc29"
      },
      "execution_count": null,
      "outputs": [
        {
          "output_type": "stream",
          "name": "stdout",
          "text": [
            "Enter pincode 221001\n",
            "Enter Stdcode0542\n",
            "221001\n"
          ]
        }
      ]
    },
    {
      "cell_type": "code",
      "source": [
        "# Q.25 Create a code that takes a tuple and two integers as input. The function should return a new tuple containing elements from the original tuple within the specified range of indices\n",
        "\n",
        "t = tuple(input(\"Enter tuple elements separated by space: \").split())\n",
        "start = int(input(\"Enter start index: \"))\n",
        "end = int(input(\"Enter end index: \"))\n",
        "\n",
        "new_tuple = t[start:end+1]\n",
        "print(new_tuple)"
      ],
      "metadata": {
        "id": "6sC7p5xUak3v",
        "colab": {
          "base_uri": "https://localhost:8080/"
        },
        "outputId": "97d978db-5123-4d2d-d0d5-2be79ac16b3b"
      },
      "execution_count": null,
      "outputs": [
        {
          "output_type": "stream",
          "name": "stdout",
          "text": [
            "Enter tuple elements separated by space: A b c dd e FF gh, ks\n",
            "Enter start index: 2\n",
            "Enter end index: 5\n",
            "('c', 'dd', 'e', 'FF')\n"
          ]
        }
      ]
    },
    {
      "cell_type": "code",
      "source": [
        "# Q.26 Write a code that prompts the user to input two sets of characters. Then, print the union of these two sets\n",
        "a = set(input(\"Enter first set of characters: \"))\n",
        "b = set(input(\"Enter second set of characters: \"))\n",
        "\n",
        "union_set = a | b\n",
        "\n",
        "print(\"Union of sets:\", union_set)"
      ],
      "metadata": {
        "id": "WBzDYJl6ak1M",
        "colab": {
          "base_uri": "https://localhost:8080/"
        },
        "outputId": "60c8d853-9248-4947-e211-220020d86b48"
      },
      "execution_count": null,
      "outputs": [
        {
          "output_type": "stream",
          "name": "stdout",
          "text": [
            "Enter first set of characters: Hello\n",
            "Enter second set of characters: World\n",
            "Union of sets: {'o', 'd', 'r', 'W', 'l', 'H', 'e'}\n"
          ]
        }
      ]
    },
    {
      "cell_type": "code",
      "source": [
        " # Q.27 Develop a code that takes a tuple of integers as input. The function should return the maximum and minimum values from the tuple using tuple unpacking\n",
        "\n",
        "numbers = input(\"Enter numbers separated by spaces: \").split()\n",
        "numbers = [int(num) for num in numbers]\n",
        "numbers = tuple(numbers)\n",
        "max_value = max(numbers)\n",
        "min_value = min(numbers)\n",
        "\n",
        "result = (max_value, min_value)\n",
        "max_num, min_num = result\n",
        "\n",
        "print(\"Maximum:\", max_num)\n",
        "print(\"Minimum:\", min_num)\n"
      ],
      "metadata": {
        "id": "wFQ62vKAakzU",
        "colab": {
          "base_uri": "https://localhost:8080/"
        },
        "outputId": "fa295cdd-5022-47cb-8662-52bbb6d10995"
      },
      "execution_count": null,
      "outputs": [
        {
          "output_type": "stream",
          "name": "stdout",
          "text": [
            "Enter numbers separated by spaces: 42 24 56\n",
            "Maximum: 56\n",
            "Minimum: 24\n"
          ]
        }
      ]
    },
    {
      "cell_type": "code",
      "source": [
        "# Q.28 Create a code that defines two sets of integers. Then, print the union, intersection, and difference of these two sets\n",
        "set1 = {1, 2, 3, 4, 5}\n",
        "set2 = {4, 5, 6, 7, 8}\n",
        "\n",
        "union = set1 | set2\n",
        "intersection = set1 & set2\n",
        "difference = set1 - set2\n",
        "\n",
        "print(\"Union:\", union)\n",
        "\n",
        "print(\"Intersection:\", intersection)\n",
        "\n",
        "print(\"Difference (set1 - set2):\", difference)\n"
      ],
      "metadata": {
        "id": "ixST_oJDaku8",
        "colab": {
          "base_uri": "https://localhost:8080/"
        },
        "outputId": "aa460ba4-e0be-42a5-d14a-791b8304f2e4"
      },
      "execution_count": null,
      "outputs": [
        {
          "output_type": "stream",
          "name": "stdout",
          "text": [
            "Union: {1, 2, 3, 4, 5, 6, 7, 8}\n",
            "Intersection: {4, 5}\n",
            "Difference (set1 - set2): {1, 2, 3}\n"
          ]
        }
      ]
    },
    {
      "cell_type": "code",
      "source": [
        "# Q .29 Write a code that takes a tuple and an element as input. The function should return the count of occurrences of the given element in the tuple\n",
        "\n",
        "num = input(\"Enter elements of the tuple separated by spaces: \").split()\n",
        "num = tuple(num)\n",
        "element = input(\"Enter the element to count: \")\n",
        "count = num.count(element)\n",
        "print(\"Count of\", element, \"in tuple:\", count)\n"
      ],
      "metadata": {
        "id": "eq0lvUGDaks3",
        "colab": {
          "base_uri": "https://localhost:8080/"
        },
        "outputId": "bd8882c5-b9f7-437e-cd4d-dc89f025b7ae"
      },
      "execution_count": null,
      "outputs": [
        {
          "output_type": "stream",
          "name": "stdout",
          "text": [
            "Enter elements of the tuple separated by spaces: 42 24 42 45 42 56 45 42 \n",
            "Enter the element to count: 42\n",
            "Count of 42 in tuple: 4\n"
          ]
        }
      ]
    },
    {
      "cell_type": "code",
      "source": [
        "# Q.30 Develop a code that prompts the user to input two sets of strings. Then, print the symmetric difference of these two sets\n",
        "\n",
        "set1 = set(input(\"Enter first set of strings: \").split())\n",
        "set2 = set(input(\"Enter second set of strings: \").split())\n",
        "symmetric_diff = set1 ^ set2\n",
        "print(\"Symmetric Difference:\", symmetric_diff)\n"
      ],
      "metadata": {
        "id": "Yf5kQfAaakmO",
        "colab": {
          "base_uri": "https://localhost:8080/"
        },
        "outputId": "ea471705-2ac1-4933-ce17-bf5be6ef0478"
      },
      "execution_count": null,
      "outputs": [
        {
          "output_type": "stream",
          "name": "stdout",
          "text": [
            "Enter first set of strings: 40 ,42,24\n",
            "Enter second set of strings: 44,42,24,26\n",
            "Symmetric Difference: {'44,42,24,26', '40', ',42,24'}\n"
          ]
        }
      ]
    },
    {
      "cell_type": "code",
      "source": [
        "# Q.31 Write a code that takes a list of words as input and returns a dictionary where the keys are unique words and the values are the frequencies of those words in the input list\n",
        "\n",
        "words = input(\"Enter words separated by spaces: \").split()\n",
        "i = {}\n",
        "for word in words:\n",
        "    if word in i:\n",
        "        i[word] += 1\n",
        "    else:\n",
        "        i[word] = 1\n",
        "print(i)"
      ],
      "metadata": {
        "id": "Nd-lENnTakff",
        "colab": {
          "base_uri": "https://localhost:8080/"
        },
        "outputId": "66149c6c-8f8e-4413-aa8f-850d16e22422"
      },
      "execution_count": null,
      "outputs": [
        {
          "output_type": "stream",
          "name": "stdout",
          "text": [
            "Enter words separated by spaces: apple banana oranges apple pineapple banana oranges\n",
            "{'apple': 2, 'banana': 2, 'oranges': 2, 'pineapple': 1}\n"
          ]
        }
      ]
    },
    {
      "cell_type": "code",
      "source": [
        "# Q.32 Write a code that takes two dictionaries as input and merges them into a single dictionary. If there are common keys, the values should be added together\n",
        "\n",
        "dict1 = {}\n",
        "n1 = int(input(\"Enter the number of key-value pairs for first dictionary: \"))\n",
        "for i in range(n1):\n",
        "    key = input(\"Enter key: \")\n",
        "    value = int(input(\"Enter value: \"))\n",
        "    dict1[key] = value\n",
        "\n",
        "dict2 = {}\n",
        "n2 = int(input(\"Enter the number of key-value pairs for second dictionary: \"))\n",
        "for i in range(n2):\n",
        "    key = input(\"Enter key: \")\n",
        "    value = int(input(\"Enter value: \"))\n",
        "    dict2[key] = value\n",
        "merged_dict = dict1.copy()\n",
        "for key in dict2:\n",
        "    if key in merged_dict:\n",
        "        merged_dict[key] += dict2[key]\n",
        "    else:\n",
        "        merged_dict[key] = dict2[key]\n",
        "print(\"Merged Dictionary:\", merged_dict)"
      ],
      "metadata": {
        "id": "AIPp93qabN_r",
        "colab": {
          "base_uri": "https://localhost:8080/"
        },
        "outputId": "64a3806e-d546-4c21-9e9b-8b2c2328ed14"
      },
      "execution_count": 8,
      "outputs": [
        {
          "output_type": "stream",
          "name": "stdout",
          "text": [
            "Enter the number of key-value pairs for first dictionary: 3\n",
            "Enter key: a\n",
            "Enter value: 1\n",
            "Enter key: b\n",
            "Enter value: 2\n",
            "Enter key: c\n",
            "Enter value: 3\n",
            "Enter the number of key-value pairs for second dictionary: 4\n",
            "Enter key: b\n",
            "Enter value: 2\n",
            "Enter key: d\n",
            "Enter value: 4\n",
            "Enter key: e\n",
            "Enter value: 5\n",
            "Enter key: a\n",
            "Enter value: 1\n",
            "Merged Dictionary: {'a': 2, 'b': 4, 'c': 3, 'd': 4, 'e': 5}\n"
          ]
        }
      ]
    },
    {
      "cell_type": "code",
      "source": [
        "# Q.33  Write a code to access a value in a nested dictionary. The function should take the dictionary and a list of keys as input, and return the corresponding value. If any of the keys do not exist in the dictionary, the function should return None\n",
        "\n",
        "def get_nested_value(data, keys):\n",
        "    for key in keys:\n",
        "        if key in data:\n",
        "            data = data[key]\n",
        "        else:\n",
        "            return None\n",
        "    return data\n",
        "\n",
        "store = {\n",
        "    \"fruits\": {\n",
        "        \"apple\": {\n",
        "            \"color\": \"red\",\n",
        "            \"price\": 3\n",
        "        },\n",
        "        \"banana\": {\n",
        "            \"color\": \"yellow\",\n",
        "            \"price\": 1\n",
        "        }\n",
        "    },\n",
        "    \"vegetables\": {\n",
        "        \"carrot\": {\n",
        "            \"color\": \"orange\",\n",
        "            \"price\": 2\n",
        "        },\n",
        "        \"potato\": {\n",
        "            \"color\": \"brown\",\n",
        "            \"price\": 1\n",
        "        }\n",
        "    }\n",
        "}\n",
        "\n",
        "keys_list = [\"fruits\", \"apple\", \"color\"]\n",
        "print(get_nested_value(store, keys_list))\n",
        "\n",
        "keys_list2 = [\"vegetables\", \"carrot\", \"price\"]\n",
        "print(get_nested_value(store, keys_list2))\n",
        "\n",
        "keys_list3 = [\"fruits\", \"grape\", \"price\"]\n",
        "print(get_nested_value(store, keys_list3))"
      ],
      "metadata": {
        "id": "oU1aVoJrbOPH",
        "colab": {
          "base_uri": "https://localhost:8080/"
        },
        "outputId": "d47c166e-89b3-46e0-ecef-d0877e311c22"
      },
      "execution_count": null,
      "outputs": [
        {
          "output_type": "stream",
          "name": "stdout",
          "text": [
            "red\n",
            "2\n",
            "None\n"
          ]
        }
      ]
    },
    {
      "cell_type": "code",
      "source": [
        "# Q.34  Write a code that takes a dictionary as input and returns a sorted version of it based on the values. You can choose whether to sort in ascending or descending order\n",
        "\n",
        "dict_input = {}\n",
        "n = int(input(\"Enter number of key-value pairs: \"))\n",
        "\n",
        "for i in range(n):\n",
        "    key = input(\"Enter key: \")\n",
        "    value = int(input(\"Enter value: \"))\n",
        "    dict_input[key] = value\n",
        "order = input(\"Enter 'asc' for ascending or 'desc' for descending order: \")\n",
        "sorted_dict = dict(sorted(dict_input.items(), key=lambda x: x[1], reverse=(order == \"desc\")))\n",
        "print(\"Sorted Dictionary:\", sorted_dict)"
      ],
      "metadata": {
        "id": "yqpuCbkybOa_",
        "colab": {
          "base_uri": "https://localhost:8080/"
        },
        "outputId": "9654232c-059e-4ce8-8dc7-ae7956e05cf4"
      },
      "execution_count": 14,
      "outputs": [
        {
          "output_type": "stream",
          "name": "stdout",
          "text": [
            "Enter number of key-value pairs: 5\n",
            "Enter key: a\n",
            "Enter value: 1\n",
            "Enter key: b\n",
            "Enter value: 2\n",
            "Enter key: c\n",
            "Enter value: 3\n",
            "Enter key: d\n",
            "Enter value: 4\n",
            "Enter key: e\n",
            "Enter value: 5\n",
            "Enter 'asc' for ascending or 'desc' for descending order: desc\n",
            "Sorted Dictionary: {'e': 5, 'd': 4, 'c': 3, 'b': 2, 'a': 1}\n"
          ]
        }
      ]
    },
    {
      "cell_type": "code",
      "source": [
        "# Q.35 Write a code that inverts a dictionary, swapping keys and values. Ensure that the inverted dictionary correctly handles cases where multiple keys have the same value by storing the keys as a list in the inverted dictionary.\n",
        "\n",
        "def invert_dictionary(data):\n",
        "    inverted = {}\n",
        "    for key in data:\n",
        "        value = data[key]\n",
        "        if value in inverted:\n",
        "            inverted[value].append(key)\n",
        "        else:\n",
        "            inverted[value] = [key]\n",
        "    return inverted\n",
        "\n",
        "original_dict = {\n",
        "    \"apple\": \"fruit\",\n",
        "    \"carrot\": \"vegetable\",\n",
        "    \"banana\": \"fruit\",\n",
        "    \"potato\": \"vegetable\"\n",
        "}\n",
        "\n",
        "inverted_dict = invert_dictionary(original_dict)\n",
        "print(inverted_dict)"
      ],
      "metadata": {
        "id": "VIHzFWBLbOlv",
        "colab": {
          "base_uri": "https://localhost:8080/"
        },
        "outputId": "0ad40b4e-1634-4cfa-9611-98228002ed73"
      },
      "execution_count": null,
      "outputs": [
        {
          "output_type": "stream",
          "name": "stdout",
          "text": [
            "{'fruit': ['apple', 'banana'], 'vegetable': ['carrot', 'potato']}\n"
          ]
        }
      ]
    },
    {
      "cell_type": "code",
      "source": [],
      "metadata": {
        "id": "UMNT2ODyeXnj"
      },
      "execution_count": null,
      "outputs": []
    }
  ]
}