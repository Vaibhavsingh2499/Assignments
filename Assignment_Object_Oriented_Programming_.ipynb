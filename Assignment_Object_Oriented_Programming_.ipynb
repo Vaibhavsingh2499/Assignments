{
  "nbformat": 4,
  "nbformat_minor": 0,
  "metadata": {
    "colab": {
      "provenance": []
    },
    "kernelspec": {
      "name": "python3",
      "display_name": "Python 3"
    },
    "language_info": {
      "name": "python"
    }
  },
  "cells": [
    {
      "cell_type": "code",
      "execution_count": 1,
      "metadata": {
        "colab": {
          "base_uri": "https://localhost:8080/"
        },
        "id": "d1k62om-Lrwy",
        "outputId": "8bc67edb-5ffc-4831-8eb6-a7f806476919"
      },
      "outputs": [
        {
          "output_type": "stream",
          "name": "stdout",
          "text": [
            "Functions help in code reusability and organization, making programs modular and easier to debug.\n"
          ]
        }
      ],
      "source": [
        "# Q.1 Explain the importance of Function\n",
        "a=( \"Functions help in code reusability and organization, making programs modular and easier to debug.\")\n",
        "print(a)"
      ]
    },
    {
      "cell_type": "code",
      "source": [
        "# Q.2 Write a basic function to greet students\n",
        "def greet():\n",
        "    print(\"Hello, Students!\")\n",
        "\n",
        "greet()"
      ],
      "metadata": {
        "colab": {
          "base_uri": "https://localhost:8080/"
        },
        "id": "Ic4wG3uUPFiM",
        "outputId": "e67302d1-8c1e-4c20-b2f2-1e0f397f7a71"
      },
      "execution_count": 2,
      "outputs": [
        {
          "output_type": "stream",
          "name": "stdout",
          "text": [
            "Hello, Students!\n"
          ]
        }
      ]
    },
    {
      "cell_type": "code",
      "source": [
        "# Q.3 What is the difference between print and return statements?\n",
        "#print displays output, return sends a value back to the caller.\n",
        "\n",
        "def add(a, b):\n",
        "    return a + b\n",
        "\n",
        "print(add(2, 3))"
      ],
      "metadata": {
        "colab": {
          "base_uri": "https://localhost:8080/"
        },
        "id": "vKk7lXPYPMlp",
        "outputId": "32876dd6-6558-4332-e4c7-bd7bc0ebdb9b"
      },
      "execution_count": 3,
      "outputs": [
        {
          "output_type": "stream",
          "name": "stdout",
          "text": [
            "5\n"
          ]
        }
      ]
    },
    {
      "cell_type": "code",
      "source": [
        "# Q.4 What are *args and **kwargs?\n",
        "#args allows multiple positional arguments, **kwargs allows multiple keyword arguments.\n",
        "\n",
        "def example(*args, **kwargs):\n",
        "    print(args, kwargs)\n",
        "\n",
        "example(1, 2, 3, name=\"Nick Jonas\", age=25)"
      ],
      "metadata": {
        "colab": {
          "base_uri": "https://localhost:8080/"
        },
        "id": "fpM8A_lcQPhX",
        "outputId": "13e448a8-e5cf-4c6e-82e3-69a8e90467a7"
      },
      "execution_count": 1,
      "outputs": [
        {
          "output_type": "stream",
          "name": "stdout",
          "text": [
            "(1, 2, 3) {'name': 'Nick Jonas', 'age': 25}\n"
          ]
        }
      ]
    },
    {
      "cell_type": "code",
      "source": [
        "# Q.5 Explain the iterator function\n",
        "#An iterator returns elements one by one using __iter__() and __next__().\n",
        "\n",
        "class Counter:\n",
        "    def __init__(self, n):\n",
        "        self.n = n\n",
        "        self.i = 0\n",
        "\n",
        "    def __iter__(self):\n",
        "        return self\n",
        "\n",
        "    def __next__(self):\n",
        "        if self.i < self.n:\n",
        "            self.i += 1\n",
        "            return self.i\n",
        "        else:\n",
        "            raise StopIteration\n",
        "\n",
        "c = Counter(5)\n",
        "for num in c:\n",
        "    print(num)"
      ],
      "metadata": {
        "colab": {
          "base_uri": "https://localhost:8080/"
        },
        "id": "vgA6zIXUQemx",
        "outputId": "93c42ccb-ba67-4c4d-e806-9603c621700a"
      },
      "execution_count": 5,
      "outputs": [
        {
          "output_type": "stream",
          "name": "stdout",
          "text": [
            "1\n",
            "2\n",
            "3\n",
            "4\n",
            "5\n"
          ]
        }
      ]
    },
    {
      "cell_type": "code",
      "source": [
        "# Q 6. Write a code that generates the squares of numbers from 1 to n using a generator\n",
        "\n",
        "def squares(n):\n",
        "    for i in range(1, n+1):\n",
        "        yield i ** 2\n",
        "\n",
        "print(list(squares(5)))"
      ],
      "metadata": {
        "colab": {
          "base_uri": "https://localhost:8080/"
        },
        "id": "sdeZKlH4QmYh",
        "outputId": "ac104383-0f5b-400d-9743-e4e91b98083f"
      },
      "execution_count": 6,
      "outputs": [
        {
          "output_type": "stream",
          "name": "stdout",
          "text": [
            "[1, 4, 9, 16, 25]\n"
          ]
        }
      ]
    },
    {
      "cell_type": "code",
      "source": [
        "# Q 7. Write a code that generates palindromic numbers up to n using a generator\n",
        "\n",
        "def palindromes(n):\n",
        "    for i in range(n+1):\n",
        "        if str(i) == str(i)[::-1]:\n",
        "            yield i\n",
        "\n",
        "print(list(palindromes(100)))"
      ],
      "metadata": {
        "colab": {
          "base_uri": "https://localhost:8080/"
        },
        "id": "0TPVInz5QrFm",
        "outputId": "759423b9-99c5-488b-eb66-803b6633ada5"
      },
      "execution_count": 7,
      "outputs": [
        {
          "output_type": "stream",
          "name": "stdout",
          "text": [
            "[0, 1, 2, 3, 4, 5, 6, 7, 8, 9, 11, 22, 33, 44, 55, 66, 77, 88, 99]\n"
          ]
        }
      ]
    },
    {
      "cell_type": "code",
      "source": [
        "# Q 8. Write a code that generates even numbers from 2 to n using a generator\n",
        "\n",
        "def evens(n):\n",
        "    for i in range(2, n+1, 2):\n",
        "        yield i\n",
        "\n",
        "print(list(evens(10)))"
      ],
      "metadata": {
        "colab": {
          "base_uri": "https://localhost:8080/"
        },
        "id": "DXYb_mNSQ2Py",
        "outputId": "68bf1656-ff23-4e8a-ba42-b55bf91fd7e2"
      },
      "execution_count": 8,
      "outputs": [
        {
          "output_type": "stream",
          "name": "stdout",
          "text": [
            "[2, 4, 6, 8, 10]\n"
          ]
        }
      ]
    },
    {
      "cell_type": "code",
      "source": [
        "# Q 9. Write a code that generates powers of two up to n using a generator\n",
        "\n",
        "def powers_of_two(n):\n",
        "    i = 1\n",
        "    while i <= n:\n",
        "        yield i\n",
        "        i *= 2\n",
        "\n",
        "print(list(powers_of_two(16)))"
      ],
      "metadata": {
        "colab": {
          "base_uri": "https://localhost:8080/"
        },
        "id": "lJFe_7qjQ9Bm",
        "outputId": "3cd6375e-72a0-4f4e-e321-d368ecbaaf9a"
      },
      "execution_count": 9,
      "outputs": [
        {
          "output_type": "stream",
          "name": "stdout",
          "text": [
            "[1, 2, 4, 8, 16]\n"
          ]
        }
      ]
    },
    {
      "cell_type": "code",
      "source": [
        "# Q 10. Write a code that generates prime numbers up to n using a generator\n",
        "\n",
        "def primes(n):\n",
        "    for num in range(2, n+1):\n",
        "        if all(num % i != 0 for i in range(2, int(num**0.5)+1)):\n",
        "            yield num\n",
        "\n",
        "print(list(primes(20)))"
      ],
      "metadata": {
        "colab": {
          "base_uri": "https://localhost:8080/"
        },
        "id": "vKKSQjjNRA7-",
        "outputId": "dfc81693-eeda-4215-a74f-1afbe113b847"
      },
      "execution_count": 10,
      "outputs": [
        {
          "output_type": "stream",
          "name": "stdout",
          "text": [
            "[2, 3, 5, 7, 11, 13, 17, 19]\n"
          ]
        }
      ]
    },
    {
      "cell_type": "code",
      "source": [
        "# Q 11. Write a code that uses a lambda function to calculate the sum of two numbers\n",
        "sum_lambda = lambda a, b: a + b\n",
        "print(sum_lambda(3, 5))"
      ],
      "metadata": {
        "colab": {
          "base_uri": "https://localhost:8080/"
        },
        "id": "RrwL2oB_RKyG",
        "outputId": "0eed6831-e6d9-411a-903d-2660a26c7fd4"
      },
      "execution_count": 11,
      "outputs": [
        {
          "output_type": "stream",
          "name": "stdout",
          "text": [
            "8\n"
          ]
        }
      ]
    },
    {
      "cell_type": "code",
      "source": [
        "# Q 12.Write a code that uses a lambda function to calculate the square of a given number\n",
        "square_lambda = lambda x: x ** 2\n",
        "print(square_lambda(4))"
      ],
      "metadata": {
        "colab": {
          "base_uri": "https://localhost:8080/"
        },
        "id": "OmRtGJsmRNyZ",
        "outputId": "ef8f4f48-ebc9-4a1c-cb2f-69cf2a3b1e54"
      },
      "execution_count": 12,
      "outputs": [
        {
          "output_type": "stream",
          "name": "stdout",
          "text": [
            "16\n"
          ]
        }
      ]
    },
    {
      "cell_type": "code",
      "source": [
        "# Q 13. Write a code that uses a lambda function to check whether a given number is even or odd\n",
        "even_odd_lambda = lambda x: \"Even\" if x % 2 == 0 else \"Odd\"\n",
        "print(even_odd_lambda(7))"
      ],
      "metadata": {
        "colab": {
          "base_uri": "https://localhost:8080/"
        },
        "id": "b_BIQXVLVoEp",
        "outputId": "fb480191-944d-4f2d-89e3-c16eebf05cb3"
      },
      "execution_count": 13,
      "outputs": [
        {
          "output_type": "stream",
          "name": "stdout",
          "text": [
            "Odd\n"
          ]
        }
      ]
    },
    {
      "cell_type": "code",
      "source": [
        "# Q.15  Write a code that uses a lambda function to concatenate two strings\n",
        "concat_lambda = lambda s1, s2: s1 + s2\n",
        "print(concat_lambda(\"Hello\", \"World\"))"
      ],
      "metadata": {
        "colab": {
          "base_uri": "https://localhost:8080/"
        },
        "id": "0JkiICWWWE_W",
        "outputId": "85dae634-258a-4953-b0e1-2566dfd887c3"
      },
      "execution_count": 14,
      "outputs": [
        {
          "output_type": "stream",
          "name": "stdout",
          "text": [
            "HelloWorld\n"
          ]
        }
      ]
    },
    {
      "cell_type": "code",
      "source": [
        "# Q 16.  Write a code that uses a lambda function to find the maximum of three given numbers\n",
        "max_lambda = lambda a, b, c: max(a, b, c)\n",
        "print(max_lambda(3, 9, 6))"
      ],
      "metadata": {
        "colab": {
          "base_uri": "https://localhost:8080/"
        },
        "id": "MGA-bbC3WOeo",
        "outputId": "a44da84a-5341-48fd-ca9c-e4f44f7c1b27"
      },
      "execution_count": 15,
      "outputs": [
        {
          "output_type": "stream",
          "name": "stdout",
          "text": [
            "9\n"
          ]
        }
      ]
    },
    {
      "cell_type": "code",
      "source": [
        "#Q17 Write a code that generates the squares of even numbers from a given list\n",
        "def squares_of_evens(lst):\n",
        "    return [x**2 for x in lst if x % 2 == 0]\n",
        "\n",
        "print(squares_of_evens([1, 2, 3, 4, 5, 6]))"
      ],
      "metadata": {
        "colab": {
          "base_uri": "https://localhost:8080/"
        },
        "id": "0hrf8tW9WzZ5",
        "outputId": "0ac6b8d6-bed6-47d1-d679-b336d94c524e"
      },
      "execution_count": 16,
      "outputs": [
        {
          "output_type": "stream",
          "name": "stdout",
          "text": [
            "[4, 16, 36]\n"
          ]
        }
      ]
    },
    {
      "cell_type": "code",
      "source": [
        "#Q 18  Write a code that calculates the product of positive numbers from a given list\n",
        "def product_of_positives(lst):\n",
        "    prod = 1\n",
        "    for num in lst:\n",
        "        if num > 0:\n",
        "            prod *= num\n",
        "    return prod\n",
        "\n",
        "print(product_of_positives([-1, 2, 3, -4, 5]))"
      ],
      "metadata": {
        "colab": {
          "base_uri": "https://localhost:8080/"
        },
        "id": "iTvSL2e9aXGG",
        "outputId": "e8f1d30e-7f9b-44bf-e9d5-d46c46d9828a"
      },
      "execution_count": 17,
      "outputs": [
        {
          "output_type": "stream",
          "name": "stdout",
          "text": [
            "30\n"
          ]
        }
      ]
    },
    {
      "cell_type": "code",
      "source": [
        "# Q.19 Write a code that doubles the values of odd numbers from a given list\n",
        "def double_odds(lst):\n",
        "    return [x * 2 if x % 2 != 0 else x for x in lst]\n",
        "\n",
        "print(double_odds([1, 2, 3, 4, 5, 6]))\n"
      ],
      "metadata": {
        "colab": {
          "base_uri": "https://localhost:8080/"
        },
        "id": "KN6rYdA6afHR",
        "outputId": "96ea6bdd-5e95-45d0-ecd2-01512eb8acbe"
      },
      "execution_count": 18,
      "outputs": [
        {
          "output_type": "stream",
          "name": "stdout",
          "text": [
            "[2, 2, 6, 4, 10, 6]\n"
          ]
        }
      ]
    },
    {
      "cell_type": "code",
      "source": [
        "# Q.20  Write a code that calculates the sum of cubes of numbers from a given list\n",
        "def sum_of_cubes(lst):\n",
        "    return sum(x**3 for x in lst)\n",
        "\n",
        "print(sum_of_cubes([1, 2, 3, 4]))\n"
      ],
      "metadata": {
        "colab": {
          "base_uri": "https://localhost:8080/"
        },
        "id": "lTPipZINbADG",
        "outputId": "5ecd3d06-a675-4bbc-b684-c7471ae94e27"
      },
      "execution_count": 19,
      "outputs": [
        {
          "output_type": "stream",
          "name": "stdout",
          "text": [
            "100\n"
          ]
        }
      ]
    },
    {
      "cell_type": "code",
      "source": [
        "#Q .21 Write a code that filters out prime numbers from a given list\n",
        "filter_primes = lambda lst: [x for x in lst if x < 2 or any(x % i == 0 for i in range(2, int(x**0.5) + 1))]\n",
        "\n",
        "print(filter_primes([1, 2, 3, 4, 5, 6, 7, 8, 9, 10]))\n"
      ],
      "metadata": {
        "colab": {
          "base_uri": "https://localhost:8080/"
        },
        "id": "WhNmogKKbC_I",
        "outputId": "909a0411-bd35-4212-d226-1cb755e79682"
      },
      "execution_count": 20,
      "outputs": [
        {
          "output_type": "stream",
          "name": "stdout",
          "text": [
            "[1, 4, 6, 8, 9, 10]\n"
          ]
        }
      ]
    },
    {
      "cell_type": "code",
      "source": [
        "# Q.22 Write a code that uses a lambda function to calculate the sum of two numbers\n",
        "sum_lambda = lambda a, b: a + b\n",
        "print(sum_lambda(3, 5))"
      ],
      "metadata": {
        "colab": {
          "base_uri": "https://localhost:8080/"
        },
        "id": "bvbBbIGRbRqZ",
        "outputId": "94df044e-e8c6-4711-d02e-10ac13296d4d"
      },
      "execution_count": 21,
      "outputs": [
        {
          "output_type": "stream",
          "name": "stdout",
          "text": [
            "8\n"
          ]
        }
      ]
    },
    {
      "cell_type": "code",
      "source": [
        "# Q.23  Write a code that uses a lambda function to calculate the square of a given number\n",
        "square_lambda = lambda x: x ** 2\n",
        "print(square_lambda(20))"
      ],
      "metadata": {
        "colab": {
          "base_uri": "https://localhost:8080/"
        },
        "id": "5BFKj8xrpSDA",
        "outputId": "568ba9ef-1e3b-41d7-b1b5-46774e474be6"
      },
      "execution_count": 22,
      "outputs": [
        {
          "output_type": "stream",
          "name": "stdout",
          "text": [
            "400\n"
          ]
        }
      ]
    },
    {
      "cell_type": "code",
      "source": [
        "# Q .24 Write a code that uses a lambda function to check whether a given number is even or\n",
        "even_odd_lambda = lambda x: \"Even\" if x % 2 == 0 else \"Odd\"\n",
        "print(even_odd_lambda(6))"
      ],
      "metadata": {
        "colab": {
          "base_uri": "https://localhost:8080/"
        },
        "id": "EbuPvXS9pUUW",
        "outputId": "f4cffa79-c019-459a-f742-60b71bc8ce62"
      },
      "execution_count": 23,
      "outputs": [
        {
          "output_type": "stream",
          "name": "stdout",
          "text": [
            "Even\n"
          ]
        }
      ]
    },
    {
      "cell_type": "code",
      "source": [
        "# Q .25 Write a code that uses a lambda function to concatenate two strings\n",
        "concat_lambda = lambda s1, s2: s1 + s2\n",
        "print(concat_lambda(\"Dark\", \"Blue\"))"
      ],
      "metadata": {
        "colab": {
          "base_uri": "https://localhost:8080/"
        },
        "id": "AADtJKnPpVoB",
        "outputId": "ce926963-93f6-44cc-d88d-0d9f7fab1226"
      },
      "execution_count": 24,
      "outputs": [
        {
          "output_type": "stream",
          "name": "stdout",
          "text": [
            "DarkBlue\n"
          ]
        }
      ]
    },
    {
      "cell_type": "code",
      "source": [
        "# Q.26 Write a code that uses a lambda function to find the maximum of three given numbers\n",
        "max_lambda = lambda a, b, c: max(a, b, c)\n",
        "print(max_lambda(93, 96, 46))"
      ],
      "metadata": {
        "colab": {
          "base_uri": "https://localhost:8080/"
        },
        "id": "V4UPi6Lppjwk",
        "outputId": "55c6757d-5e72-4ebd-e12f-07320a07da93"
      },
      "execution_count": 25,
      "outputs": [
        {
          "output_type": "stream",
          "name": "stdout",
          "text": [
            "96\n"
          ]
        }
      ]
    },
    {
      "cell_type": "code",
      "source": [
        "#Q.27 What is encapsulation in OOP?\n",
        "a= (\"Encapsulation in Object-Oriented Programming (OOP) is the concept of hiding data and restricting direct access to it.\\n It is done using private or protected attributes and methods, allowing controlled access through getter and setter methods.\")\n",
        "print(a)"
      ],
      "metadata": {
        "colab": {
          "base_uri": "https://localhost:8080/"
        },
        "id": "PJZxnARnpuQi",
        "outputId": "78f9e6a4-32b1-4b4d-c699-fdc4e58dd85b"
      },
      "execution_count": 26,
      "outputs": [
        {
          "output_type": "stream",
          "name": "stdout",
          "text": [
            "Encapsulation in Object-Oriented Programming (OOP) is the concept of hiding data and restricting direct access to it.\n",
            " It is done using private or protected attributes and methods, allowing controlled access through getter and setter methods.\n"
          ]
        }
      ]
    },
    {
      "cell_type": "code",
      "source": [
        "# Q.28 Explain the use of access modifiers in Python classes\n",
        "a = (\"Access modifiers in Python control the visibility of class attributes and methods. Python has three types:\\n Public (attribute) – Accessible from anywhere.\\n Protected (_attribute) – Intended for internal use, still accessible but convention suggests not to modify directly.\\n Private (__attribute) – Not directly accessible, name-mangled to prevent accidental modification.\\n\")\n",
        "print(a)"
      ],
      "metadata": {
        "colab": {
          "base_uri": "https://localhost:8080/"
        },
        "id": "PpUdIzEcp489",
        "outputId": "98c4776b-9fe3-4d5e-8f2f-f53752a328a1"
      },
      "execution_count": 3,
      "outputs": [
        {
          "output_type": "stream",
          "name": "stdout",
          "text": [
            "Access modifiers in Python control the visibility of class attributes and methods. Python has three types:\n",
            " Public (attribute) – Accessible from anywhere.\n",
            " Protected (_attribute) – Intended for internal use, still accessible but convention suggests not to modify directly.\n",
            " Private (__attribute) – Not directly accessible, name-mangled to prevent accidental modification.\n",
            "\n"
          ]
        }
      ]
    },
    {
      "cell_type": "code",
      "source": [
        "#  Q.29 What is inheritance in OOP\n",
        "a = (\"Inheritance is a key concept in Object-Oriented Programming (OOP) that allows a class (child class) to inherit attributes and methods from another class (parent class).\\n It promotes code reuse and hierarchical relationships between classes.\")\n",
        "print(a)"
      ],
      "metadata": {
        "colab": {
          "base_uri": "https://localhost:8080/"
        },
        "id": "joxhY656qULK",
        "outputId": "d65a686e-90d7-4be9-e2fa-7c78bf434903"
      },
      "execution_count": 28,
      "outputs": [
        {
          "output_type": "stream",
          "name": "stdout",
          "text": [
            "Inheritance is a key concept in Object-Oriented Programming (OOP) that allows a class (child class) to inherit attributes and methods from another class (parent class).\n",
            " It promotes code reuse and hierarchical relationships between classes.\n"
          ]
        }
      ]
    },
    {
      "cell_type": "code",
      "source": [
        "#  Q .30 Define polymorphism in OOP\n",
        "ans = (\"\"\"Polymorphism means \"many forms\"—it allows different classes to use the same method name but with different behaviors.\"\"\")\n",
        "print(ans)"
      ],
      "metadata": {
        "colab": {
          "base_uri": "https://localhost:8080/"
        },
        "id": "mnsvqyudqVuy",
        "outputId": "58844a3a-d32f-48ab-8abf-401a219ed810"
      },
      "execution_count": 5,
      "outputs": [
        {
          "output_type": "stream",
          "name": "stdout",
          "text": [
            "Polymorphism means \"many forms\"—it allows different classes to use the same method name but with different behaviors.\n"
          ]
        }
      ]
    },
    {
      "cell_type": "code",
      "source": [
        "#  Q.31 Explain method overriding in Python\n",
        "ans =(\"Method Overriding allows a child class to redefine a method from its parent class with a new implementation. \\nThis enables customized behavior while maintaining the same method name.\")\n",
        "print(ans)"
      ],
      "metadata": {
        "colab": {
          "base_uri": "https://localhost:8080/"
        },
        "id": "VynO0SoSqXga",
        "outputId": "cd11c5b8-6d53-4951-936c-de0ba8ee1bf6"
      },
      "execution_count": 4,
      "outputs": [
        {
          "output_type": "stream",
          "name": "stdout",
          "text": [
            "Method Overriding allows a child class to redefine a method from its parent class with a new implementation. \n",
            "This enables customized behavior while maintaining the same method name.\n"
          ]
        }
      ]
    },
    {
      "cell_type": "code",
      "source": [
        "#  Q.32 Define a parent class Animal with a method make_sound that prints \"Generic animal sound\". Create a child class Dog inheriting from Animal with a method make_sound that prints \"Woof!\"\n",
        "class Animal:\n",
        "    def make_sound(self):\n",
        "        print(\"Generic animal sound\")\n",
        "\n",
        "class Dog(Animal):\n",
        "    def make_sound(self):\n",
        "        print(\"Woof!\")\n",
        "\n",
        "a = Animal()\n",
        "d = Dog()\n",
        "\n",
        "a.make_sound()\n",
        "d.make_sound()\n"
      ],
      "metadata": {
        "colab": {
          "base_uri": "https://localhost:8080/"
        },
        "id": "BkYuRmdeqhy-",
        "outputId": "fa0b04c5-0fb9-4f75-c7d4-03d5d66149d6"
      },
      "execution_count": 31,
      "outputs": [
        {
          "output_type": "stream",
          "name": "stdout",
          "text": [
            "Generic animal sound\n",
            "Woof!\n"
          ]
        }
      ]
    },
    {
      "cell_type": "code",
      "source": [
        "#  Q.33 Define a method move in the Animal class that prints \"Animal moves\". Override the move method in the Dog class to print \"Dog runs.\n",
        "class Animal:\n",
        "    def move(self):\n",
        "        print(\"Animal moves\")\n",
        "\n",
        "class Dog(Animal):\n",
        "    def move(self):\n",
        "        print(\"Dog runs\")\n",
        "\n",
        "a = Animal()\n",
        "d = Dog()\n",
        "\n",
        "a.move()\n",
        "d.move()"
      ],
      "metadata": {
        "colab": {
          "base_uri": "https://localhost:8080/"
        },
        "id": "RsHsaZd9qi5h",
        "outputId": "15019d01-9494-47c8-c895-4242fd18fa8a"
      },
      "execution_count": 32,
      "outputs": [
        {
          "output_type": "stream",
          "name": "stdout",
          "text": [
            "Animal moves\n",
            "Dog runs\n"
          ]
        }
      ]
    },
    {
      "cell_type": "code",
      "source": [
        "#  Q.34 Create a class Mammal with a method reproduce that prints \"Giving birth to live young.\" Create a class Dog Mammal inheriting from both Dog and Mammal\n",
        "class Mammal:\n",
        "    def reproduce(self):\n",
        "        print(\"Giving birth to live young\")\n",
        "\n",
        "class Animal:\n",
        "    def make_sound(self):\n",
        "        print(\"Generic animal sound\")\n",
        "\n",
        "class Dog(Animal, Mammal):\n",
        "    def make_sound(self):\n",
        "        print(\"Woof!\")\n",
        "\n",
        "d = Dog()\n",
        "d.make_sound()\n",
        "d.reproduce()"
      ],
      "metadata": {
        "colab": {
          "base_uri": "https://localhost:8080/"
        },
        "id": "oXMJgQCFqmU5",
        "outputId": "fb72c828-bf90-48a1-b967-776792a4ca34"
      },
      "execution_count": 33,
      "outputs": [
        {
          "output_type": "stream",
          "name": "stdout",
          "text": [
            "Woof!\n",
            "Giving birth to live young\n"
          ]
        }
      ]
    },
    {
      "cell_type": "code",
      "source": [
        "#  Q.35Create a class GermanShepherd inheriting from Dog and override the make_sound method to print \"Bark!\n",
        "class Animal:\n",
        "    def make_sound(self):\n",
        "        print(\"Generic animal sound\")\n",
        "\n",
        "class Dog(Animal):\n",
        "    def make_sound(self):\n",
        "        print(\"Woof!\")\n",
        "\n",
        "class GermanShepherd(Dog):\n",
        "    def make_sound(self):\n",
        "        print(\"Bark!\")\n",
        "\n",
        "g = GermanShepherd()\n",
        "g.make_sound()\n"
      ],
      "metadata": {
        "colab": {
          "base_uri": "https://localhost:8080/"
        },
        "id": "g9N4aBLeqtu3",
        "outputId": "9f6f0be7-c29a-49bc-e8ac-dc5df4a99254"
      },
      "execution_count": 34,
      "outputs": [
        {
          "output_type": "stream",
          "name": "stdout",
          "text": [
            "Bark!\n"
          ]
        }
      ]
    },
    {
      "cell_type": "code",
      "source": [
        "#  Q.36 Define constructors in both the Animal and Dog classes with different initialization parameters\n",
        "class Animal:\n",
        "    def __init__(self, species):\n",
        "        self.species = species\n",
        "        print(f\"Animal: {self.species}\")\n",
        "\n",
        "class Dog(Animal):\n",
        "    def __init__(self, breed):\n",
        "        super().__init__(\"Dog\")\n",
        "        self.breed = breed\n",
        "        print(f\"Breed: {self.breed}\")\n",
        "\n",
        "d = Dog(\"Labrador\")"
      ],
      "metadata": {
        "colab": {
          "base_uri": "https://localhost:8080/"
        },
        "id": "jZiAQV93rJjr",
        "outputId": "a07127db-a4e5-436c-c61e-8aac7879cea4"
      },
      "execution_count": 35,
      "outputs": [
        {
          "output_type": "stream",
          "name": "stdout",
          "text": [
            "Animal: Dog\n",
            "Breed: Labrador\n"
          ]
        }
      ]
    },
    {
      "cell_type": "code",
      "source": [
        "# Q.37 What is abstraction in Python? How is it implemented\n",
        "a = (\"Abstraction is a concept in Object-Oriented Programming (OOP) that hides implementation details and only shows the necessary functionality.\\n It helps in designing clean and modular code.\")\n",
        "print(a)\n",
        "\n",
        "\n",
        "from abc import ABC, abstractmethod\n",
        "\n",
        "class Animal(ABC):\n",
        "    @abstractmethod\n",
        "    def make_sound(self):\n",
        "        pass\n",
        "\n",
        "class Dog(Animal):\n",
        "    def make_sound(self):\n",
        "        print(\"Woof!\")\n",
        "\n",
        "d = Dog()\n",
        "d.make_sound()"
      ],
      "metadata": {
        "colab": {
          "base_uri": "https://localhost:8080/"
        },
        "id": "jHg93NMxrL0c",
        "outputId": "3e2a93ec-35e5-4b98-8a35-65d26e4996ec"
      },
      "execution_count": 36,
      "outputs": [
        {
          "output_type": "stream",
          "name": "stdout",
          "text": [
            "Abstraction is a concept in Object-Oriented Programming (OOP) that hides implementation details and only shows the necessary functionality.\n",
            " It helps in designing clean and modular code.\n",
            "Woof!\n"
          ]
        }
      ]
    },
    {
      "cell_type": "code",
      "source": [
        "# Q.38 Explain the importance of abstraction in object-oriented programming\n",
        "a =(\"Abstraction is a key principle in Object-Oriented Programming (OOP) that helps in designing clean, scalable, and modular code by hiding implementation details.\")\n",
        "print(a)\n",
        "b =(\"Key Benefits of Abstraction: Hides Complexity:\\n Users interact with only the necessary details, improving usability.\\n Improves Code Maintainability: Changes in implementation do not affect users of the class.\\n Enhances Security: Protects data by restricting direct access to implementation details. \\n Encourages Code Reusability: Common functionality is defined in abstract classes and reused in multiple subclasses.\")\n",
        "print(b)"
      ],
      "metadata": {
        "colab": {
          "base_uri": "https://localhost:8080/"
        },
        "id": "qvwmhUhnrNfa",
        "outputId": "7f8229ea-7e67-4460-fe4b-9e70c4ae01e1"
      },
      "execution_count": 37,
      "outputs": [
        {
          "output_type": "stream",
          "name": "stdout",
          "text": [
            "Abstraction is a key principle in Object-Oriented Programming (OOP) that helps in designing clean, scalable, and modular code by hiding implementation details.\n",
            "Key Benefits of Abstraction: Hides Complexity:\n",
            " Users interact with only the necessary details, improving usability.\n",
            " Improves Code Maintainability: Changes in implementation do not affect users of the class.\n",
            " Enhances Security: Protects data by restricting direct access to implementation details. \n",
            " Encourages Code Reusability: Common functionality is defined in abstract classes and reused in multiple subclasses.\n"
          ]
        }
      ]
    },
    {
      "cell_type": "code",
      "source": [
        "# # Q.39  How are abstract methods different from regular methods in Python\n",
        "a = (\"**Feature Of Abstarct Method**\\n->Declared using @abstractmethod inside an abstract class.\\n->No implementation in the abstract class.\\n->Must be implemented in child classes.\\n->The class containing abstract methods cannot be instantiated.\\n->Enforces method implementation in subclasses\")\n",
        "print(a)\n",
        "b = (\"**Feature of Regular Method**\\n->Defined normally inside any class.\\n->Fully implemented within the class.\\n->Can be inherited and optionally overridden.\\n->The class can be instantiated normally.\\n->Provides functionality directly.\")\n",
        "print(b)"
      ],
      "metadata": {
        "colab": {
          "base_uri": "https://localhost:8080/"
        },
        "id": "IsD4iq0grO-D",
        "outputId": "45b6cdfd-ba85-4a03-85b9-f9a50ad4bcb3"
      },
      "execution_count": 38,
      "outputs": [
        {
          "output_type": "stream",
          "name": "stdout",
          "text": [
            "**Feature Of Abstarct Method**\n",
            "->Declared using @abstractmethod inside an abstract class.\n",
            "->No implementation in the abstract class.\n",
            "->Must be implemented in child classes.\n",
            "->The class containing abstract methods cannot be instantiated.\n",
            "->Enforces method implementation in subclasses\n",
            "**Feature of Regular Method**\n",
            "->Defined normally inside any class.\n",
            "->Fully implemented within the class.\n",
            "->Can be inherited and optionally overridden.\n",
            "->The class can be instantiated normally.\n",
            "->Provides functionality directly.\n"
          ]
        }
      ]
    },
    {
      "cell_type": "code",
      "source": [
        "# Q.40 How can you achieve abstraction using interfaces in Python?\n",
        "from abc import ABC, abstractmethod\n",
        "\n",
        "class Animal(ABC):\n",
        "    @abstractmethod\n",
        "    def make_sound(self):\n",
        "        pass\n",
        "\n",
        "class Dog(Animal):\n",
        "    def make_sound(self):\n",
        "        print(\"Woof!\")\n",
        "\n",
        "class Cat(Animal):\n",
        "    def make_sound(self):\n",
        "        print(\"Meow!\")\n",
        "\n",
        "d = Dog()\n",
        "d.make_sound()\n",
        "\n",
        "c = Cat()\n",
        "c.make_sound()"
      ],
      "metadata": {
        "colab": {
          "base_uri": "https://localhost:8080/"
        },
        "id": "rNwBNY7frSiQ",
        "outputId": "64854fd8-a365-4a72-99db-8db4efc82278"
      },
      "execution_count": 39,
      "outputs": [
        {
          "output_type": "stream",
          "name": "stdout",
          "text": [
            "Woof!\n",
            "Meow!\n"
          ]
        }
      ]
    },
    {
      "cell_type": "code",
      "source": [
        "# Q.41 Can you provide an example of how abstraction can be utilized to create a common interface for a group of related classes in Python?\n",
        "from abc import ABC, abstractmethod\n",
        "\n",
        "class Vehicle(ABC):\n",
        "    @abstractmethod\n",
        "    def start_engine(self):\n",
        "        pass\n",
        "\n",
        "class Car(Vehicle):\n",
        "    def start_engine(self):\n",
        "        print(\"Car engine starts with a key or push button.\")\n",
        "\n",
        "class Bike(Vehicle):\n",
        "    def start_engine(self):\n",
        "        print(\"Bike engine starts with a kick or button.\")\n",
        "\n",
        "class Truck(Vehicle):\n",
        "    def start_engine(self):\n",
        "        print(\"Truck engine starts with a heavy-duty ignition system.\")\n",
        "\n",
        "# Creating objects\n",
        "vehicles = [Car(), Bike(), Truck()]\n",
        "\n",
        "for v in vehicles:\n",
        "    v.start_engine()\n"
      ],
      "metadata": {
        "colab": {
          "base_uri": "https://localhost:8080/"
        },
        "id": "u1BbeLbmwf8F",
        "outputId": "24d7a8bf-9885-41dc-bd6f-2348300cc180"
      },
      "execution_count": 40,
      "outputs": [
        {
          "output_type": "stream",
          "name": "stdout",
          "text": [
            "Car engine starts with a key or push button.\n",
            "Bike engine starts with a kick or button.\n",
            "Truck engine starts with a heavy-duty ignition system.\n"
          ]
        }
      ]
    },
    {
      "cell_type": "code",
      "source": [
        "# Q.42 How does Python achieve polymorphism through method overriding?\n",
        "a = (\"Polymorphism allows different classes to have methods with the same name but different behaviors.\\nIn method overriding, a subclass redefines a method from its parent class to provide a different implementation.\")\n",
        "print(a)"
      ],
      "metadata": {
        "colab": {
          "base_uri": "https://localhost:8080/"
        },
        "id": "o1qeHllCw0wV",
        "outputId": "cd7e12d5-471c-4595-e837-0aa5ea8e9bbe"
      },
      "execution_count": 41,
      "outputs": [
        {
          "output_type": "stream",
          "name": "stdout",
          "text": [
            "Polymorphism allows different classes to have methods with the same name but different behaviors.\n",
            "In method overriding, a subclass redefines a method from its parent class to provide a different implementation.\n"
          ]
        }
      ]
    },
    {
      "cell_type": "code",
      "source": [
        "# Q.43 Define a base class with a method and a subclass that overrides the method.\n",
        "class Animal:\n",
        "    def make_sound(self):\n",
        "        print(\"Animal makes a sound\")\n",
        "\n",
        "class Dog(Animal):\n",
        "    def make_sound(self):\n",
        "        print(\"Woof!\")\n",
        "\n",
        "a = Animal()\n",
        "a.make_sound()\n",
        "\n",
        "d = Dog()\n",
        "d.make_sound()\n",
        "#Here, the Dog class overrides the make_sound method of the Animal class, demonstrating method overriding."
      ],
      "metadata": {
        "colab": {
          "base_uri": "https://localhost:8080/"
        },
        "id": "8gjHX29Nw6qx",
        "outputId": "6f4af73c-1be7-41bc-828a-819bacf92732"
      },
      "execution_count": 42,
      "outputs": [
        {
          "output_type": "stream",
          "name": "stdout",
          "text": [
            "Animal makes a sound\n",
            "Woof!\n"
          ]
        }
      ]
    },
    {
      "cell_type": "code",
      "source": [
        "# Q.44 Define a base class and multiple subclasses with overridden methods.\n",
        "class Animal:\n",
        "    def make_sound(self):\n",
        "        print(\"Animal makes a sound\")\n",
        "\n",
        "class Dog(Animal):\n",
        "    def make_sound(self):\n",
        "        print(\"Woof!\")\n",
        "\n",
        "class Cat(Animal):\n",
        "    def make_sound(self):\n",
        "        print(\"Meow!\")\n",
        "\n",
        "class Cow(Animal):\n",
        "    def make_sound(self):\n",
        "        print(\"Moo!\")\n",
        "\n",
        "animals = [Dog(), Cat(), Cow(), Animal()]\n",
        "\n",
        "for animal in animals:\n",
        "    animal.make_sound()\n"
      ],
      "metadata": {
        "colab": {
          "base_uri": "https://localhost:8080/"
        },
        "id": "7078j8nOxRQC",
        "outputId": "b46e948b-4a3a-4b62-9dcd-60e3c65a9915"
      },
      "execution_count": 43,
      "outputs": [
        {
          "output_type": "stream",
          "name": "stdout",
          "text": [
            "Woof!\n",
            "Meow!\n",
            "Moo!\n",
            "Animal makes a sound\n"
          ]
        }
      ]
    },
    {
      "cell_type": "code",
      "source": [
        "# Q.45 How does polymorphism improve code readability and reusability?\n",
        "a =(\"Polymorphism allows different classes to be used through a common interface, making the code more readable, flexible, and reusable.\")\n",
        "print(a)\n",
        "\n",
        "class Dog:\n",
        "    def bark(self):\n",
        "        print(\"Woof!\")\n",
        "\n",
        "class Cat:\n",
        "    def meow(self):\n",
        "        print(\"Meow!\")\n",
        "\n",
        "animals = [Dog(), Cat()]\n",
        "\n",
        "for animal in animals:\n",
        "    if isinstance(animal, Dog):\n",
        "        animal.bark()\n",
        "    elif isinstance(animal, Cat):\n",
        "        animal.meow()\n",
        "#less readable"
      ],
      "metadata": {
        "colab": {
          "base_uri": "https://localhost:8080/"
        },
        "id": "ttPpV26FxkVu",
        "outputId": "e5fcbf5b-0610-4b0c-bc82-d2bcb827d0b5"
      },
      "execution_count": 44,
      "outputs": [
        {
          "output_type": "stream",
          "name": "stdout",
          "text": [
            "Polymorphism allows different classes to be used through a common interface, making the code more readable, flexible, and reusable.\n",
            "Woof!\n",
            "Meow!\n"
          ]
        }
      ]
    },
    {
      "cell_type": "code",
      "source": [
        "# more readable\n",
        "class Animal:\n",
        "    def make_sound(self):\n",
        "        pass\n",
        "\n",
        "class Dog(Animal):\n",
        "    def make_sound(self):\n",
        "        print(\"Woof!\")\n",
        "\n",
        "class Cat(Animal):\n",
        "    def make_sound(self):\n",
        "        print(\"Meow!\")\n",
        "\n",
        "animals = [Dog(), Cat()]\n",
        "\n",
        "for animal in animals:\n",
        "    animal.make_sound()\n"
      ],
      "metadata": {
        "colab": {
          "base_uri": "https://localhost:8080/"
        },
        "id": "Tv16-GIhLSw5",
        "outputId": "85d6c94b-4511-402d-e93d-a14469e3de7e"
      },
      "execution_count": 45,
      "outputs": [
        {
          "output_type": "stream",
          "name": "stdout",
          "text": [
            "Woof!\n",
            "Meow!\n"
          ]
        }
      ]
    },
    {
      "cell_type": "code",
      "source": [
        "# Q.46 Describe how Python supports polymorphism with duck typing.\n",
        "a = (\"Python follows the duck typing principle:\\nIf it looks like a duck and quacks like a duck, then it must be a duck.In duck typing, Python does not check an object's type explicitly.\\nInstead, it checks if the object has the required method or attribute.This allows different objects to be used interchangeably as long as they provide the expected behavior.\")\n",
        "print(a)"
      ],
      "metadata": {
        "colab": {
          "base_uri": "https://localhost:8080/"
        },
        "id": "Ps-efYC9xizF",
        "outputId": "7fdc59bc-6e36-4bba-fd14-46fb8080e397"
      },
      "execution_count": 46,
      "outputs": [
        {
          "output_type": "stream",
          "name": "stdout",
          "text": [
            "Python follows the duck typing principle:\n",
            "If it looks like a duck and quacks like a duck, then it must be a duck.In duck typing, Python does not check an object's type explicitly.\n",
            "Instead, it checks if the object has the required method or attribute.This allows different objects to be used interchangeably as long as they provide the expected behavior.\n"
          ]
        }
      ]
    },
    {
      "cell_type": "code",
      "source": [
        "# Q.47 How do you achieve encapsulation in Python?\n",
        "class BankAccount:\n",
        "    def __init__(self, balance):\n",
        "        self.__balance = balance  # Private attribute\n",
        "\n",
        "    def get_balance(self):  # Getter method\n",
        "        return self.__balance\n",
        "\n",
        "    def deposit(self, amount):  # Setter method\n",
        "        if amount > 0:\n",
        "            self.__balance += amount\n",
        "\n",
        "account = BankAccount(1000)\n",
        "print(account.get_balance())  # Accessing via getter\n",
        "account.deposit(500)\n",
        "print(account.get_balance())\n",
        "\n",
        "# Trying to access private attribute directly\n",
        "# print(account.__balance)  # This will give an AttributeError\n",
        "\n",
        "# Accessing private attribute using name mangling\n",
        "print(account._BankAccount__balance)  # Bypassing encapsulation"
      ],
      "metadata": {
        "colab": {
          "base_uri": "https://localhost:8080/"
        },
        "id": "61B_Y2F1xgsi",
        "outputId": "1d642d52-1f53-49e4-9c7d-65e23f2409cf"
      },
      "execution_count": 82,
      "outputs": [
        {
          "output_type": "stream",
          "name": "stdout",
          "text": [
            "1000\n",
            "1500\n",
            "1500\n"
          ]
        }
      ]
    },
    {
      "cell_type": "code",
      "source": [
        "# Q.48 Can encapsulation be bypassed in Python? If so, how?\n",
        "a =(\"Yes! Encapsulation can be bypassed in Python because Python does not strictly enforce access restrictions like private (__variable) and protected (_variable) attributes.\")\n",
        "print(a)\n",
        "class Example:\n",
        "    def __init__(self):\n",
        "        self.__hidden = \"This is a private attribute\"\n",
        "\n",
        "    def get_hidden(self):\n",
        "        return self.__hidden  # Accessing normally inside the class\n",
        "\n",
        "e = Example()\n",
        "print(e.get_hidden())       # Correct way (using a method)\n",
        "print(e._Example__hidden)   # Bypassing encapsulation using name mangling"
      ],
      "metadata": {
        "colab": {
          "base_uri": "https://localhost:8080/"
        },
        "id": "3rMQ3U9qxa2n",
        "outputId": "03651f53-8a21-4207-ce68-b5b58f2f190a"
      },
      "execution_count": 81,
      "outputs": [
        {
          "output_type": "stream",
          "name": "stdout",
          "text": [
            "Yes! Encapsulation can be bypassed in Python because Python does not strictly enforce access restrictions like private (__variable) and protected (_variable) attributes.\n",
            "This is a private attribute\n",
            "This is a private attribute\n"
          ]
        }
      ]
    },
    {
      "cell_type": "code",
      "source": [
        "# Q.49 Implement a class BankAccount with a private balance attribute. Include methods to deposit, withdraw, and check the balance?\n",
        "class BankAccount:\n",
        "    def __init__(self, initial_balance):\n",
        "        self.__balance = initial_balance\n",
        "\n",
        "    def deposit(self, amount):\n",
        "        if amount > 0:\n",
        "            self.__balance += amount\n",
        "\n",
        "    def withdraw(self, amount):\n",
        "        if 0 < amount <= self.__balance:\n",
        "            self.__balance -= amount\n",
        "\n",
        "    def check_balance(self):\n",
        "        return self.__balance\n",
        "\n",
        "# Creating an account with an initial balance of 1000\n",
        "account = BankAccount(1000)\n",
        "\n",
        "# Performing transactions\n",
        "account.deposit(500)\n",
        "account.withdraw(200)\n",
        "\n",
        "# Checking balance\n",
        "print(\"Final Balance:\", account.check_balance())\n"
      ],
      "metadata": {
        "colab": {
          "base_uri": "https://localhost:8080/"
        },
        "id": "DFEUzTPexYOJ",
        "outputId": "a5f19204-1e33-4cc4-8db7-ee2bf2f92593"
      },
      "execution_count": 50,
      "outputs": [
        {
          "output_type": "stream",
          "name": "stdout",
          "text": [
            "Final Balance: 1300\n"
          ]
        }
      ]
    },
    {
      "cell_type": "code",
      "source": [
        "# Q.50 Develop a Person class with private attributes name and email, and methods to set and get the email?\n",
        "class Person:\n",
        "    def __init__(self, name, email):\n",
        "        self.__name = name  # Private attribute\n",
        "        self.__email = email  # Private attribute\n",
        "\n",
        "    def set_email(self, new_email):\n",
        "        self.__email = new_email\n",
        "\n",
        "    def get_email(self):\n",
        "        return self.__email\n",
        "\n",
        "# Creating a Person object\n",
        "person = Person(\"John Doe\", \"john@example.com\")\n",
        "\n",
        "# Updating email\n",
        "person.set_email(\"john.doe@gmail.com\")\n",
        "\n",
        "# Getting email\n",
        "print(\"Updated Email:\", person.get_email())"
      ],
      "metadata": {
        "colab": {
          "base_uri": "https://localhost:8080/"
        },
        "id": "8K46ppoVxXiQ",
        "outputId": "9e24de98-8a3e-441a-d1b0-9a270d506332"
      },
      "execution_count": 51,
      "outputs": [
        {
          "output_type": "stream",
          "name": "stdout",
          "text": [
            "Updated Email: john.doe@gmail.com\n"
          ]
        }
      ]
    },
    {
      "cell_type": "code",
      "source": [
        "# Q.51 Why is encapsulation considered a pillar of object-oriented programming (OOP)?\n",
        "a=(\"Encapsulation is one of the four main pillars of Object-Oriented Programming (OOP) along with Abstraction, Inheritance, and Polymorphism.\\nIt is considered a key principle because\\nData Protection – Prevents direct access to data, reducing accidental modifications.\\n Improved Code Security – Private attributes keep sensitive information hidden.\\n Better Code Maintainability – Restricts access to internal implementation, making changes easier.\\n Encapsulation Supports Abstraction – Hides internal logic while exposing only the necessary details.\")\n",
        "print(a)"
      ],
      "metadata": {
        "colab": {
          "base_uri": "https://localhost:8080/"
        },
        "id": "AzL3Oa01xTMo",
        "outputId": "ea396ba5-63aa-47c0-ce3c-00ac97ca3966"
      },
      "execution_count": 52,
      "outputs": [
        {
          "output_type": "stream",
          "name": "stdout",
          "text": [
            "Encapsulation is one of the four main pillars of Object-Oriented Programming (OOP) along with Abstraction, Inheritance, and Polymorphism.\n",
            "It is considered a key principle because\n",
            "Data Protection – Prevents direct access to data, reducing accidental modifications.\n",
            " Improved Code Security – Private attributes keep sensitive information hidden.\n",
            " Better Code Maintainability – Restricts access to internal implementation, making changes easier.\n",
            " Encapsulation Supports Abstraction – Hides internal logic while exposing only the necessary details.\n"
          ]
        }
      ]
    },
    {
      "cell_type": "code",
      "source": [
        "#Q.52 Create a decorator in Python that adds functionality to a simple function by printing a message before and after the function execution.\n",
        "def decorator(func):\n",
        "    def wrapper():\n",
        "        print(\"Before function execution\")\n",
        "        func()\n",
        "        print(\"After function execution\")\n",
        "    return wrapper\n",
        "\n",
        "@decorator\n",
        "def simple_function():\n",
        "    print(\"Inside the function\")\n",
        "\n",
        "simple_function()"
      ],
      "metadata": {
        "colab": {
          "base_uri": "https://localhost:8080/"
        },
        "id": "MYA9POnlPObf",
        "outputId": "ec3acff8-d322-4a1c-c7aa-5c92fbb68faf"
      },
      "execution_count": 53,
      "outputs": [
        {
          "output_type": "stream",
          "name": "stdout",
          "text": [
            "Before function execution\n",
            "Inside the function\n",
            "After function execution\n"
          ]
        }
      ]
    },
    {
      "cell_type": "code",
      "source": [
        "#Q.53  Modify the decorator to accept arguments and print the function name along with the message.\n",
        "def decorator(func):\n",
        "    def wrapper(*args, **kwargs):\n",
        "        print(f\"Executing {func.__name__}...\")\n",
        "        result = func(*args, **kwargs)\n",
        "        print(f\"Finished execution of {func.__name__}\")\n",
        "        return result\n",
        "    return wrapper\n",
        "\n",
        "@decorator\n",
        "def greet(name):\n",
        "    print(f\"Hello, {name}!\")\n",
        "\n",
        "greet(\"Alice\")"
      ],
      "metadata": {
        "colab": {
          "base_uri": "https://localhost:8080/"
        },
        "id": "h979dptLP9J7",
        "outputId": "de43ed02-0a1a-438f-b2d8-24d74eec405a"
      },
      "execution_count": 54,
      "outputs": [
        {
          "output_type": "stream",
          "name": "stdout",
          "text": [
            "Executing greet...\n",
            "Hello, Alice!\n",
            "Finished execution of greet\n"
          ]
        }
      ]
    },
    {
      "cell_type": "code",
      "source": [
        "#Q.54  Create two decorators, and apply them to a single function. Ensure that they execute in the order they are applied.\n",
        "def decorator1(func):\n",
        "    def wrapper(*args, **kwargs):\n",
        "        print(\"Decorator 1: Before function execution\")\n",
        "        result = func(*args, **kwargs)\n",
        "        print(\"Decorator 1: After function execution\")\n",
        "        return result\n",
        "    return wrapper\n",
        "\n",
        "def decorator2(func):\n",
        "    def wrapper(*args, **kwargs):\n",
        "        print(\"Decorator 2: Before function execution\")\n",
        "        result = func(*args, **kwargs)\n",
        "        print(\"Decorator 2: After function execution\")\n",
        "        return result\n",
        "    return wrapper\n",
        "\n",
        "@decorator1\n",
        "@decorator2\n",
        "def greet(name):\n",
        "    print(f\"Hello, {name}!\")\n",
        "\n",
        "greet(\"Alice\")"
      ],
      "metadata": {
        "colab": {
          "base_uri": "https://localhost:8080/"
        },
        "id": "4ZvjmT1OQAym",
        "outputId": "745e5dd3-20ae-4b82-b17d-4e3ad714a6dc"
      },
      "execution_count": 55,
      "outputs": [
        {
          "output_type": "stream",
          "name": "stdout",
          "text": [
            "Decorator 1: Before function execution\n",
            "Decorator 2: Before function execution\n",
            "Hello, Alice!\n",
            "Decorator 2: After function execution\n",
            "Decorator 1: After function execution\n"
          ]
        }
      ]
    },
    {
      "cell_type": "code",
      "source": [
        "#Q.55  Modify the decorator to accept and pass function arguments to the wrapped function.\n",
        "def decorator(func):\n",
        "    def wrapper(*args, **kwargs):\n",
        "        print(f\"Executing {func.__name__} with arguments: {args}, {kwargs}\")\n",
        "        result = func(*args, **kwargs)\n",
        "        print(f\"Finished execution of {func.__name__}\")\n",
        "        return result\n",
        "    return wrapper\n",
        "\n",
        "@decorator\n",
        "def add(a, b):\n",
        "    return a + b\n",
        "\n",
        "print(\"Result:\", add(3, 5))"
      ],
      "metadata": {
        "colab": {
          "base_uri": "https://localhost:8080/"
        },
        "id": "vfbkum3KQCdz",
        "outputId": "2155da1c-95af-4695-cab8-34018db20987"
      },
      "execution_count": 56,
      "outputs": [
        {
          "output_type": "stream",
          "name": "stdout",
          "text": [
            "Executing add with arguments: (3, 5), {}\n",
            "Finished execution of add\n",
            "Result: 8\n"
          ]
        }
      ]
    },
    {
      "cell_type": "code",
      "source": [
        "#Q.56  Create a decorator that preserves the metadata of the original function.\n",
        "import functools\n",
        "\n",
        "def decorator(func):\n",
        "    @functools.wraps(func)  # Preserves original function metadata\n",
        "    def wrapper(*args, **kwargs):\n",
        "        print(f\"Executing {func.__name__}\")\n",
        "        return func(*args, **kwargs)\n",
        "    return wrapper\n",
        "\n",
        "@decorator\n",
        "def greet(name):\n",
        "    \"\"\"This function greets a person.\"\"\"\n",
        "    print(f\"Hello, {name}!\")\n",
        "\n",
        "print(greet.__name__)  # Output: greet\n",
        "print(greet.__doc__)   # Output: This function greets a person."
      ],
      "metadata": {
        "colab": {
          "base_uri": "https://localhost:8080/"
        },
        "id": "M9811JZVQDt4",
        "outputId": "78faf382-9586-4647-9d0f-3a7f95a926cd"
      },
      "execution_count": 57,
      "outputs": [
        {
          "output_type": "stream",
          "name": "stdout",
          "text": [
            "greet\n",
            "This function greets a person.\n"
          ]
        }
      ]
    },
    {
      "cell_type": "code",
      "source": [
        "#Q.57  Create a Python class `Calculator` with a static method `add` that takes in two numbers and returns their sum.\n",
        "class Calculator:\n",
        "    @staticmethod\n",
        "    def add(a, b):\n",
        "        return a + b\n",
        "\n",
        "print(Calculator.add(3, 5))"
      ],
      "metadata": {
        "colab": {
          "base_uri": "https://localhost:8080/"
        },
        "id": "9bEZ3s8QQFsr",
        "outputId": "c1fb3439-bc7a-4fca-c907-c28049eafd8e"
      },
      "execution_count": 58,
      "outputs": [
        {
          "output_type": "stream",
          "name": "stdout",
          "text": [
            "8\n"
          ]
        }
      ]
    },
    {
      "cell_type": "code",
      "source": [
        "#Q.58  Create a Python class `Employee` with a class `method get_employee_count` that returns the total number of employees created.\n",
        "class Employee:\n",
        "    count = 0\n",
        "\n",
        "    def __init__(self, name):\n",
        "        self.name = name\n",
        "        Employee.count += 1\n",
        "\n",
        "    @classmethod\n",
        "    def get_employee_count(cls):\n",
        "        return cls.count\n",
        "\n",
        "e1 = Employee(\"Alice\")\n",
        "e2 = Employee(\"Bob\")\n",
        "\n",
        "print(Employee.get_employee_count())"
      ],
      "metadata": {
        "colab": {
          "base_uri": "https://localhost:8080/"
        },
        "id": "yH6qhlJ_QIrv",
        "outputId": "3b0391bb-eb5c-48af-acf0-cdfd22a0f071"
      },
      "execution_count": 59,
      "outputs": [
        {
          "output_type": "stream",
          "name": "stdout",
          "text": [
            "2\n"
          ]
        }
      ]
    },
    {
      "cell_type": "code",
      "source": [
        "#Q.59  Create a Python class `StringFormatter` with a static method `reverse_string` that takes a string as input and returns its reverse.\n",
        "class StringFormatter:\n",
        "    @staticmethod\n",
        "    def reverse_string(s):\n",
        "        return s[::-1]\n",
        "\n",
        "print(StringFormatter.reverse_string(\"hello\"))"
      ],
      "metadata": {
        "colab": {
          "base_uri": "https://localhost:8080/"
        },
        "id": "VpjT-eECQLCu",
        "outputId": "895060db-7e9d-42f8-a0d5-c82af48049f5"
      },
      "execution_count": 60,
      "outputs": [
        {
          "output_type": "stream",
          "name": "stdout",
          "text": [
            "olleh\n"
          ]
        }
      ]
    },
    {
      "cell_type": "code",
      "source": [
        "#Q.60  Create a Python class `Circle` with a class method `calculate_area` that calculates the area of a circle given its radius.\n",
        "import math\n",
        "\n",
        "class Circle:\n",
        "    @classmethod\n",
        "    def calculate_area(cls, radius):\n",
        "        return math.pi * radius ** 2\n",
        "\n",
        "print(Circle.calculate_area(5))"
      ],
      "metadata": {
        "colab": {
          "base_uri": "https://localhost:8080/"
        },
        "id": "sAT3L4kYQM1o",
        "outputId": "e6d4a146-c8ad-47f0-85fd-4a105c690f71"
      },
      "execution_count": 61,
      "outputs": [
        {
          "output_type": "stream",
          "name": "stdout",
          "text": [
            "78.53981633974483\n"
          ]
        }
      ]
    },
    {
      "cell_type": "code",
      "source": [
        "#Q.61  Create a Python class `TemperatureConverter` with a static method `celsius_to_fahrenheit` that converts Celsius to Fahrenheit.\n",
        "class TemperatureConverter:\n",
        "    @staticmethod\n",
        "    def celsius_to_fahrenheit(c):\n",
        "        return (c * 9/5) + 32\n",
        "\n",
        "print(TemperatureConverter.celsius_to_fahrenheit(25))"
      ],
      "metadata": {
        "colab": {
          "base_uri": "https://localhost:8080/"
        },
        "id": "FGbp8xn9QODS",
        "outputId": "0826706b-36d9-4969-93cb-72cf7ffa0467"
      },
      "execution_count": 62,
      "outputs": [
        {
          "output_type": "stream",
          "name": "stdout",
          "text": [
            "77.0\n"
          ]
        }
      ]
    },
    {
      "cell_type": "code",
      "source": [
        "# Q.62 What is the purpose of the __str__() method in Python classes? Provide an example.\n",
        "a=(\"The __str__() method in Python is used to define a human-readable string representation of an object.\\n When print(object) or str(object) is called, Python automatically calls __str__().\")\n",
        "print(a)\n",
        "\n",
        "# example\n",
        "class Person:\n",
        "    def __init__(self, name, age):\n",
        "        self.name = name\n",
        "        self.age = age\n",
        "\n",
        "    def __str__(self):\n",
        "        return f\"{self.name} is {self.age} years old.\"\n",
        "\n",
        "p = Person(\"Alice\", 25)\n",
        "print(p)\n"
      ],
      "metadata": {
        "colab": {
          "base_uri": "https://localhost:8080/"
        },
        "id": "S88K47n0RMNR",
        "outputId": "b93a3886-efe9-426f-97cd-c90130d77ec6"
      },
      "execution_count": 63,
      "outputs": [
        {
          "output_type": "stream",
          "name": "stdout",
          "text": [
            "The __str__() method in Python is used to define a human-readable string representation of an object.\n",
            " When print(object) or str(object) is called, Python automatically calls __str__().\n",
            "Alice is 25 years old.\n"
          ]
        }
      ]
    },
    {
      "cell_type": "code",
      "source": [
        "# Q.63 How does the __len__() method work in Python? Provide an example.\n",
        "class Book:\n",
        "    def __init__(self, title, pages):\n",
        "        self.title = title\n",
        "        self.pages = pages\n",
        "\n",
        "    def __len__(self):\n",
        "        return self.pages\n",
        "\n",
        "b = Book(\"Python Basics\", 300)\n",
        "print(len(b))"
      ],
      "metadata": {
        "colab": {
          "base_uri": "https://localhost:8080/"
        },
        "id": "FN3X9GPmRO2R",
        "outputId": "e816a92d-0417-403e-91d4-7265f2a8b189"
      },
      "execution_count": 64,
      "outputs": [
        {
          "output_type": "stream",
          "name": "stdout",
          "text": [
            "300\n"
          ]
        }
      ]
    },
    {
      "cell_type": "code",
      "source": [
        "# Q.64 Explain the usage of the __add__() method in Python classes. Provide an example.\n",
        "a =(\"The __add__() method allows operator overloading for the + operator in custom classes. It defines how objects of the class should behave when added together.\")\n",
        "print(a)\n",
        "#example\n",
        "class Money:\n",
        "    def __init__(self, amount):\n",
        "        self.amount = amount\n",
        "\n",
        "    def __add__(self, other):\n",
        "        return Money(self.amount + other.amount)\n",
        "\n",
        "    def __str__(self):\n",
        "        return f\"${self.amount}\"\n",
        "\n",
        "m1 = Money(50)\n",
        "m2 = Money(30)\n",
        "m3 = m1 + m2\n",
        "print(m3)"
      ],
      "metadata": {
        "colab": {
          "base_uri": "https://localhost:8080/"
        },
        "id": "ylViaUDqRQM8",
        "outputId": "b134f2a5-fa90-4a8f-a8b9-e1a9296240bb"
      },
      "execution_count": 65,
      "outputs": [
        {
          "output_type": "stream",
          "name": "stdout",
          "text": [
            "The __add__() method allows operator overloading for the + operator in custom classes. It defines how objects of the class should behave when added together.\n",
            "$80\n"
          ]
        }
      ]
    },
    {
      "cell_type": "code",
      "source": [
        "# Q.65 What is the purpose of the __getitem__() method in Python? Provide an example.\n",
        "a=(\"The __getitem__() method allows instances of a class to use indexing (obj[index]) like lists or dictionaries. It helps in creating custom iterable objects.\")\n",
        "print(a)\n",
        "class ShoppingCart:\n",
        "    def __init__(self, items):\n",
        "        self.items = items\n",
        "\n",
        "    def __getitem__(self, index):\n",
        "        return self.items[index]\n",
        "\n",
        "cart = ShoppingCart([\"Apples\", \"Bananas\", \"Cherries\"])\n",
        "print(cart[1])"
      ],
      "metadata": {
        "colab": {
          "base_uri": "https://localhost:8080/"
        },
        "id": "fx6Ofrn7RUAd",
        "outputId": "c416554b-5663-4793-a9fb-0e98f5813030"
      },
      "execution_count": 66,
      "outputs": [
        {
          "output_type": "stream",
          "name": "stdout",
          "text": [
            "The __getitem__() method allows instances of a class to use indexing (obj[index]) like lists or dictionaries. It helps in creating custom iterable objects.\n",
            "Bananas\n"
          ]
        }
      ]
    },
    {
      "cell_type": "code",
      "source": [
        "# Q.66 Explain the usage of the __iter__() and __next__() methods in Python. Provide an example using iterators.\n",
        "a=(\"The __iter__() method returns an iterator object, and the __next__() method returns the next value from the iterator.\")\n",
        "print(a)\n",
        "class Count:\n",
        "    def __init__(self, start, end):\n",
        "        self.current = start\n",
        "        self.end = end\n",
        "\n",
        "    def __iter__(self):\n",
        "        return self\n",
        "\n",
        "    def __next__(self):\n",
        "        if self.current > self.end:\n",
        "            raise StopIteration\n",
        "        value = self.current\n",
        "        self.current += 1\n",
        "        return value\n",
        "\n",
        "counter = Count(1, 5)\n",
        "for num in counter:\n",
        "    print(num)"
      ],
      "metadata": {
        "colab": {
          "base_uri": "https://localhost:8080/"
        },
        "id": "pWmqrWEeRc5c",
        "outputId": "f2b2c3c4-1959-4474-d1d9-7a281b808ab6"
      },
      "execution_count": 67,
      "outputs": [
        {
          "output_type": "stream",
          "name": "stdout",
          "text": [
            "The __iter__() method returns an iterator object, and the __next__() method returns the next value from the iterator.\n",
            "1\n",
            "2\n",
            "3\n",
            "4\n",
            "5\n"
          ]
        }
      ]
    },
    {
      "cell_type": "code",
      "source": [
        "# Q.67 What is the purpose of a getter method in Python? Provide an example demonstrating the use of a getter method using property decorators.\n",
        "class Person:\n",
        "    def __init__(self, name):\n",
        "        self._name = name  # Private attribute\n",
        "\n",
        "    @property\n",
        "    def name(self):\n",
        "        return self._name  # Getter method\n",
        "\n",
        "p = Person(\"Ajay\")\n",
        "print(p.name)"
      ],
      "metadata": {
        "colab": {
          "base_uri": "https://localhost:8080/"
        },
        "id": "JL-mbEsjReb8",
        "outputId": "b6db5fe1-e443-48bc-e2f7-7df12984b335"
      },
      "execution_count": 73,
      "outputs": [
        {
          "output_type": "stream",
          "name": "stdout",
          "text": [
            "Ajay\n"
          ]
        }
      ]
    },
    {
      "cell_type": "code",
      "source": [
        "# Q.68 Explain the role of setter methods in Python. Demonstrate how to use a setter method to modify a class attribute using property decorators.\n",
        "a=(\"A setter method allows controlled modification of a private attribute in a class. It is implemented using the @property and @<attribute>.setter decorators.\")\n",
        "print(a)\n",
        "class Person:\n",
        "    def __init__(self, name):\n",
        "        self._name = name  # Private attribute\n",
        "\n",
        "    @property\n",
        "    def name(self):\n",
        "        return self._name  # Getter method\n",
        "\n",
        "    @name.setter\n",
        "    def name(self, new_name):\n",
        "        if isinstance(new_name, str) and new_name.strip():\n",
        "            self._name = new_name  # Setter method\n",
        "        else:\n",
        "            raise ValueError(\"Invalid name\")\n",
        "\n",
        "p = Person(\"Alice\")\n",
        "print(p.name)  # Getting the name\n",
        "\n",
        "p.name = \"Bob\"  #new name\n",
        "print(p.name)  #updated"
      ],
      "metadata": {
        "colab": {
          "base_uri": "https://localhost:8080/"
        },
        "id": "veQl5JNmRf6a",
        "outputId": "7b4d4cec-07ce-46c5-f306-375c7ccabf22"
      },
      "execution_count": 74,
      "outputs": [
        {
          "output_type": "stream",
          "name": "stdout",
          "text": [
            "A setter method allows controlled modification of a private attribute in a class. It is implemented using the @property and @<attribute>.setter decorators.\n",
            "Alice\n",
            "Bob\n"
          ]
        }
      ]
    },
    {
      "cell_type": "code",
      "source": [
        "# Q.69 What is the purpose of the @property decorator in Python? Provide an example illustrating its usage.\n",
        "a=(\"The @property decorator is used to define getter methods, allowing access to a private attribute without directly exposing it.\\n It helps in encapsulation by controlling how attributes are accessed and modified.\")\n",
        "print(a)\n",
        "class Circle:\n",
        "    def __init__(self, radius):\n",
        "        self._radius = radius  #private\n",
        "\n",
        "    @property\n",
        "    def radius(self):\n",
        "        return self._radius  # getter\n",
        "\n",
        "    @property\n",
        "    def area(self):\n",
        "        return 3.14 * self._radius ** 2  # derived\n",
        "\n",
        "c = Circle(5)\n",
        "print(c.radius)  # private attribute\n",
        "print(c.area)    # Calculating area without a separate method"
      ],
      "metadata": {
        "colab": {
          "base_uri": "https://localhost:8080/"
        },
        "id": "YnytasEoRikR",
        "outputId": "aa601706-4b6f-4e29-9e5d-3e9176c078b0"
      },
      "execution_count": 76,
      "outputs": [
        {
          "output_type": "stream",
          "name": "stdout",
          "text": [
            "The @property decorator is used to define getter methods, allowing access to a private attribute without directly exposing it.\n",
            " It helps in encapsulation by controlling how attributes are accessed and modified.\n",
            "5\n",
            "78.5\n"
          ]
        }
      ]
    },
    {
      "cell_type": "code",
      "source": [
        "# Q.70 Explain the use of the @deleter decorator in Python property decorators. Provide a code example demonstrating its application.\n",
        "a=(\"The @deleter decorator is used to define a deletion method for a property. It allows controlled deletion of a private attribute while preventing accidental removal.\")\n",
        "print(a)\n",
        "class Person:\n",
        "    def __init__(self, name):\n",
        "        self._name = name  # private attribute\n",
        "\n",
        "    @property\n",
        "    def name(self):\n",
        "        return self._name  # getter\n",
        "\n",
        "    @name.deleter\n",
        "    def name(self):\n",
        "        print(\"Deleting name...\")\n",
        "        del self._name  # deleting the attr\n",
        "\n",
        "p = Person(\"Alice\")\n",
        "print(p.name)  # Access name\n",
        "del p.name     # Delete name"
      ],
      "metadata": {
        "colab": {
          "base_uri": "https://localhost:8080/"
        },
        "id": "nwVPuX1CRkP-",
        "outputId": "d6c54c98-05d6-4f8c-ac3e-aa9d6b110bfa"
      },
      "execution_count": 77,
      "outputs": [
        {
          "output_type": "stream",
          "name": "stdout",
          "text": [
            "The @deleter decorator is used to define a deletion method for a property. It allows controlled deletion of a private attribute while preventing accidental removal.\n",
            "Alice\n",
            "Deleting name...\n"
          ]
        }
      ]
    },
    {
      "cell_type": "code",
      "source": [
        "# Q.71 How does encapsulation relate to property decorators in Python? Provide an example showcasing encapsulation using property decorators.\n",
        "a = (\"Encapsulation is the concept of restricting direct access to certain attributes while providing controlled access through methods.\\n Property decorators (@property, @setter, @deleter) help enforce encapsulation in Python\")\n",
        "print(a)\n",
        "class BankAccount:\n",
        "    def __init__(self, balance):\n",
        "        self._balance = balance  # Private attribute\n",
        "\n",
        "    @property\n",
        "    def balance(self):\n",
        "        return self._balance  # Getter\n",
        "\n",
        "    @balance.setter\n",
        "    def balance(self, amount):\n",
        "        if amount >= 0:\n",
        "            self._balance = amount  # Setter (validating input)\n",
        "        else:\n",
        "            print(\"Balance cannot be negative\")\n",
        "\n",
        "    @balance.deleter\n",
        "    def balance(self):\n",
        "        print(\"Balance deleted\")\n",
        "        del self._balance  # Deleter\n",
        "\n",
        "acc = BankAccount(1000)\n",
        "print(acc.balance)  # Access balance\n",
        "acc.balance = 1500  # Update balance\n",
        "del acc.balance     # Delete balance"
      ],
      "metadata": {
        "colab": {
          "base_uri": "https://localhost:8080/"
        },
        "id": "aT70QnNERmQ5",
        "outputId": "ecadf6dc-dcb3-4079-88eb-9d1cc4a54e1b"
      },
      "execution_count": 79,
      "outputs": [
        {
          "output_type": "stream",
          "name": "stdout",
          "text": [
            "Encapsulation is the concept of restricting direct access to certain attributes while providing controlled access through methods.\n",
            " Property decorators (@property, @setter, @deleter) help enforce encapsulation in Python\n",
            "1000\n",
            "Balance deleted\n"
          ]
        }
      ]
    }
  ]
}