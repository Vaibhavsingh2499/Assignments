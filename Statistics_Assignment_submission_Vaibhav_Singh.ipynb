{
  "nbformat": 4,
  "nbformat_minor": 0,
  "metadata": {
    "colab": {
      "provenance": []
    },
    "kernelspec": {
      "name": "python3",
      "display_name": "Python 3"
    },
    "language_info": {
      "name": "python"
    }
  },
  "cells": [
    {
      "cell_type": "code",
      "source": [
        "import numpy as np\n",
        "import seaborn as sns\n",
        "import pandas as pd\n",
        "import statistics\n",
        "from scipy import stats\n",
        "import matplotlib.pyplot as plt\n",
        "from scipy.stats import norm\n",
        "from scipy.stats import skew\n",
        "import matplotlib.pyplot as plt\n",
        "from scipy.stats import expon\n",
        "import math\n",
        "import statsmodels.api as sm\n",
        "from statsmodels.stats.proportion import proportions_ztest\n",
        "from scipy.stats import chi2_contingency"
      ],
      "metadata": {
        "id": "tcF4HNob6la1"
      },
      "execution_count": 1,
      "outputs": []
    },
    {
      "cell_type": "code",
      "execution_count": 2,
      "metadata": {
        "id": "-6CIqZcEGPIw",
        "colab": {
          "base_uri": "https://localhost:8080/"
        },
        "outputId": "6c665d36-028d-45e6-8071-786936266b73"
      },
      "outputs": [
        {
          "output_type": "execute_result",
          "data": {
            "text/plain": [
              "array([128, 104, 105,  99, 115,  95, 106, 108,  96, 120, 101,  91,  94,\n",
              "        97, 108,  96, 123, 104, 111, 100, 108, 122, 107, 108, 114, 106,\n",
              "       118, 115, 117, 125, 100, 100,  95, 127,  93, 104, 110, 125, 103,\n",
              "        93, 127, 116, 100,  96, 125, 107, 107, 109, 103, 106, 104,  95,\n",
              "       116,  90, 110, 106, 121,  97, 113, 128, 120,  90, 112, 107, 124,\n",
              "       127, 127,  95, 110,  97, 116, 116, 107, 117, 124, 100, 119, 128,\n",
              "       112, 122,  98, 110,  90, 108, 111,  98,  92, 107, 127, 118, 103,\n",
              "       111, 101,  92, 106, 102, 126, 116, 121, 111])"
            ]
          },
          "metadata": {},
          "execution_count": 2
        }
      ],
      "source": [
        "#  Q.1 Generate a list of 100 integers containing values between 90 to 130 and store it in the variable `int_list`.\n",
        "# After generating the list, find the following:\n",
        "int_list = np.random.randint(90,130,100)\n",
        "int_list"
      ]
    },
    {
      "cell_type": "code",
      "source": [
        "# (i) Write a Python function to calculate the mean of a given list of numbers.\n",
        "# Create a function to find the median of a list of numbers.\n",
        "np.mean(int_list),np.median(int_list)"
      ],
      "metadata": {
        "colab": {
          "base_uri": "https://localhost:8080/"
        },
        "id": "Sfard-6g60NO",
        "outputId": "eafc5008-ecca-4496-d67c-bda9ed16802c"
      },
      "execution_count": 3,
      "outputs": [
        {
          "output_type": "execute_result",
          "data": {
            "text/plain": [
              "(np.float64(108.85), np.float64(108.0))"
            ]
          },
          "metadata": {},
          "execution_count": 3
        }
      ]
    },
    {
      "cell_type": "code",
      "source": [
        "#  (ii) Develop a program to compute the mode of a list of integers.\n",
        "statistics.mode(int_list)"
      ],
      "metadata": {
        "colab": {
          "base_uri": "https://localhost:8080/"
        },
        "id": "U5YVLXtG66Ta",
        "outputId": "8b4ff2b4-a8c7-45e7-a42e-4bc1bf56e137"
      },
      "execution_count": 4,
      "outputs": [
        {
          "output_type": "execute_result",
          "data": {
            "text/plain": [
              "np.int64(107)"
            ]
          },
          "metadata": {},
          "execution_count": 4
        }
      ]
    },
    {
      "cell_type": "code",
      "source": [
        "#  (iii) Implement a function to calculate the weighted mean of a list of values and their corresponding weights\n",
        "weights = np.random.rand(100)\n",
        "weights"
      ],
      "metadata": {
        "colab": {
          "base_uri": "https://localhost:8080/"
        },
        "id": "H7EO9bgk7EWr",
        "outputId": "3a0a259e-714b-4983-e622-bb748f6efbd5"
      },
      "execution_count": 5,
      "outputs": [
        {
          "output_type": "execute_result",
          "data": {
            "text/plain": [
              "array([0.22289424, 0.95364203, 0.4143031 , 0.85093949, 0.92714455,\n",
              "       0.7930179 , 0.26595216, 0.8724855 , 0.06599798, 0.44115942,\n",
              "       0.039913  , 0.47731145, 0.71556026, 0.16803207, 0.98464711,\n",
              "       0.85288744, 0.11970394, 0.1851444 , 0.53464005, 0.94683661,\n",
              "       0.29472998, 0.78447485, 0.26340367, 0.65173311, 0.8491319 ,\n",
              "       0.53693244, 0.11276697, 0.31702445, 0.80328994, 0.48504517,\n",
              "       0.51737916, 0.04407463, 0.4572899 , 0.14363047, 0.66472927,\n",
              "       0.92966561, 0.50562763, 0.15991965, 0.34780239, 0.12043441,\n",
              "       0.51921561, 0.69399753, 0.42397729, 0.54700108, 0.31656746,\n",
              "       0.67672357, 0.36882596, 0.55058965, 0.73434951, 0.28509278,\n",
              "       0.67957982, 0.06694888, 0.82653054, 0.90901268, 0.64847398,\n",
              "       0.35360387, 0.7135089 , 0.60950587, 0.13640604, 0.51545071,\n",
              "       0.63468908, 0.33508147, 0.24850877, 0.71377628, 0.33836175,\n",
              "       0.18514899, 0.26996376, 0.91863578, 0.9715776 , 0.81023597,\n",
              "       0.63149531, 0.75049835, 0.57126511, 0.59259213, 0.50001436,\n",
              "       0.87988991, 0.96519435, 0.94353626, 0.82737879, 0.74302774,\n",
              "       0.9082345 , 0.6896256 , 0.32165837, 0.81351787, 0.85257324,\n",
              "       0.48020751, 0.2123405 , 0.4113781 , 0.83067227, 0.13281843,\n",
              "       0.36415656, 0.01078822, 0.91467553, 0.31427224, 0.19476736,\n",
              "       0.10244699, 0.97515297, 0.01251337, 0.9761154 , 0.89860172])"
            ]
          },
          "metadata": {},
          "execution_count": 5
        }
      ]
    },
    {
      "cell_type": "code",
      "source": [
        "weighted_mean = np.average(int_list, weights=weights)\n",
        "print(\"Weighted Mean:\", weighted_mean)"
      ],
      "metadata": {
        "colab": {
          "base_uri": "https://localhost:8080/"
        },
        "id": "EP3ABbPk9Ajv",
        "outputId": "1a72a92a-d303-4e09-c353-023993703114"
      },
      "execution_count": 6,
      "outputs": [
        {
          "output_type": "stream",
          "name": "stdout",
          "text": [
            "Weighted Mean: 108.91573663740927\n"
          ]
        }
      ]
    },
    {
      "cell_type": "code",
      "source": [
        "#  (iv) Write a Python function to find the geometric mean of a list of positive numbers.\n",
        "geometric_mean =np.prod(int_list)**(1/len(int_list))\n",
        "print(\"Geometric Mean:\", geometric_mean)"
      ],
      "metadata": {
        "colab": {
          "base_uri": "https://localhost:8080/"
        },
        "id": "UI6Xjj0V91i3",
        "outputId": "0997efd7-4ce5-4da5-9a39-9b57219ec5fc"
      },
      "execution_count": 7,
      "outputs": [
        {
          "output_type": "stream",
          "name": "stdout",
          "text": [
            "Geometric Mean: 0.0\n"
          ]
        }
      ]
    },
    {
      "cell_type": "code",
      "source": [
        "# (v) Create a program to calculate the harmonic mean of a list of values.\n",
        "harmonic_mean = len(int_list) / sum(1 / x for x in int_list)\n",
        "print(\"Harmonic Mean:\", harmonic_mean)"
      ],
      "metadata": {
        "colab": {
          "base_uri": "https://localhost:8080/"
        },
        "id": "ksJb1G6y-JzC",
        "outputId": "bc3bb1e8-8070-4ec5-d364-ae0ec13f1527"
      },
      "execution_count": 8,
      "outputs": [
        {
          "output_type": "stream",
          "name": "stdout",
          "text": [
            "Harmonic Mean: 107.77698329243056\n"
          ]
        }
      ]
    },
    {
      "cell_type": "code",
      "source": [
        "#  (vi) Build a function to determine the midrange of a list of numbers (average of the minimum and maximum)\n",
        "midrange = (min(int_list) + max(int_list)) / 2\n",
        "print(\"Midrange:\", midrange)"
      ],
      "metadata": {
        "colab": {
          "base_uri": "https://localhost:8080/"
        },
        "id": "XxTpAyQA-XUz",
        "outputId": "4406c774-02b3-4d27-b675-eb0f2dede321"
      },
      "execution_count": 9,
      "outputs": [
        {
          "output_type": "stream",
          "name": "stdout",
          "text": [
            "Midrange: 109.0\n"
          ]
        }
      ]
    },
    {
      "cell_type": "code",
      "source": [
        "#  (vii) Implement a Python program to find the trimmed mean of a list, excluding a certain percentage of outliers.\n",
        "\n",
        "trim_percent = 20\n",
        "\n",
        "sorted_list = sorted(int_list)\n",
        "trim_count = int(len(int_list) * trim_percent / 100)\n",
        "trimmed_list = sorted_list[trim_count : len(int_list) - trim_count]\n",
        "trimmed_mean = np.mean(trimmed_list)\n",
        "\n",
        "print(\"Trimmed Mean:\", trimmed_mean)"
      ],
      "metadata": {
        "colab": {
          "base_uri": "https://localhost:8080/"
        },
        "id": "xc4ywPPemwiQ",
        "outputId": "3b17518f-a827-466e-fd18-96d6d8c3e26c"
      },
      "execution_count": 10,
      "outputs": [
        {
          "output_type": "stream",
          "name": "stdout",
          "text": [
            "Trimmed Mean: 108.43333333333334\n"
          ]
        }
      ]
    },
    {
      "cell_type": "code",
      "source": [
        "# Q.2(i) Generate a list of 500 integers containing values between 200 to 300 and store it in the variable `int_list2`. After generating the list, find the following:"
      ],
      "metadata": {
        "id": "y6RdGRXjnPxC"
      },
      "execution_count": 11,
      "outputs": []
    },
    {
      "cell_type": "code",
      "source": [
        "int_list2 = np.random.randint(200, 301, 500)\n",
        "int_list2"
      ],
      "metadata": {
        "colab": {
          "base_uri": "https://localhost:8080/"
        },
        "id": "3H_ZWcTDnTBB",
        "outputId": "ca106674-4605-4444-fc6a-0fffe6ad96d5"
      },
      "execution_count": 12,
      "outputs": [
        {
          "output_type": "execute_result",
          "data": {
            "text/plain": [
              "array([280, 238, 265, 288, 241, 238, 206, 268, 272, 300, 228, 214, 206,\n",
              "       239, 231, 214, 211, 273, 212, 243, 255, 234, 240, 260, 220, 297,\n",
              "       277, 277, 218, 217, 292, 251, 247, 283, 243, 210, 268, 270, 273,\n",
              "       202, 212, 255, 256, 246, 276, 227, 220, 285, 216, 236, 257, 268,\n",
              "       232, 238, 281, 215, 235, 251, 297, 291, 258, 273, 283, 288, 221,\n",
              "       259, 290, 253, 268, 240, 297, 278, 231, 251, 275, 239, 229, 266,\n",
              "       258, 273, 202, 278, 252, 279, 214, 207, 276, 216, 216, 283, 293,\n",
              "       227, 266, 274, 233, 283, 294, 256, 222, 285, 262, 259, 267, 232,\n",
              "       215, 260, 257, 297, 272, 229, 247, 281, 216, 254, 275, 280, 285,\n",
              "       243, 213, 221, 283, 276, 243, 242, 214, 222, 201, 276, 204, 265,\n",
              "       221, 208, 230, 237, 203, 202, 269, 271, 282, 286, 214, 220, 214,\n",
              "       258, 206, 243, 212, 267, 287, 237, 241, 233, 252, 222, 211, 252,\n",
              "       222, 275, 299, 251, 266, 255, 225, 255, 271, 225, 269, 296, 276,\n",
              "       236, 220, 300, 215, 297, 225, 213, 251, 202, 245, 273, 252, 292,\n",
              "       230, 255, 256, 236, 229, 267, 236, 221, 220, 244, 223, 201, 293,\n",
              "       275, 208, 240, 274, 240, 217, 244, 288, 294, 207, 228, 220, 278,\n",
              "       285, 217, 254, 270, 221, 263, 234, 280, 244, 281, 282, 245, 285,\n",
              "       204, 265, 268, 285, 221, 258, 255, 220, 262, 276, 211, 292, 300,\n",
              "       250, 211, 235, 253, 297, 263, 231, 293, 243, 254, 297, 225, 254,\n",
              "       266, 263, 261, 229, 242, 209, 206, 286, 287, 281, 201, 256, 215,\n",
              "       236, 213, 231, 289, 205, 275, 279, 293, 209, 271, 287, 276, 226,\n",
              "       227, 205, 272, 232, 294, 291, 258, 262, 281, 288, 213, 254, 226,\n",
              "       225, 238, 259, 217, 258, 229, 266, 250, 221, 205, 251, 293, 212,\n",
              "       217, 272, 232, 295, 261, 278, 294, 236, 275, 236, 285, 223, 300,\n",
              "       228, 240, 298, 266, 286, 259, 208, 248, 214, 248, 291, 204, 239,\n",
              "       223, 269, 204, 232, 279, 244, 246, 211, 283, 219, 224, 282, 229,\n",
              "       235, 271, 291, 209, 268, 211, 219, 208, 278, 289, 290, 214, 274,\n",
              "       292, 257, 225, 224, 222, 246, 218, 298, 225, 284, 271, 260, 269,\n",
              "       261, 243, 265, 211, 211, 232, 233, 300, 241, 260, 275, 291, 234,\n",
              "       208, 253, 223, 214, 272, 233, 267, 278, 247, 215, 235, 278, 288,\n",
              "       282, 277, 289, 300, 272, 212, 228, 256, 251, 231, 269, 241, 281,\n",
              "       279, 284, 242, 250, 253, 221, 207, 244, 288, 224, 244, 214, 264,\n",
              "       264, 274, 279, 246, 224, 257, 214, 274, 275, 262, 298, 294, 267,\n",
              "       260, 284, 201, 243, 274, 200, 211, 250, 210, 270, 281, 287, 207,\n",
              "       285, 243, 300, 297, 201, 292, 242, 206, 217, 283, 282, 285, 273,\n",
              "       207, 223, 201, 268, 291, 274, 236, 204, 267, 268, 237, 278, 245,\n",
              "       208, 207, 223, 239, 201, 212, 206, 257, 277, 229, 255, 243, 249,\n",
              "       227, 284, 200, 282, 274, 249, 285, 275, 205, 279, 215, 276, 296,\n",
              "       276, 295, 267, 291, 219, 277])"
            ]
          },
          "metadata": {},
          "execution_count": 12
        }
      ]
    },
    {
      "cell_type": "code",
      "source": [
        "# (i) 1. Frequency & Gaussian distribution\n",
        "plt.figure(figsize=(8, 5))\n",
        "\n",
        "# Plot histogram (frequency)\n",
        "sns.histplot(int_list2, bins=20, kde=False, stat='density', color='skyblue', label='Histogram')\n",
        "\n",
        "# Gaussian Curve (Normal Distribution)\n",
        "mean = np.mean(int_list2)\n",
        "std = np.std(int_list2)\n",
        "x = np.linspace(min(int_list2), max(int_list2), 100)\n",
        "gauss = norm.pdf(x, mean, std)\n",
        "\n",
        "plt.plot(x, gauss, color='red', label='Gaussian Distribution')\n",
        "\n",
        "plt.title(\"Histogram + Gaussian Distribution\")\n",
        "plt.legend()\n",
        "plt.show()"
      ],
      "metadata": {
        "colab": {
          "base_uri": "https://localhost:8080/",
          "height": 468
        },
        "id": "2zc2l0ILnhrE",
        "outputId": "0e1dc3ef-19ea-474f-fec7-b3836ced361f"
      },
      "execution_count": 13,
      "outputs": [
        {
          "output_type": "display_data",
          "data": {
            "text/plain": [
              "<Figure size 800x500 with 1 Axes>"
            ],
            "image/png": "[encoded data removed]"
          },
          "metadata": {}
        }
      ]
    },
    {
      "cell_type": "code",
      "source": [
        "#(i) 2. Frequency smoothened KDE plot\n",
        "plt.figure(figsize=(8, 5))\n",
        "\n",
        "# Plot histogram + KDE\n",
        "sns.histplot(int_list2, bins=20, kde=True, stat='density', color='lightgreen')\n",
        "\n",
        "plt.title(\"Histogram + KDE Plot\")\n",
        "plt.show()"
      ],
      "metadata": {
        "colab": {
          "base_uri": "https://localhost:8080/",
          "height": 468
        },
        "id": "gFoZZrEeI8HO",
        "outputId": "a54ce014-8e65-4b9f-bdc0-2b3ef0bcacb3"
      },
      "execution_count": 14,
      "outputs": [
        {
          "output_type": "display_data",
          "data": {
            "text/plain": [
              "<Figure size 800x500 with 1 Axes>"
            ],
            "image/png": "[encoded data removed]"
          },
          "metadata": {}
        }
      ]
    },
    {
      "cell_type": "code",
      "source": [
        "#(i) 3. Gaussian distribution & smoothened KDE plot\n",
        "plt.figure(figsize=(8, 5))\n",
        "\n",
        "# KDE Plot\n",
        "sns.kdeplot(int_list2, color='blue', label='KDE')\n",
        "\n",
        "# Gaussian Curve\n",
        "plt.plot(x, gauss, color='red', label='Gaussian Distribution')\n",
        "\n",
        "plt.title(\"KDE vs Gaussian Distribution\")\n",
        "plt.legend()\n",
        "plt.show()"
      ],
      "metadata": {
        "colab": {
          "base_uri": "https://localhost:8080/",
          "height": 468
        },
        "id": "S8QurvNCIrKu",
        "outputId": "8ef8116e-8b34-4b03-936a-46f852eb4f27"
      },
      "execution_count": 15,
      "outputs": [
        {
          "output_type": "display_data",
          "data": {
            "text/plain": [
              "<Figure size 800x500 with 1 Axes>"
            ],
            "image/png": "[encoded data removed]"
          },
          "metadata": {}
        }
      ]
    },
    {
      "cell_type": "code",
      "source": [
        "# (ii) Write a Python function to calculate the range of a given list of numbers\n",
        "range_value = max(int_list2) - min(int_list2)\n",
        "print(\"Range:\", range_value)"
      ],
      "metadata": {
        "colab": {
          "base_uri": "https://localhost:8080/"
        },
        "id": "Lyx5lqR-JeEv",
        "outputId": "e9fc5ed5-71c8-49d0-b1d0-9d281ce6cda3"
      },
      "execution_count": 16,
      "outputs": [
        {
          "output_type": "stream",
          "name": "stdout",
          "text": [
            "Range: 100\n"
          ]
        }
      ]
    },
    {
      "cell_type": "code",
      "source": [
        "#  (iii) Create a program to find the variance and standard deviation of a list of numbers.\n",
        "data = int_list2\n",
        "variance = np.var(data)\n",
        "std_deviation = np.std(data)\n",
        "\n",
        "print(\"Variance:\", variance)\n",
        "print(\"Standard Deviation:\", std_deviation)\n"
      ],
      "metadata": {
        "colab": {
          "base_uri": "https://localhost:8080/"
        },
        "id": "zsJs4SAOJ27r",
        "outputId": "f4946668-e045-4514-f68a-ae51449cd383"
      },
      "execution_count": 17,
      "outputs": [
        {
          "output_type": "stream",
          "name": "stdout",
          "text": [
            "Variance: 839.064556\n",
            "Standard Deviation: 28.96661105479894\n"
          ]
        }
      ]
    },
    {
      "cell_type": "code",
      "source": [
        "# (iv) Implement a function to compute the interquartile range (IQR) of a list of values.\n",
        "import numpy as np\n",
        "\n",
        "def compute_iqr(data):\n",
        "    q1 = np.percentile(data, 25)\n",
        "    q3 = np.percentile(data, 75)\n",
        "    iqr = q3 - q1\n",
        "    return iqr\n",
        "\n",
        "print(\"Interquartile Range (IQR):\", compute_iqr(data))\n"
      ],
      "metadata": {
        "colab": {
          "base_uri": "https://localhost:8080/"
        },
        "id": "rukmQQcXJHrw",
        "outputId": "0a5e643b-716c-4004-b260-c19fc603ae59"
      },
      "execution_count": 18,
      "outputs": [
        {
          "output_type": "stream",
          "name": "stdout",
          "text": [
            "Interquartile Range (IQR): 52.0\n"
          ]
        }
      ]
    },
    {
      "cell_type": "code",
      "source": [
        "# (v) Build a program to calculate the coefficient of variation for a dataset.\n",
        "mean = np.mean(data)\n",
        "std_dev = np.std(data)\n",
        "\n",
        "cv = (std_dev / mean) * 100\n",
        "\n",
        "print(\"Coefficient of Variation (CV):\", cv, \"%\")\n"
      ],
      "metadata": {
        "colab": {
          "base_uri": "https://localhost:8080/"
        },
        "id": "jX49gG-yKhWL",
        "outputId": "d5259f22-0a2f-4765-a2c7-f9c311d504c1"
      },
      "execution_count": 19,
      "outputs": [
        {
          "output_type": "stream",
          "name": "stdout",
          "text": [
            "Coefficient of Variation (CV): 11.561763506852827 %\n"
          ]
        }
      ]
    },
    {
      "cell_type": "code",
      "source": [
        "#  (vi) Write a Python function to find the mean absolute deviation (MAD) of a list of numbers\n",
        "data = [10, 20, 30, 40, 50]\n",
        "mean = np.mean(data)\n",
        "mad = np.mean(np.abs(data - mean))\n",
        "\n",
        "print(\"Mean Absolute Deviation (MAD):\", mad)"
      ],
      "metadata": {
        "colab": {
          "base_uri": "https://localhost:8080/"
        },
        "id": "Z-HjRZrAK0uj",
        "outputId": "f54c4e62-6eaf-4697-8bfa-5db888c72bd8"
      },
      "execution_count": 20,
      "outputs": [
        {
          "output_type": "stream",
          "name": "stdout",
          "text": [
            "Mean Absolute Deviation (MAD): 12.0\n"
          ]
        }
      ]
    },
    {
      "cell_type": "code",
      "source": [
        "# (vii) Create a program to calculate the quartile deviation of a list of values.\n",
        "\n",
        "q1 = np.percentile(data, 25)\n",
        "q3 = np.percentile(data, 75)\n",
        "\n",
        "quartile_deviation = (q3 - q1) / 2\n",
        "\n",
        "print(\"Quartile Deviation:\", quartile_deviation)\n"
      ],
      "metadata": {
        "colab": {
          "base_uri": "https://localhost:8080/"
        },
        "id": "U4u9tzbELEcr",
        "outputId": "bba4455b-31b9-4bca-e7d2-b6888cb87fb3"
      },
      "execution_count": 21,
      "outputs": [
        {
          "output_type": "stream",
          "name": "stdout",
          "text": [
            "Quartile Deviation: 10.0\n"
          ]
        }
      ]
    },
    {
      "cell_type": "code",
      "source": [
        "# (viii) Implement a function to find the range-based coefficient of dispersion for a dataset.\n",
        "\n",
        "rcd = (max(data) - min(data)) / (max(data) + min(data))\n",
        "print(\"Range-Based Coefficient of Dispersion:\", rcd)"
      ],
      "metadata": {
        "colab": {
          "base_uri": "https://localhost:8080/"
        },
        "id": "8eDc3iELLTcP",
        "outputId": "1de9c87d-4c8a-44d0-8a83-ed1c16b060c8"
      },
      "execution_count": 22,
      "outputs": [
        {
          "output_type": "stream",
          "name": "stdout",
          "text": [
            "Range-Based Coefficient of Dispersion: 0.6666666666666666\n"
          ]
        }
      ]
    },
    {
      "cell_type": "code",
      "source": [
        "# Q.3  Write a Python class representing a discrete random variable with methods to calculate its expected value and variance.\n",
        "\n",
        "values = [1, 2, 3, 4]\n",
        "probabilities = [0.1, 0.2, 0.4, 0.3]\n",
        "\n",
        "# Expected value (mean)\n",
        "expected_value = sum(v * p for v, p in zip(values, probabilities))\n",
        "\n",
        "# Variance\n",
        "variance = sum(((v - expected_value) ** 2) * p for v, p in zip(values, probabilities))\n",
        "\n",
        "print(\"Expected Value:\", expected_value)\n",
        "print(\"Variance:\", variance)"
      ],
      "metadata": {
        "colab": {
          "base_uri": "https://localhost:8080/"
        },
        "id": "lbIG8ur9LkNZ",
        "outputId": "b60dabee-2f60-4a7d-ef21-87f74e2db611"
      },
      "execution_count": 23,
      "outputs": [
        {
          "output_type": "stream",
          "name": "stdout",
          "text": [
            "Expected Value: 2.9000000000000004\n",
            "Variance: 0.8900000000000001\n"
          ]
        }
      ]
    },
    {
      "cell_type": "code",
      "source": [
        "# Q.4  Implement a program to simulate the rolling of a fair six-sided die and calculate the expected value and variance of the outcomes.\n",
        "# Possible outcomes of a fair six-sided die\n",
        "outcomes = [1, 2, 3, 4, 5, 6]\n",
        "probability = 1 / 6\n",
        "\n",
        "# Expected value (mean)\n",
        "expected_value = sum(outcome * probability for outcome in outcomes)\n",
        "\n",
        "# Variance\n",
        "variance = sum(probability * (outcome - expected_value) ** 2 for outcome in outcomes)\n",
        "\n",
        "print(\"Expected Value:\", expected_value)\n",
        "print(\"Variance:\", variance)\n"
      ],
      "metadata": {
        "colab": {
          "base_uri": "https://localhost:8080/"
        },
        "id": "shAYK8OUMUOh",
        "outputId": "ba585f48-cf69-438f-ddb4-6f24284db68c"
      },
      "execution_count": 24,
      "outputs": [
        {
          "output_type": "stream",
          "name": "stdout",
          "text": [
            "Expected Value: 3.5\n",
            "Variance: 2.9166666666666665\n"
          ]
        }
      ]
    },
    {
      "cell_type": "code",
      "source": [
        "#Q.5 Create a Python function to generate random samples from a given probability distribution (e.g., binomial, Poisson) and calculate their mean and variance.\n",
        "\n",
        "# For Binomial Distribution (n=10 trials, p=0.5 probability)\n",
        "\n",
        "n = 10\n",
        "p = 0.5\n",
        "num_samples = 1000\n",
        "binomial_samples = np.random.binomial(n, p, num_samples)\n",
        "\n",
        "# For Poisson Distribution (lambda=5)\n",
        "lam = 5\n",
        "poisson_samples = np.random.poisson(lam, num_samples)\n",
        "\n",
        "# Calculate mean and variance for Binomial distribution samples\n",
        "binomial_mean = np.mean(binomial_samples)\n",
        "binomial_variance = np.var(binomial_samples)\n",
        "\n",
        "# Calculate mean and variance for Poisson distribution samples\n",
        "poisson_mean = np.mean(poisson_samples)\n",
        "poisson_variance = np.var(poisson_samples)\n",
        "\n",
        "# Print results\n",
        "print(\"Binomial Distribution - Mean:\", binomial_mean, \"Variance:\", binomial_variance)\n",
        "print(\"Poisson Distribution - Mean:\", poisson_mean, \"Variance:\", poisson_variance)\n"
      ],
      "metadata": {
        "colab": {
          "base_uri": "https://localhost:8080/"
        },
        "id": "JIccU6OBMl59",
        "outputId": "fcebae52-38d4-41b8-a1a7-3529c3675cd9"
      },
      "execution_count": 25,
      "outputs": [
        {
          "output_type": "stream",
          "name": "stdout",
          "text": [
            "Binomial Distribution - Mean: 4.926 Variance: 2.5765240000000005\n",
            "Poisson Distribution - Mean: 4.948 Variance: 4.9412959999999995\n"
          ]
        }
      ]
    },
    {
      "cell_type": "code",
      "source": [
        "# Q.6 Write a Python script to generate random numbers from a Gaussian (normal) distribution and compute the mean, variance, and standard deviation of the samples.\n",
        "\n",
        "# Parameters for Gaussian (Normal) Distribution\n",
        "mean = 0         # Mean distribution\n",
        "std_dev = 1      # Std distribution\n",
        "num_samples = 1000  # sampple\n",
        "\n",
        "# Generate random samples from Gaussian distribution\n",
        "gaussian_samples = np.random.normal(mean, std_dev, num_samples)\n",
        "\n",
        "# Calculate mean, variance, and standard deviation\n",
        "gaussian_mean = np.mean(gaussian_samples)\n",
        "gaussian_variance = np.var(gaussian_samples)\n",
        "gaussian_std_dev = np.std(gaussian_samples)\n",
        "\n",
        "# Print the results\n",
        "print(\"Mean of Gaussian samples:\", gaussian_mean)\n",
        "print(\"Variance of Gaussian samples:\", gaussian_variance)\n",
        "print(\"Standard Deviation of Gaussian samples:\", gaussian_std_dev)"
      ],
      "metadata": {
        "colab": {
          "base_uri": "https://localhost:8080/"
        },
        "id": "CY6B4EtINiyP",
        "outputId": "ff7a25b3-eff9-4304-99dc-70bbb43f6c1b"
      },
      "execution_count": 26,
      "outputs": [
        {
          "output_type": "stream",
          "name": "stdout",
          "text": [
            "Mean of Gaussian samples: 0.041477449858215505\n",
            "Variance of Gaussian samples: 0.9508962858373889\n",
            "Standard Deviation of Gaussian samples: 0.975139111018212\n"
          ]
        }
      ]
    },
    {
      "cell_type": "code",
      "source": [
        "#  Q.7 Use seaborn library to load `tips` dataset. Find the following from the dataset for the columns `total_bill` and `tip`:\n",
        "# (i) Write a Python function that calculates their skewness.\n",
        "tips = sns.load_dataset('tips')\n",
        "\n",
        "#Function to calculate skewness\n",
        "def calculate_skewness(data):\n",
        "    return skew(data)\n",
        "\n",
        "# Calculate skewness for 'total_bill' and 'tip'\n",
        "total_bill_skewness = calculate_skewness(tips['total_bill'])\n",
        "tip_skewness = calculate_skewness(tips['tip'])\n",
        "\n",
        "print(\"Skewness of 'total_bill':\", total_bill_skewness)\n",
        "print(\"Skewness of 'tip':\", tip_skewness)"
      ],
      "metadata": {
        "colab": {
          "base_uri": "https://localhost:8080/"
        },
        "id": "OQ1YakjWN0u_",
        "outputId": "cf8268d3-72ae-4eaf-a044-80dc08519b5f"
      },
      "execution_count": 27,
      "outputs": [
        {
          "output_type": "stream",
          "name": "stdout",
          "text": [
            "Skewness of 'total_bill': 1.1262346334818638\n",
            "Skewness of 'tip': 1.4564266884221506\n"
          ]
        }
      ]
    },
    {
      "cell_type": "code",
      "source": [
        "#  (ii) Create a program that determines whether the columns exhibit positive skewness, negative skewness, or is approx symmetric\n",
        "\n",
        "# Determine the type of skewness\n",
        "def skewness_type(skew_value):\n",
        "    if skew_value > 0:\n",
        "        return \"Positive Skewness\"\n",
        "    elif skew_value < 0:\n",
        "        return \"Negative Skewness\"\n",
        "    else:\n",
        "        return \"Approximately Symmetric\"\n",
        "\n",
        "# Determine skewness type for both columns\n",
        "print(\"\\n'Analsyis of skewness:\")\n",
        "print(\"Total Bill Skewness Type:\", skewness_type(total_bill_skewness))\n",
        "print(\"Tip Skewness Type:\", skewness_type(tip_skewness))"
      ],
      "metadata": {
        "colab": {
          "base_uri": "https://localhost:8080/"
        },
        "id": "APttStnDPAg-",
        "outputId": "1df2d9e4-2ea0-4275-9d4f-7ccca8fff68c"
      },
      "execution_count": 28,
      "outputs": [
        {
          "output_type": "stream",
          "name": "stdout",
          "text": [
            "\n",
            "'Analsyis of skewness:\n",
            "Total Bill Skewness Type: Positive Skewness\n",
            "Tip Skewness Type: Positive Skewness\n"
          ]
        }
      ]
    },
    {
      "cell_type": "code",
      "source": [
        "# (iii) Write a function that calculates the covariance between two columns.\n",
        "\n",
        "# Function to calculate covariance between two columns\n",
        "def calculate_covariance(col1, col2):\n",
        "    return np.cov(col1, col2)[0, 1]\n",
        "\n",
        "# Calculate covariance between 'total_bill' and 'tip'\n",
        "covariance = calculate_covariance(tips['total_bill'], tips['tip'])\n",
        "print(\"\\nCovariance between 'total_bill' and 'tip':\", covariance)"
      ],
      "metadata": {
        "colab": {
          "base_uri": "https://localhost:8080/"
        },
        "id": "Pco6zJnkPaAM",
        "outputId": "508561a6-e7ef-4a16-dc99-e91b0e238b0d"
      },
      "execution_count": 29,
      "outputs": [
        {
          "output_type": "stream",
          "name": "stdout",
          "text": [
            "\n",
            "Covariance between 'total_bill' and 'tip': 8.323501629224854\n"
          ]
        }
      ]
    },
    {
      "cell_type": "code",
      "source": [
        "#  (iv) Implement a Python program that calculates the Pearson correlation coefficient between two columns\n",
        " # Calculate Pearson correlation coefficient between 'total_bill' and 'tip'\n",
        "pearson_corr = np.corrcoef(tips['total_bill'], tips['tip'])[0, 1]\n",
        "print(\"\\nPearson correlation coefficient between 'total_bill' and 'tip':\", pearson_corr)\n"
      ],
      "metadata": {
        "colab": {
          "base_uri": "https://localhost:8080/"
        },
        "id": "LhrRd8uqPn1K",
        "outputId": "b76ee0fc-7cb8-40cb-a809-2666f24ed52d"
      },
      "execution_count": 30,
      "outputs": [
        {
          "output_type": "stream",
          "name": "stdout",
          "text": [
            "\n",
            "Pearson correlation coefficient between 'total_bill' and 'tip': 0.6757341092113641\n"
          ]
        }
      ]
    },
    {
      "cell_type": "code",
      "source": [
        "#  (v) Write a script to visualize the correlation between two specific columns in a Pandas DataFrame using scatter plots.\n",
        "\n",
        "# Create scatter plot to visualize correlation between 'total_bill' and 'tip'\n",
        "sns.scatterplot(x='total_bill', y='tip', data=tips)\n",
        "plt.title('Scatter plot of Total Bill vs Tip')\n",
        "plt.xlabel('Total Bill')\n",
        "plt.ylabel('Tip')\n",
        "plt.show()"
      ],
      "metadata": {
        "colab": {
          "base_uri": "https://localhost:8080/",
          "height": 472
        },
        "id": "qzgachhuPrRK",
        "outputId": "01bd7b5d-3c3d-4ecc-dc21-fed279554c8c"
      },
      "execution_count": 31,
      "outputs": [
        {
          "output_type": "display_data",
          "data": {
            "text/plain": [
              "<Figure size 640x480 with 1 Axes>"
            ],
            "image/png": "[encoded data removed]"
          },
          "metadata": {}
        }
      ]
    },
    {
      "cell_type": "code",
      "source": [
        "# Q.8  Write a Python function to calculate the probability density function (PDF) of a continuous random variable for a given normal distribution.\n",
        "\n",
        "# Function to calculate the Probability Density Function (PDF)\n",
        "def calculate_pdf(x, mean, std_dev):\n",
        "    # Using scipy's norm.pdf function to calculate the PDF\n",
        "    pdf = norm.pdf(x, mean, std_dev)\n",
        "    return pdf\n",
        "\n",
        "# Parameters for normal distribution\n",
        "mean = 0        # Mean distribution\n",
        "std_dev = 1     # Std distribution\n",
        "x_values = np.linspace(-5, 5, 1000)\n",
        "\n",
        "pdf_values = calculate_pdf(x_values, mean, std_dev)\n",
        "\n",
        "plt.plot(x_values, pdf_values, label='PDF of Normal Distribution', color='blue')\n",
        "plt.title('Probability Density Function (PDF) of Normal Distribution')\n",
        "plt.xlabel('x')\n",
        "plt.ylabel('Probability Density')\n",
        "plt.legend()\n",
        "plt.grid(True)\n",
        "plt.show()"
      ],
      "metadata": {
        "colab": {
          "base_uri": "https://localhost:8080/",
          "height": 472
        },
        "id": "4alKLa_KP0ce",
        "outputId": "08b5a1e7-8065-4e83-ebd4-63ee5d5d34c9"
      },
      "execution_count": 32,
      "outputs": [
        {
          "output_type": "display_data",
          "data": {
            "text/plain": [
              "<Figure size 640x480 with 1 Axes>"
            ],
            "image/png": "[encoded data removed]"
          },
          "metadata": {}
        }
      ]
    },
    {
      "cell_type": "code",
      "source": [
        "# Q.9  Create a program to calculate the cumulative distribution function (CDF) of exponential distribution.\n",
        "\n",
        "# Parameters for Exponential Distribution\n",
        "rate = 1\n",
        "x_values = np.linspace(0, 10, 1000)\n",
        "\n",
        "# Calculate CDF using scipy's built-in function\n",
        "cdf_values = expon.cdf(x_values, scale=1/rate)\n",
        "\n",
        "# Plot the CDF of Exponential Distribution\n",
        "plt.plot(x_values, cdf_values, label='CDF of Exponential Distribution', color='green')\n",
        "plt.title('Cumulative Distribution Function (CDF) of Exponential Distribution')\n",
        "plt.xlabel('x')\n",
        "plt.ylabel('Cumulative Probability')\n",
        "plt.legend()\n",
        "plt.grid(True)\n",
        "plt.show()"
      ],
      "metadata": {
        "colab": {
          "base_uri": "https://localhost:8080/",
          "height": 472
        },
        "id": "jcAJrQ8KRWpM",
        "outputId": "2116d1b2-d17e-4fe3-d66b-dca066bcffcb"
      },
      "execution_count": 33,
      "outputs": [
        {
          "output_type": "display_data",
          "data": {
            "text/plain": [
              "<Figure size 640x480 with 1 Axes>"
            ],
            "image/png": "[encoded data removed]"
          },
          "metadata": {}
        }
      ]
    },
    {
      "cell_type": "code",
      "source": [
        "# Q.10 Write a Python function to calculate the probability mass function (PMF) of Poisson distribution.\n",
        "\n",
        "# Function to calculate Poisson PMF\n",
        "def poisson_pmf(k, rate):\n",
        "    return (rate ** k * np.exp(-rate)) / math.factorial(k)\n",
        "\n",
        "rate = 3\n",
        "k_values = np.arange(0, 11)\n",
        "\n",
        "\n",
        "pmf_values = [poisson_pmf(k, rate) for k in k_values]\n",
        "\n",
        "# Print PMF values\n",
        "for k, pmf in zip(k_values, pmf_values):\n",
        "    print(f\"PMF for k={k}: {pmf}\")"
      ],
      "metadata": {
        "colab": {
          "base_uri": "https://localhost:8080/"
        },
        "id": "rBOlFHJbRTQh",
        "outputId": "b30c5013-e994-478f-f5da-f1386fe11935"
      },
      "execution_count": 34,
      "outputs": [
        {
          "output_type": "stream",
          "name": "stdout",
          "text": [
            "PMF for k=0: 0.049787068367863944\n",
            "PMF for k=1: 0.14936120510359183\n",
            "PMF for k=2: 0.22404180765538775\n",
            "PMF for k=3: 0.22404180765538775\n",
            "PMF for k=4: 0.16803135574154082\n",
            "PMF for k=5: 0.10081881344492448\n",
            "PMF for k=6: 0.05040940672246225\n",
            "PMF for k=7: 0.02160403145248382\n",
            "PMF for k=8: 0.008101511794681432\n",
            "PMF for k=9: 0.002700503931560477\n",
            "PMF for k=10: 0.0008101511794681432\n"
          ]
        }
      ]
    },
    {
      "cell_type": "code",
      "source": [
        "# Q.11 A company wants to test if a new website layout leads to a higher conversion rate (percentage of visitors\n",
        "# who make a purchase). They collect data from the old and new layouts to compare.\n",
        "#  To generate the data use the following command:\n",
        "#  ```python\n",
        "#  import numpy as np\n",
        "#  # 50 purchases out of 1000 visitors\n",
        "#  old_layout = np.array([1] * 50 + [0] * 950)\n",
        "#  # 70 purchases out of 1000 visitors\n",
        "# new_layout = np.array([1] * 70 + [0] * 930)\n",
        "#  ```\n",
        "#  Apply z-test to find which layout is successful.\n",
        "\n",
        "\n",
        "\n",
        "\n",
        "# Data Generation (old and new layout conversions)\n",
        "old_layout = np.array([1] * 50 + [0] * 950)\n",
        "new_layout = np.array([1] * 70 + [0] * 930)\n",
        "\n",
        "# Number of successes (purchases)\n",
        "successes = [np.sum(old_layout), np.sum(new_layout)]\n",
        "n = [len(old_layout), len(new_layout)]\n",
        "z_stat, p_value = proportions_ztest(successes, n)\n",
        "\n",
        "# Output results\n",
        "print(f\"Z-statistic: {z_stat}\")\n",
        "print(f\"P-value: {p_value}\")\n",
        "\n",
        "# Result\n",
        "alpha = 0.05\n",
        "if p_value < alpha:\n",
        "    print(\"The new layout is significantly better (reject null hypothesis).\")\n",
        "else:\n",
        "    print(\"No significant difference between the layouts (fail to reject null hypothesis).\")\n"
      ],
      "metadata": {
        "colab": {
          "base_uri": "https://localhost:8080/"
        },
        "id": "Iv_7nipES75L",
        "outputId": "4da68053-5098-4a55-e993-190468b0ea15"
      },
      "execution_count": 35,
      "outputs": [
        {
          "output_type": "stream",
          "name": "stdout",
          "text": [
            "Z-statistic: -1.883108942886774\n",
            "P-value: 0.059685605532426224\n",
            "No significant difference between the layouts (fail to reject null hypothesis).\n"
          ]
        }
      ]
    },
    {
      "cell_type": "code",
      "source": [
        "# Q.12 A tutoring service claims that its program improves students' exam scores. A sample of students who\n",
        "# participated in the program was taken, and their scores before and after the program were recorded.\n",
        "#  Use the below code to generate samples of respective arrays of marks:\n",
        "#  ```python\n",
        "#  before_program = np.array([75, 80, 85, 70, 90, 78, 92, 88, 82, 87])\n",
        "#  after_program = np.array([80, 85, 90, 80, 92, 80, 95, 90, 85, 88])\n",
        "#  ```\n",
        "#  Use z-test to find if the claims made by tutor are true or false\n",
        "\n",
        "# Given data\n",
        "before_program = np.array([75, 80, 85, 70, 90, 78, 92, 88, 82, 87])\n",
        "after_program = np.array([80, 85, 90, 80, 92, 80, 95, 90, 85, 88])\n",
        "\n",
        "\n",
        "differences = after_program - before_program\n",
        "mean_diff = np.mean(differences)\n",
        "std_diff = np.std(differences, ddof=1)  # sample std deviation\n",
        "n = len(differences)\n",
        "\n",
        "# Z-score\n",
        "z_score = mean_diff / (std_diff / np.sqrt(n))\n",
        "\n",
        "# p-value (one-tailed test)\n",
        "p_value = 1 - stats.norm.cdf(z_score)\n",
        "\n",
        "print(\"Mean Difference:\", mean_diff)\n",
        "print(\"Z-Score:\", z_score)\n",
        "print(\"P-Value:\", p_value)\n",
        "\n",
        "# Conclusion\n",
        "alpha = 0.05\n",
        "if p_value < alpha:\n",
        "    print(\"Reject the null hypothesis: The tutoring program is effective.\")\n",
        "else:\n",
        "    print(\"Fail to reject the null hypothesis: Not enough evidence the program helps.\")\n"
      ],
      "metadata": {
        "id": "YeaSfrg9TNOS",
        "colab": {
          "base_uri": "https://localhost:8080/"
        },
        "outputId": "53d100e7-994f-4ed0-8474-b101592fa635"
      },
      "execution_count": 36,
      "outputs": [
        {
          "output_type": "stream",
          "name": "stdout",
          "text": [
            "Mean Difference: 3.8\n",
            "Z-Score: 4.593190894944668\n",
            "P-Value: 2.182597052646784e-06\n",
            "Reject the null hypothesis: The tutoring program is effective.\n"
          ]
        }
      ]
    },
    {
      "cell_type": "code",
      "source": [
        "# Q.13 A pharmaceutical company wants to determine if a new drug is effective in reducing blood pressure. They\n",
        "# conduct a study and record blood pressure measurements before and after administering the drug.\n",
        "#  Use the below code to generate samples of respective arrays of blood pressure:\n",
        "#  ```python\n",
        "#  before_drug = np.array([145, 150, 140, 135, 155, 160, 152, 148, 130, 138])\n",
        "#  after_drug = np.array([130, 140, 132, 128, 145, 148, 138, 136, 125, 130])\n",
        "#  ```\n",
        "#  Implement z-test to find if the drug really works or not.\n",
        "\n",
        "\n",
        "before_drug = np.array([145, 150, 140, 135, 155, 160, 152, 148, 130, 138])\n",
        "after_drug = np.array([130, 140, 132, 128, 145, 148, 138, 136, 125, 130])\n",
        "\n",
        "\n",
        "differences = before_drug - after_drug\n",
        "mean_diff = np.mean(differences)\n",
        "std_diff = np.std(differences, ddof=1)\n",
        "n = len(differences)\n",
        "\n",
        "# Z-score\n",
        "z_score = mean_diff / (std_diff / np.sqrt(n))\n",
        "\n",
        "# P-value (one-tailed test)\n",
        "p_value = 1 - stats.norm.cdf(z_score)\n",
        "\n",
        "print(\"Mean Difference:\", mean_diff)\n",
        "print(\"Z-Score:\", z_score)\n",
        "print(\"P-Value:\", p_value)\n",
        "\n",
        "\n",
        "alpha = 0.05\n",
        "if p_value < alpha:\n",
        "    print(\"Reject the null hypothesis: The drug is effective in reducing blood pressure.\")\n",
        "else:\n",
        "    print(\"Fail to reject the null hypothesis: Not enough evidence the drug is effective.\")"
      ],
      "metadata": {
        "colab": {
          "base_uri": "https://localhost:8080/"
        },
        "id": "DZST0VWOtjqv",
        "outputId": "4f478ebd-b23a-4e2f-e71f-a1af1c5fa8cf"
      },
      "execution_count": 37,
      "outputs": [
        {
          "output_type": "stream",
          "name": "stdout",
          "text": [
            "Mean Difference: 10.1\n",
            "Z-Score: 10.049875621120888\n",
            "P-Value: 0.0\n",
            "Reject the null hypothesis: The drug is effective in reducing blood pressure.\n"
          ]
        }
      ]
    },
    {
      "cell_type": "code",
      "source": [
        "# Q.14 A customer service department claims that their average response time is less than 5 minutes. A sample\n",
        "# of recent customer interactions was taken, and the response times were recorded.\n",
        "#  Implement the below code to generate the array of response time:\n",
        "#  ```python\n",
        "#  response_times = np.array([4.3, 3.8, 5.1, 4.9, 4.7, 4.2, 5.2, 4.5, 4.6, 4.4])\n",
        "#  ```\n",
        "#  Implement z-test to find the claims made by customer service department are tru or false.\n",
        "\n",
        "\n",
        "\n",
        "response_times = np.array([4.3, 3.8, 5.1, 4.9, 4.7, 4.2, 5.2, 4.5, 4.6, 4.4])\n",
        "mu0 = 5\n",
        "\n",
        "sample_mean = np.mean(response_times)\n",
        "sample_std = np.std(response_times, ddof=1)\n",
        "n = len(response_times)\n",
        "\n",
        "# Z test\n",
        "z_score = (sample_mean - mu0) / (sample_std / np.sqrt(n))\n",
        "p_value = stats.norm.cdf(z_score)\n",
        "\n",
        "\n",
        "print(\"Sample Mean:\", sample_mean)\n",
        "print(\"Z-Score:\", z_score)\n",
        "print(\"P-Value:\", p_value)\n",
        "\n",
        "alpha = 0.05\n",
        "if p_value < alpha:\n",
        "    print(\" Reject the null hypothesis: The response time is significantly less than 5 minutes.\")\n",
        "else:\n",
        "    print(\"Fail to reject the null hypothesis: Not enough evidence to support the claim.\")"
      ],
      "metadata": {
        "colab": {
          "base_uri": "https://localhost:8080/"
        },
        "id": "5ecWn4imuPtV",
        "outputId": "6aadbb07-9f95-4dae-bbe1-3feff1ffceba"
      },
      "execution_count": 38,
      "outputs": [
        {
          "output_type": "stream",
          "name": "stdout",
          "text": [
            "Sample Mean: 4.57\n",
            "Z-Score: -3.184457226042963\n",
            "P-Value: 0.0007251287113068958\n",
            " Reject the null hypothesis: The response time is significantly less than 5 minutes.\n"
          ]
        }
      ]
    },
    {
      "cell_type": "code",
      "source": [
        "# Q 15 - A company is testing two different website layouts to see which one leads to higher click-through rates.\n",
        "# Write a Python function to perform an A/B test analysis, including calculating the t-statistic, degrees of\n",
        "# freedom, and p-value.\n",
        "#  Use the following data:\n",
        "#  ```python\n",
        "#  layout_a_clicks = [28, 32, 33, 29, 31, 34, 30, 35, 36, 37]\n",
        "#  layout_b_clicks = [40, 41, 38, 42, 39, 44, 43, 41, 45, 47]\n",
        "\n",
        "\n",
        "layout_a_clicks = [28, 32, 33, 29, 31, 34, 30, 35, 36, 37]\n",
        "layout_b_clicks = [40, 41, 38, 42, 39, 44, 43, 41, 45, 47]\n",
        "\n",
        "\n",
        "a = np.array(layout_a_clicks)\n",
        "b = np.array(layout_b_clicks)\n",
        "\n",
        "\n",
        "t_stat, p_value = stats.ttest_ind(a, b, equal_var=False)\n",
        "\n",
        "# freedom\n",
        "s1 = np.var(a, ddof=1)\n",
        "s2 = np.var(b, ddof=1)\n",
        "n1 = len(a)\n",
        "n2 = len(b)\n",
        "df = (s1/n1 + s2/n2)**2 / ((s1**2)/((n1**2)*(n1-1)) + (s2**2)/((n2**2)*(n2-1)))\n",
        "\n",
        "\n",
        "print(\"T-Statistic:\", t_stat)\n",
        "print(\"Degrees of Freedom:\", df)\n",
        "print(\"P-Value:\", p_value)\n",
        "\n",
        "\n",
        "alpha = 0.05\n",
        "if p_value < alpha:\n",
        "    print(\"Reject the null hypothesis: The layouts are significantly different.\")\n",
        "else:\n",
        "    print(\"Fail to reject the null hypothesis: No significant difference between the layouts.\")"
      ],
      "metadata": {
        "colab": {
          "base_uri": "https://localhost:8080/"
        },
        "id": "SKBm0IH1ow8u",
        "outputId": "4ad3b9de-e7e5-4f69-8794-fe700b1bb9b0"
      },
      "execution_count": 39,
      "outputs": [
        {
          "output_type": "stream",
          "name": "stdout",
          "text": [
            "T-Statistic: -7.298102156175069\n",
            "Degrees of Freedom: 17.879871863320876\n",
            "P-Value: 9.19659607078939e-07\n",
            "Reject the null hypothesis: The layouts are significantly different.\n"
          ]
        }
      ]
    },
    {
      "cell_type": "code",
      "source": [
        "# Q.16 A pharmaceutical company wants to determine if a new drug is more effective than an existing drug in\n",
        "# reducing cholesterol levels. Create a program to analyze the clinical trial data and calculate the t-statistic and p-value for the treatment effect.\n",
        "# Use the following data of cholestrol level:\n",
        "# python\n",
        "#   existing_drug_levels = [180, 182, 175, 185, 178, 176, 172, 184, 179, 183]\n",
        "#  new_drug_levels = [170, 172, 165, 168, 175, 173, 170, 178, 172, 176]\n",
        "\n",
        "\n",
        "\n",
        "existing_drug_levels = [180, 182, 175, 185, 178, 176, 172, 184, 179, 183]\n",
        "new_drug_levels = [170, 172, 165, 168, 175, 173, 170, 178, 172, 176]\n",
        "\n",
        "\n",
        "existing = np.array(existing_drug_levels)\n",
        "new = np.array(new_drug_levels)\n",
        "t_stat, p_value = stats.ttest_ind(existing, new, equal_var=False)\n",
        "\n",
        "\n",
        "print(\"T-Statistic:\", t_stat)\n",
        "print(\"P-Value:\", p_value)\n",
        "\n",
        "\n",
        "alpha = 0.05\n",
        "if p_value < alpha:\n",
        "    print(\"Reject the null hypothesis: The new drug is significantly more effective.\")\n",
        "else:\n",
        "    print(\"Fail to reject the null hypothesis: No significant difference found.\")\n"
      ],
      "metadata": {
        "colab": {
          "base_uri": "https://localhost:8080/"
        },
        "id": "LXtyRBH2pfp-",
        "outputId": "e9648dc1-23f7-47a7-c72a-4bd41079df09"
      },
      "execution_count": 40,
      "outputs": [
        {
          "output_type": "stream",
          "name": "stdout",
          "text": [
            "T-Statistic: 4.140480986208659\n",
            "P-Value: 0.0006229228945469329\n",
            "Reject the null hypothesis: The new drug is significantly more effective.\n"
          ]
        }
      ]
    },
    {
      "cell_type": "code",
      "source": [
        "# Q 17 A school district introduces an educational intervention program to improve math scores. Write a Python\n",
        "# function to analyze pre- and post-intervention test scores, calculating the t-statistic and p-value to\n",
        "# determine if the intervention had a significant impact.\n",
        "# Use the following data of test score:\n",
        "\n",
        "# pre_intervention_scores = [80, 85, 90, 75, 88, 82, 92, 78, 85, 87]\n",
        "# post_intervention_scores = [90, 92, 88, 92, 95, 91, 96, 93, 89, 93]\n",
        "\n",
        "\n",
        "\n",
        "pre_intervention_scores = [80, 85, 90, 75, 88, 82, 92, 78, 85, 87]\n",
        "post_intervention_scores = [90, 92, 88, 92, 95, 91, 96, 93, 89, 93]\n",
        "\n",
        "\n",
        "pre = np.array(pre_intervention_scores)\n",
        "post = np.array(post_intervention_scores)\n",
        "t_statistic, p_value = stats.ttest_rel(post, pre)\n",
        "\n",
        "\n",
        "print(\"T-Statistic:\", t_statistic)\n",
        "print(\"P-Value:\", p_value)\n",
        "\n",
        "\n",
        "alpha = 0.05\n",
        "if p_value < alpha:\n",
        "    print(\"Reject the null hypothesis: The intervention significantly improved math scores.\")\n",
        "else:\n",
        "    print(\"Fail to reject the null hypothesis: No significant improvement observed.\")"
      ],
      "metadata": {
        "id": "dyr5PCE9qrU8",
        "colab": {
          "base_uri": "https://localhost:8080/"
        },
        "outputId": "d9924ed3-64eb-4a07-ad3c-cb7110938dd0"
      },
      "execution_count": 41,
      "outputs": [
        {
          "output_type": "stream",
          "name": "stdout",
          "text": [
            "T-Statistic: 4.42840883965761\n",
            "P-Value: 0.0016509548165795493\n",
            "Reject the null hypothesis: The intervention significantly improved math scores.\n"
          ]
        }
      ]
    },
    {
      "cell_type": "code",
      "source": [
        "# Q.18 An HR department wants to investigate if there's a gender-based salary gap within the company. Develop\n",
        "# a program to analyze salary data, calculate the t-statistic, and determine if there's a statistically\n",
        "# significant difference between the average salaries of male and female employees.\n",
        "# Use the below code to generate synthetic data:\n",
        "\n",
        "\n",
        "# # Generate synthetic salary data for male and female employees\n",
        "# np.random.seed(0)  # For reproducibility\n",
        "# male_salaries = np.random.normal(loc=50000, scale=10000, size=20)\n",
        "# female_salaries = np.random.normal(loc=55000, scale=9000, size=20)\n",
        "\n",
        "\n",
        "# Generate synthetic salary data for male and female employees\n",
        "np.random.seed(0)  # For reproducibility\n",
        "male_salaries = np.random.normal(loc=50000, scale=10000, size=20)\n",
        "female_salaries = np.random.normal(loc=55000, scale=9000, size=20)\n",
        "\n",
        "\n",
        "t_stat, p_value = stats.ttest_ind(male_salaries, female_salaries)\n",
        "\n",
        "print(\"Male Mean Salary:\", np.mean(male_salaries))\n",
        "print(\"Female Mean Salary:\", np.mean(female_salaries))\n",
        "print(\"T-Statistic:\", t_stat)\n",
        "print(\"P-Value:\", p_value)\n",
        "\n",
        "\n",
        "alpha = 0.05\n",
        "if p_value < alpha:\n",
        "    print(\"Reject the null hypothesis: There is a significant salary difference between genders.\")\n",
        "else:\n",
        "    print(\"Fail to reject the null hypothesis: No significant salary difference between genders.\")"
      ],
      "metadata": {
        "colab": {
          "base_uri": "https://localhost:8080/"
        },
        "id": "US47lb354Mfe",
        "outputId": "cb101c9b-244d-4a2c-cbd1-358cd05e06a5"
      },
      "execution_count": 42,
      "outputs": [
        {
          "output_type": "stream",
          "name": "stdout",
          "text": [
            "Male Mean Salary: 55693.345929456365\n",
            "Female Mean Salary: 55501.753181380416\n",
            "T-Statistic: 0.06114208969631383\n",
            "P-Value: 0.9515665020676465\n",
            "Fail to reject the null hypothesis: No significant salary difference between genders.\n"
          ]
        }
      ]
    },
    {
      "cell_type": "code",
      "source": [
        "# Q.19  A manufacturer produces two different versions of a product and wants to compare their quality scores.\n",
        "# Create a Python function to analyze quality assessment data, calculate the t-statistic, and decide\n",
        "# whether there's a significant difference in quality between the two versions.\n",
        "#  Use the following data:\n",
        "#  version1_scores = [85, 88, 82, 89, 87, 84, 90, 88, 85, 86, 91, 83, 87, 84, 89, 86, 84, 88, 85, 86, 89, 90, 87, 88, 85]\n",
        "#  version2_scores = [80, 78, 83, 81, 79, 82, 76, 80, 78, 81, 77, 82, 80, 79, 82, 79, 80, 81, 79, 82, 79, 78, 80, 81, 82]\n",
        "\n",
        "\n",
        "\n",
        "version1_scores = [85, 88, 82, 89, 87, 84, 90, 88, 85, 86, 91, 83, 87, 84, 89, 86, 84, 88, 85, 86, 89, 90, 87, 88, 85]\n",
        "version2_scores = [80, 78, 83, 81, 79, 82, 76, 80, 78, 81, 77, 82, 80, 79, 82, 79, 80, 81, 79, 82, 79, 78, 80, 81, 82]\n",
        "\n",
        "\n",
        "t_stat, p_value = stats.ttest_ind(version1_scores, version2_scores)\n",
        "\n",
        "\n",
        "print(\"Version 1 Mean Score:\", np.mean(version1_scores))\n",
        "print(\"Version 2 Mean Score:\", np.mean(version2_scores))\n",
        "print(\"T-Statistic:\", t_stat)\n",
        "print(\"P-Value:\", p_value)\n",
        "\n",
        "\n",
        "alpha = 0.05\n",
        "if p_value < alpha:\n",
        "    print(\"Reject the null hypothesis: There is a significant difference in product quality.\")\n",
        "else:\n",
        "    print(\"Fail to reject the null hypothesis: No significant difference in product quality.\")\n"
      ],
      "metadata": {
        "colab": {
          "base_uri": "https://localhost:8080/"
        },
        "id": "TXlxTCAC4sUa",
        "outputId": "e74393e5-4795-4ad7-f0cd-9b1847f98d55"
      },
      "execution_count": 43,
      "outputs": [
        {
          "output_type": "stream",
          "name": "stdout",
          "text": [
            "Version 1 Mean Score: 86.64\n",
            "Version 2 Mean Score: 79.96\n",
            "T-Statistic: 11.325830417646698\n",
            "P-Value: 3.6824250702873965e-15\n",
            "Reject the null hypothesis: There is a significant difference in product quality.\n"
          ]
        }
      ]
    },
    {
      "cell_type": "code",
      "source": [
        "# Q.20. A restaurant chain collects customer satisfaction scores for two different branches. Write a program to\n",
        "# analyze the scores, calculate the t-statistic, and determine if there's a statistically significant difference in\n",
        "# customer satisfaction between the branches.\n",
        "#  Use the below data of scores:\n",
        "#  ```python\n",
        "#  branch_a_scores = [4, 5, 3, 4, 5, 4, 5, 3, 4, 4, 5, 4, 4, 3, 4, 5, 5, 4, 3, 4, 5, 4, 3, 5, 4, 4, 5, 3, 4, 5, 4]\n",
        "#  branch_b_scores = [3, 4, 2, 3, 4, 3, 4, 2, 3, 3, 4, 3, 3, 2, 3, 4, 4, 3, 2, 3, 4, 3, 2, 4, 3, 3, 4, 2, 3, 4, 3]\n",
        "\n",
        "\n",
        "branch_a_scores = [4, 5, 3, 4, 5, 4, 5, 3, 4, 4, 5, 4, 4, 3, 4, 5, 5, 4, 3, 4, 5, 4, 3, 5, 4, 4, 5, 3, 4, 5, 4]\n",
        "branch_b_scores = [3, 4, 2, 3, 4, 3, 4, 2, 3, 3, 4, 3, 3, 2, 3, 4, 4, 3, 2, 3, 4, 3, 2, 4, 3, 3, 4, 2, 3, 4, 3]\n",
        "\n",
        "t_stat, p_value = stats.ttest_ind(branch_a_scores, branch_b_scores)\n",
        "\n",
        "\n",
        "print(\"Branch A Mean Score:\", np.mean(branch_a_scores))\n",
        "print(\"Branch B Mean Score:\", np.mean(branch_b_scores))\n",
        "print(\"T-Statistic:\", t_stat)\n",
        "print(\"P-Value:\", p_value)\n",
        "\n",
        "alpha = 0.05\n",
        "if p_value < alpha:\n",
        "    print(\"Reject the null hypothesis: Significant difference in satisfaction between branches.\")\n",
        "else:\n",
        "    print(\"Fail to reject the null hypothesis: No significant difference in satisfaction.\")\n"
      ],
      "metadata": {
        "colab": {
          "base_uri": "https://localhost:8080/"
        },
        "id": "hk4Pc0h35KHd",
        "outputId": "0868146a-34e2-42f2-bcdf-9dd256a60315"
      },
      "execution_count": 44,
      "outputs": [
        {
          "output_type": "stream",
          "name": "stdout",
          "text": [
            "Branch A Mean Score: 4.129032258064516\n",
            "Branch B Mean Score: 3.129032258064516\n",
            "T-Statistic: 5.480077554195743\n",
            "P-Value: 8.895290509945655e-07\n",
            "Reject the null hypothesis: Significant difference in satisfaction between branches.\n"
          ]
        }
      ]
    },
    {
      "cell_type": "code",
      "source": [
        "# Q.21 A political analyst wants to determine if there is a significant association between age groups and voter\n",
        "# preferences (Candidate A or Candidate B). They collect data from a sample of 500 voters and classify\n",
        "# them into different age groups and candidate preferences. Perform a Chi-Square test to determine if\n",
        "# there is a significant association between age groups and voter preferences.\n",
        "#  Use the below code to generate data:\n",
        "#  ```python\n",
        "#  np.random.seed(0)\n",
        "#  age_groups = np.random.choice(['18-30', '31-50', '51+', '51+'], size=30)\n",
        "#  voter_preferences = np.random.choice(['Candidate A', 'Candidate B'], size=30)\n",
        "\n",
        "\n",
        "\n",
        "np.random.seed(0)\n",
        "age_groups = np.random.choice(['18-30', '31-50', '51+'], size=30)\n",
        "voter_preferences = np.random.choice(['Candidate A', 'Candidate B'], size=30)\n",
        "\n",
        "\n",
        "data = pd.DataFrame({\n",
        "    'Age Group': age_groups,\n",
        "    'Preference': voter_preferences\n",
        "})\n",
        "\n",
        "\n",
        "contingency_table = pd.crosstab(data['Age Group'], data['Preference'])\n",
        "\n",
        "\n",
        "chi2, p_value, dof, expected = chi2_contingency(contingency_table)\n",
        "\n",
        "print(\"Contingency Table:\\n\", contingency_table)\n",
        "print(\"\\nExpected Frequencies:\\n\", expected)\n",
        "print(\"\\nChi-Square Statistic:\", chi2)\n",
        "print(\"Degrees of Freedom:\", dof)\n",
        "print(\"P-Value:\", p_value)\n",
        "\n",
        "\n",
        "alpha = 0.05\n",
        "if p_value < alpha:\n",
        "    print(\"\\nReject the null hypothesis: There is a significant association between age group and voter preference.\")\n",
        "else:\n",
        "    print(\"\\nFail to reject the null hypothesis: No significant association found between age group and voter preference.\")\n",
        "\n"
      ],
      "metadata": {
        "colab": {
          "base_uri": "https://localhost:8080/"
        },
        "id": "zdJD0piM5l4a",
        "outputId": "d391f64f-07ca-4cdf-9f9d-cf994c3eb971"
      },
      "execution_count": 45,
      "outputs": [
        {
          "output_type": "stream",
          "name": "stdout",
          "text": [
            "Contingency Table:\n",
            " Preference  Candidate A  Candidate B\n",
            "Age Group                           \n",
            "18-30                 4            8\n",
            "31-50                 6            5\n",
            "51+                   4            3\n",
            "\n",
            "Expected Frequencies:\n",
            " [[5.6        6.4       ]\n",
            " [5.13333333 5.86666667]\n",
            " [3.26666667 3.73333333]]\n",
            "\n",
            "Chi-Square Statistic: 1.4401669758812612\n",
            "Degrees of Freedom: 2\n",
            "P-Value: 0.48671161971286614\n",
            "\n",
            "Fail to reject the null hypothesis: No significant association found between age group and voter preference.\n"
          ]
        }
      ]
    },
    {
      "cell_type": "code",
      "source": [
        "# Q. 22 A company conducted a customer satisfaction survey to determine if there is a significant relationship\n",
        "# between product satisfaction levels (Satisfied, Neutral, Dissatisfied) and the region where customers are\n",
        "# located (East, West, North, South). The survey data is summarized in a contingency table. Conduct a Chi\n",
        "# Square test to determine if there is a significant relationship between product satisfaction levels and\n",
        "# customer regions.\n",
        "#   #Sample data: Product satisfaction levels (rows) vs. Customer regions (columns)\n",
        "#  data = np.array([[50, 30, 40, 20], [30, 40, 30, 50], [20, 30, 40, 30]])\n",
        "\n",
        "\n",
        "# Sample data: Rows = Satisfaction levels (Satisfied, Neutral, Dissatisfied)\n",
        "# Columns = Regions (East, West, North, South)\n",
        "data = np.array([\n",
        "    [50, 30, 40, 20],  # Satisfied\n",
        "    [30, 40, 30, 50],  # Neutral\n",
        "    [20, 30, 40, 30]   # Dissatisfied\n",
        "])\n",
        "\n",
        "\n",
        "chi2, p_value, dof, expected = chi2_contingency(data)\n",
        "\n",
        "\n",
        "print(\"Observed Data:\\n\", data)\n",
        "print(\"\\nExpected Frequencies:\\n\", expected)\n",
        "print(\"\\nChi-Square Statistic:\", chi2)\n",
        "print(\"Degrees of Freedom:\", dof)\n",
        "print(\"P-Value:\", p_value)\n",
        "\n",
        "alpha = 0.05\n",
        "if p_value < alpha:\n",
        "    print(\"\\nReject the null hypothesis: There is a significant relationship between satisfaction levels and regions.\")\n",
        "else:\n",
        "    print(\"\\nFail to reject the null hypothesis: No significant relationship between satisfaction levels and regions.\")"
      ],
      "metadata": {
        "colab": {
          "base_uri": "https://localhost:8080/"
        },
        "id": "qpDrYJ6I6t99",
        "outputId": "9843bec5-a0af-4662-904b-28817f4f0ef3"
      },
      "execution_count": 46,
      "outputs": [
        {
          "output_type": "stream",
          "name": "stdout",
          "text": [
            "Observed Data:\n",
            " [[50 30 40 20]\n",
            " [30 40 30 50]\n",
            " [20 30 40 30]]\n",
            "\n",
            "Expected Frequencies:\n",
            " [[34.14634146 34.14634146 37.56097561 34.14634146]\n",
            " [36.58536585 36.58536585 40.24390244 36.58536585]\n",
            " [29.26829268 29.26829268 32.19512195 29.26829268]]\n",
            "\n",
            "Chi-Square Statistic: 27.777056277056275\n",
            "Degrees of Freedom: 6\n",
            "P-Value: 0.00010349448486004387\n",
            "\n",
            "Reject the null hypothesis: There is a significant relationship between satisfaction levels and regions.\n"
          ]
        }
      ]
    },
    {
      "cell_type": "code",
      "source": [
        "# 23. A company implemented an employee training program to improve job performance (Effective, Neutral,\n",
        "# Ineffective). After the training, they collected data from a sample of employees and classified them based\n",
        "# on their job performance before and after the training. Perform a Chi-Square test to determine if there is a\n",
        "# significant difference between job performance levels before and after the training.\n",
        "#  Sample data:\n",
        "#  data = np.array([[50, 30, 20], [30, 40, 30], [20, 30, 40]])\n",
        "# Sample data: Job performance levels before (rows) and after (columns) training\n",
        "\n",
        "\n",
        "\n",
        "data = np.array([\n",
        "    [50, 30, 20],  # Before: Effective\n",
        "    [30, 40, 30],  # Before: Neutral\n",
        "    [20, 30, 40]   # Before: Ineffective\n",
        "])\n",
        "\n",
        "chi2, p_value, dof, expected = chi2_contingency(data)\n",
        "\n",
        "print(\"Observed Data:\\n\", data)\n",
        "print(\"\\nExpected Frequencies:\\n\", expected)\n",
        "print(\"\\nChi-Square Statistic:\", chi2)\n",
        "print(\"Degrees of Freedom:\", dof)\n",
        "print(\"P-Value:\", p_value)\n",
        "\n",
        "\n",
        "alpha = 0.05\n",
        "if p_value < alpha:\n",
        "    print(\"\\nReject the null hypothesis: Training had a significant effect on job performance.\")\n",
        "else:\n",
        "    print(\"\\nFail to reject the null hypothesis: No significant effect of training on job performance.\")"
      ],
      "metadata": {
        "colab": {
          "base_uri": "https://localhost:8080/"
        },
        "id": "lFnd4ah66umr",
        "outputId": "6b171d7c-cc88-45ec-cde4-122a315da41c"
      },
      "execution_count": 47,
      "outputs": [
        {
          "output_type": "stream",
          "name": "stdout",
          "text": [
            "Observed Data:\n",
            " [[50 30 20]\n",
            " [30 40 30]\n",
            " [20 30 40]]\n",
            "\n",
            "Expected Frequencies:\n",
            " [[34.48275862 34.48275862 31.03448276]\n",
            " [34.48275862 34.48275862 31.03448276]\n",
            " [31.03448276 31.03448276 27.93103448]]\n",
            "\n",
            "Chi-Square Statistic: 22.161728395061726\n",
            "Degrees of Freedom: 4\n",
            "P-Value: 0.00018609719479882557\n",
            "\n",
            "Reject the null hypothesis: Training had a significant effect on job performance.\n"
          ]
        }
      ]
    },
    {
      "cell_type": "code",
      "source": [
        "#  24. A company produces three different versions of a product: Standard, Premium, and Deluxe. The\n",
        "# company wants to determine if there is a significant difference in customer satisfaction scores among the\n",
        "# three product versions. They conducted a survey and collected customer satisfaction scores for each\n",
        "# version from a random sample of customers. Perform an ANOVA test to determine if there is a significant\n",
        "# difference in customer satisfaction scores.\n",
        "#  Use the following data:\n",
        "\n",
        "#  Sample data: Customer satisfaction scores for each product version\n",
        "#  standard_scores = [80, 85, 90, 78, 88, 82, 92, 78, 85, 87]\n",
        "\n",
        "#  premium_scores = [90, 92, 88, 92, 95, 91, 96, 93, 89, 93]\n",
        "#  deluxe_scores = [95, 98, 92, 97, 96, 94, 98, 97, 92, 99]\n",
        "\n",
        "\n",
        "\n",
        "standard_scores = [80, 85, 90, 78, 88, 82, 92, 78, 85, 87]\n",
        "premium_scores = [90, 92, 88, 92, 95, 91, 96, 93, 89, 93]\n",
        "deluxe_scores = [95, 98, 92, 97, 96, 94, 98, 97, 92, 99]\n",
        "\n",
        "# one-way ANOVA\n",
        "f_statistic, p_value = stats.f_oneway(standard_scores, premium_scores, deluxe_scores)\n",
        "\n",
        "print(\"F-Statistic:\", f_statistic)\n",
        "print(\"P-Value:\", p_value)\n",
        "\n",
        "alpha = 0.05\n",
        "if p_value < alpha:\n",
        "    print(\"Reject the null hypothesis: There is a significant difference in satisfaction among the product versions.\")\n",
        "else:\n",
        "    print(\"Fail to reject the null hypothesis: No significant difference in satisfaction among the product versions.\")"
      ],
      "metadata": {
        "colab": {
          "base_uri": "https://localhost:8080/"
        },
        "id": "Ft8yYvmb6uw0",
        "outputId": "93ca5ab2-71a0-4f2d-b035-6a4201ed9bcf"
      },
      "execution_count": 48,
      "outputs": [
        {
          "output_type": "stream",
          "name": "stdout",
          "text": [
            "F-Statistic: 27.03556231003039\n",
            "P-Value: 3.5786328857349003e-07\n",
            "Reject the null hypothesis: There is a significant difference in satisfaction among the product versions.\n"
          ]
        }
      ]
    }
  ]
}