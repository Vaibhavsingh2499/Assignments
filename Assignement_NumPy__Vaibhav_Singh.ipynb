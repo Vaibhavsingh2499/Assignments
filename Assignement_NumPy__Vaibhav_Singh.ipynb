{
  "nbformat": 4,
  "nbformat_minor": 0,
  "metadata": {
    "colab": {
      "provenance": []
    },
    "kernelspec": {
      "name": "python3",
      "display_name": "Python 3"
    },
    "language_info": {
      "name": "python"
    }
  },
  "cells": [
    {
      "cell_type": "code",
      "execution_count": 1,
      "metadata": {
        "id": "txLY0aOAPiS9",
        "colab": {
          "base_uri": "https://localhost:8080/"
        },
        "outputId": "a28aecb8-a69a-4fb7-fd52-22d804b78fdf"
      },
      "outputs": [
        {
          "output_type": "stream",
          "name": "stdout",
          "text": [
            "int64\n"
          ]
        }
      ],
      "source": [
        "import numpy as np\n",
        "import pandas as pd\n",
        "\n",
        "# 1. Create a NumPy array 'arr' of integers from 0 to 5 and print its data type\n",
        "arr = np.array([0, 1, 2, 3, 4, 5])\n",
        "print(arr.dtype)"
      ]
    },
    {
      "cell_type": "code",
      "source": [],
      "metadata": {
        "id": "0dLdn7aQFxzW"
      },
      "execution_count": 1,
      "outputs": []
    },
    {
      "cell_type": "code",
      "source": [
        "# 2. Given a NumPy array 'arr', check if its data type is float64\n",
        "arr = np.array([1.5, 2.6, 3.7])\n",
        "print(arr.dtype == np.float64)"
      ],
      "metadata": {
        "colab": {
          "base_uri": "https://localhost:8080/"
        },
        "id": "BmhEU7ScF60L",
        "outputId": "25665012-28fc-4c3a-c930-c8607da65c1f"
      },
      "execution_count": 2,
      "outputs": [
        {
          "output_type": "stream",
          "name": "stdout",
          "text": [
            "True\n"
          ]
        }
      ]
    },
    {
      "cell_type": "code",
      "source": [
        "# 3. Create a NumPy array 'arr' with a data type of complex128 containing three complex numbers\n",
        "arr = np.array([1+2j, 3+4j, 5+6j], dtype=np.complex128)\n",
        "print(arr)"
      ],
      "metadata": {
        "colab": {
          "base_uri": "https://localhost:8080/"
        },
        "id": "Ik2TXtd3F9xG",
        "outputId": "9c1b25ab-f860-4093-bda7-11ae25861c68"
      },
      "execution_count": 3,
      "outputs": [
        {
          "output_type": "stream",
          "name": "stdout",
          "text": [
            "[1.+2.j 3.+4.j 5.+6.j]\n"
          ]
        }
      ]
    },
    {
      "cell_type": "code",
      "source": [
        "# 5. Given a NumPy array 'arr' with float64 data type, convert it to float32 to reduce decimal precision\n",
        "arr = np.array([1.1, 2.2, 3.3], dtype=np.float64)\n",
        "arr = arr.astype(np.float32)\n",
        "print(arr)"
      ],
      "metadata": {
        "colab": {
          "base_uri": "https://localhost:8080/"
        },
        "id": "dkCO3-wfGBUN",
        "outputId": "7c52477d-af27-4798-8b5a-60d08466441d"
      },
      "execution_count": 4,
      "outputs": [
        {
          "output_type": "stream",
          "name": "stdout",
          "text": [
            "[1.1 2.2 3.3]\n"
          ]
        }
      ]
    },
    {
      "cell_type": "code",
      "source": [
        "# 6. Write a function array_attributes that takes a NumPy array as input and returns its shape, size, and data type\n",
        "def array_attributes(arr):\n",
        "    return arr.shape, arr.size, arr.dtype"
      ],
      "metadata": {
        "id": "Rz_Ld3g2GCsr"
      },
      "execution_count": 5,
      "outputs": []
    },
    {
      "cell_type": "code",
      "source": [
        "# 7. Create a function array_dimension that takes a NumPy array as input and returns its dimensionality\n",
        "def array_dimension(arr):\n",
        "    return arr.ndim"
      ],
      "metadata": {
        "id": "in-rmCTOGEBR"
      },
      "execution_count": 6,
      "outputs": []
    },
    {
      "cell_type": "code",
      "source": [
        "# 8. Design a function item_size_info that takes a NumPy array as input and returns the item size and the total size in bytes\n",
        "def item_size_info(arr):\n",
        "    return arr.itemsize, arr.nbytes"
      ],
      "metadata": {
        "id": "g9w_09EeGFPf"
      },
      "execution_count": 7,
      "outputs": []
    },
    {
      "cell_type": "code",
      "source": [
        "# 9.Create a function array_strides that takes a NumPy array as input and returns the strides of the array.\n",
        "def array_strides(arr):\n",
        "    return arr.strides\n",
        "\n",
        "arr = np.array([[1, 2], [3, 4]])\n",
        "print(array_strides(arr))"
      ],
      "metadata": {
        "colab": {
          "base_uri": "https://localhost:8080/"
        },
        "id": "bn_XzFzEIHoW",
        "outputId": "dc8ff5fb-d85a-4e9b-804d-3fdbb45a2641"
      },
      "execution_count": 8,
      "outputs": [
        {
          "output_type": "stream",
          "name": "stdout",
          "text": [
            "(16, 8)\n"
          ]
        }
      ]
    },
    {
      "cell_type": "code",
      "source": [
        "# 10. Design a function shape_stride_relationship that takes a NumPy array as input and returns the shape and strides of the array.\n",
        "def shape_stride_relationship(arr):\n",
        "    return arr.shape, arr.strides\n",
        "\n",
        "arr = np.array([[5, 6, 7], [8, 9, 10]])\n",
        "print(shape_stride_relationship(arr))\n"
      ],
      "metadata": {
        "colab": {
          "base_uri": "https://localhost:8080/"
        },
        "id": "HzdvZqmuILhK",
        "outputId": "94007f8c-3591-40fa-e136-cf799d648bf5"
      },
      "execution_count": 9,
      "outputs": [
        {
          "output_type": "stream",
          "name": "stdout",
          "text": [
            "((2, 3), (24, 8))\n"
          ]
        }
      ]
    },
    {
      "cell_type": "code",
      "source": [],
      "metadata": {
        "id": "S6ZMXNyZLEfO"
      },
      "execution_count": 9,
      "outputs": []
    },
    {
      "cell_type": "code",
      "source": [
        "# 11. Create a function create_zeros_array that takes an integer n as input and returns a NumPy array of zeros with n elements\n",
        "def create_zeros_array(n):\n",
        "    return np.zeros(n)\n",
        "\n",
        "print(create_zeros_array(5))\n"
      ],
      "metadata": {
        "colab": {
          "base_uri": "https://localhost:8080/"
        },
        "id": "QwjJtUF1IOue",
        "outputId": "a844867a-eacd-47a7-9374-c1f2cb17789b"
      },
      "execution_count": 10,
      "outputs": [
        {
          "output_type": "stream",
          "name": "stdout",
          "text": [
            "[0. 0. 0. 0. 0.]\n"
          ]
        }
      ]
    },
    {
      "cell_type": "code",
      "source": [
        "# 12. Write a function create_ones_matrix that takes integers rows and cols and generates a 2D NumPy array filled with ones of size rows x cols.\n",
        "def create_ones_matrix(rows, cols):\n",
        "    return np.ones((rows, cols))\n",
        "\n",
        "print(create_ones_matrix(3, 4))\n"
      ],
      "metadata": {
        "colab": {
          "base_uri": "https://localhost:8080/"
        },
        "id": "iNV_vGteIRzB",
        "outputId": "9f54997e-b017-40a1-a27e-b176614adff1"
      },
      "execution_count": 11,
      "outputs": [
        {
          "output_type": "stream",
          "name": "stdout",
          "text": [
            "[[1. 1. 1. 1.]\n",
            " [1. 1. 1. 1.]\n",
            " [1. 1. 1. 1.]]\n"
          ]
        }
      ]
    },
    {
      "cell_type": "code",
      "source": [
        "#  13. Write a function generate_range_array that takes start, stop, and step and creates a NumPy array with a range.\n",
        "def generate_range_array(start, stop, step):\n",
        "    return np.arange(start, stop, step)\n",
        "\n",
        "print(generate_range_array(2, 10, 2))\n"
      ],
      "metadata": {
        "colab": {
          "base_uri": "https://localhost:8080/"
        },
        "id": "LJwnClsHIToS",
        "outputId": "5acef3fe-9d78-4dac-a322-c6fa6562b02c"
      },
      "execution_count": 12,
      "outputs": [
        {
          "output_type": "stream",
          "name": "stdout",
          "text": [
            "[2 4 6 8]\n"
          ]
        }
      ]
    },
    {
      "cell_type": "code",
      "source": [
        "#  14. Design a function generate_linear_space that takes start, stop, and num and generates a NumPy array with num equally spaced values between start and stop.\n",
        "def generate_linear_space(start, stop, num):\n",
        "    return np.linspace(start, stop, num)\n",
        "\n",
        "print(generate_linear_space(0.0, 1.0, 5))\n"
      ],
      "metadata": {
        "colab": {
          "base_uri": "https://localhost:8080/"
        },
        "id": "trLQ_XBHIVA6",
        "outputId": "22c18c61-32ba-42ac-e01b-702967a11cbf"
      },
      "execution_count": 13,
      "outputs": [
        {
          "output_type": "stream",
          "name": "stdout",
          "text": [
            "[0.   0.25 0.5  0.75 1.  ]\n"
          ]
        }
      ]
    },
    {
      "cell_type": "code",
      "source": [
        "#15. Create a function create_identity_matrix that takes an integer n and generates a square identity matrix of size n x n.\n",
        "def create_identity_matrix(n):\n",
        "    return np.eye(n)\n",
        "\n",
        "print(create_identity_matrix(4))"
      ],
      "metadata": {
        "colab": {
          "base_uri": "https://localhost:8080/"
        },
        "id": "4501wtTXIWHQ",
        "outputId": "0b2f4369-b24d-419b-db6b-798e05ed4b58"
      },
      "execution_count": 14,
      "outputs": [
        {
          "output_type": "stream",
          "name": "stdout",
          "text": [
            "[[1. 0. 0. 0.]\n",
            " [0. 1. 0. 0.]\n",
            " [0. 0. 1. 0.]\n",
            " [0. 0. 0. 1.]]\n"
          ]
        }
      ]
    },
    {
      "cell_type": "code",
      "source": [
        "# 16. Write a function that takes a Python list and converts it into a NumPy array.\n",
        "def list_to_numpy_array(lst):\n",
        "    return np.array(lst)\n",
        "\n",
        "python_list = [1, 2, 3, 4]\n",
        "print(list_to_numpy_array(python_list))\n"
      ],
      "metadata": {
        "colab": {
          "base_uri": "https://localhost:8080/"
        },
        "id": "-lt8uq8Ts1xB",
        "outputId": "e7310550-65f4-4c68-f5c0-fa3bcfe333bf"
      },
      "execution_count": 15,
      "outputs": [
        {
          "output_type": "stream",
          "name": "stdout",
          "text": [
            "[1 2 3 4]\n"
          ]
        }
      ]
    },
    {
      "cell_type": "code",
      "source": [
        "# 17. Create a NumPy array and demonstrate the use of numpy.view to create a new array object with the same data.\n",
        "arr = np.array([10, 20, 30, 40])\n",
        "view_arr = arr.view()\n",
        "print(view_arr)"
      ],
      "metadata": {
        "colab": {
          "base_uri": "https://localhost:8080/"
        },
        "id": "sB99Y94BtcJb",
        "outputId": "ff436dbb-96bc-4fad-a642-c75ba620b247"
      },
      "execution_count": 16,
      "outputs": [
        {
          "output_type": "stream",
          "name": "stdout",
          "text": [
            "[10 20 30 40]\n"
          ]
        }
      ]
    },
    {
      "cell_type": "code",
      "source": [
        "# 18. Write a function that takes two NumPy arrays and concatenates them along a specified axis.\n",
        "def concatenate_arrays(arr1, arr2, axis):\n",
        "    return np.concatenate((arr1, arr2), axis=axis)\n",
        "\n",
        "a = np.array([[1, 2], [3, 4]])\n",
        "b = np.array([[5, 6], [7, 8]])\n",
        "print(concatenate_arrays(a, b, axis=0))  # vertical\n",
        "print(concatenate_arrays(a, b, axis=1))  # horizontal\n"
      ],
      "metadata": {
        "colab": {
          "base_uri": "https://localhost:8080/"
        },
        "id": "SmcUg1uztgUt",
        "outputId": "8ceb9fc0-85d9-4bab-9765-84e83378aa9c"
      },
      "execution_count": 17,
      "outputs": [
        {
          "output_type": "stream",
          "name": "stdout",
          "text": [
            "[[1 2]\n",
            " [3 4]\n",
            " [5 6]\n",
            " [7 8]]\n",
            "[[1 2 5 6]\n",
            " [3 4 7 8]]\n"
          ]
        }
      ]
    },
    {
      "cell_type": "code",
      "source": [
        "# 19. Create two NumPy arrays with different shapes and concatenate them horizontally using numpy.concatenate.\n",
        "x = np.array([[1], [2]])\n",
        "y = np.array([[3, 4], [5, 6]])\n",
        "result = np.concatenate((x, y), axis=1)\n",
        "print(result)\n"
      ],
      "metadata": {
        "colab": {
          "base_uri": "https://localhost:8080/"
        },
        "id": "xIPDTBSntuRD",
        "outputId": "26811a77-35be-46bf-dcae-166da98a177d"
      },
      "execution_count": 18,
      "outputs": [
        {
          "output_type": "stream",
          "name": "stdout",
          "text": [
            "[[1 3 4]\n",
            " [2 5 6]]\n"
          ]
        }
      ]
    },
    {
      "cell_type": "code",
      "source": [
        "# 20. Write a function that vertically stacks multiple NumPy arrays given as a list.\n",
        "def vertical_stack(arr_list):\n",
        "    return np.vstack(arr_list)\n",
        "\n",
        "a = np.array([1, 2])\n",
        "b = np.array([3, 4])\n",
        "c = np.array([5, 6])\n",
        "print(vertical_stack([a, b, c]))"
      ],
      "metadata": {
        "colab": {
          "base_uri": "https://localhost:8080/"
        },
        "id": "Pn1znABltxHL",
        "outputId": "a9860550-6481-4582-907a-3bef223a9329"
      },
      "execution_count": 19,
      "outputs": [
        {
          "output_type": "stream",
          "name": "stdout",
          "text": [
            "[[1 2]\n",
            " [3 4]\n",
            " [5 6]]\n"
          ]
        }
      ]
    },
    {
      "cell_type": "code",
      "source": [
        "# 21. Write a Python function using NumPy to create an array of integers within a specified range (inclusive) with a given step size.\n",
        "def create_range_array(start, stop, step):\n",
        "    return np.arange(start, stop + 1, step)\n",
        "\n",
        "print(create_range_array(1, 10, 2))"
      ],
      "metadata": {
        "colab": {
          "base_uri": "https://localhost:8080/"
        },
        "id": "Lo9a6Ycptyjs",
        "outputId": "82d4ab0d-3972-4b81-ab64-416255abe343"
      },
      "execution_count": 20,
      "outputs": [
        {
          "output_type": "stream",
          "name": "stdout",
          "text": [
            "[1 3 5 7 9]\n"
          ]
        }
      ]
    },
    {
      "cell_type": "code",
      "source": [
        "# 22. Write a Python function using NumPy to generate an array of 10 equally spaced values between 0 and 1 (inclusive).\n",
        "def equal_space_array():\n",
        "    return np.linspace(0, 1, 10)\n",
        "\n",
        "print(equal_space_array())"
      ],
      "metadata": {
        "colab": {
          "base_uri": "https://localhost:8080/"
        },
        "id": "vaIfv8NEt_Sc",
        "outputId": "d25ddbab-f400-4d32-d7e5-d8087988d86d"
      },
      "execution_count": 21,
      "outputs": [
        {
          "output_type": "stream",
          "name": "stdout",
          "text": [
            "[0.         0.11111111 0.22222222 0.33333333 0.44444444 0.55555556\n",
            " 0.66666667 0.77777778 0.88888889 1.        ]\n"
          ]
        }
      ]
    },
    {
      "cell_type": "code",
      "source": [
        "# 23. Write a Python function using NumPy to create an array of 5 logarithmically spaced values between 1 and 1000 (inclusive)\n",
        "def logarithmic_space_array():\n",
        "    return np.logspace(0, 3, 5)\n",
        "\n",
        "print(logarithmic_space_array())"
      ],
      "metadata": {
        "colab": {
          "base_uri": "https://localhost:8080/"
        },
        "id": "o4rWqZukuFao",
        "outputId": "e59dc912-9bed-4d0d-be7e-6618d5403e9e"
      },
      "execution_count": 22,
      "outputs": [
        {
          "output_type": "stream",
          "name": "stdout",
          "text": [
            "[   1.            5.62341325   31.6227766   177.827941   1000.        ]\n"
          ]
        }
      ]
    },
    {
      "cell_type": "code",
      "source": [
        "# 23. Write a Python function using NumPy to create an array of 5 logarithmically spaced values between 1 and 1000 (inclusive).\n",
        "def logarithmic_space_array():\n",
        "    return np.logspace(0, 3, 5)\n",
        "\n",
        "print(logarithmic_space_array())\n"
      ],
      "metadata": {
        "colab": {
          "base_uri": "https://localhost:8080/"
        },
        "id": "VICv87Biunnp",
        "outputId": "86157853-7544-4288-9ae3-c22291b318f8"
      },
      "execution_count": 23,
      "outputs": [
        {
          "output_type": "stream",
          "name": "stdout",
          "text": [
            "[   1.            5.62341325   31.6227766   177.827941   1000.        ]\n"
          ]
        }
      ]
    },
    {
      "cell_type": "code",
      "source": [
        "# 24. Create a Pandas DataFrame using a NumPy array that contains 5 rows and 3 columns, where the values are random integers between 1 and 100.\n",
        "arr = np.random.randint(1, 101, size=(5, 3))\n",
        "df = pd.DataFrame(arr, columns=[\"A\", \"B\", \"C\"])\n",
        "print(df)"
      ],
      "metadata": {
        "colab": {
          "base_uri": "https://localhost:8080/"
        },
        "id": "dxQI0DeouqOo",
        "outputId": "97c417aa-8922-4f42-9d8a-e4e624c872bd"
      },
      "execution_count": 24,
      "outputs": [
        {
          "output_type": "stream",
          "name": "stdout",
          "text": [
            "    A    B   C\n",
            "0  13   13  24\n",
            "1  19   27  57\n",
            "2  47  100  74\n",
            "3  92   29  44\n",
            "4  40    6  72\n"
          ]
        }
      ]
    },
    {
      "cell_type": "code",
      "source": [
        "# 25. Write a function that takes a Pandas DataFrame and replaces all negative values in a specific column with zeros. Use NumPy operations within the Pandas DataFrame.\n",
        "def replace_negatives(df, column_name):\n",
        "    df[column_name] = np.where(df[column_name] < 0, 0, df[column_name])\n",
        "    return df\n",
        "\n",
        "sample_df = pd.DataFrame({\n",
        "    \"A\": [10, -5, 7, -2],\n",
        "    \"B\": [1, 2, 3, 4]\n",
        "})\n",
        "print(replace_negatives(sample_df, \"A\"))"
      ],
      "metadata": {
        "colab": {
          "base_uri": "https://localhost:8080/"
        },
        "id": "i0iAWlC_ut76",
        "outputId": "4bd47301-dc9c-432f-9c07-30de2086ab08"
      },
      "execution_count": 25,
      "outputs": [
        {
          "output_type": "stream",
          "name": "stdout",
          "text": [
            "    A  B\n",
            "0  10  1\n",
            "1   0  2\n",
            "2   7  3\n",
            "3   0  4\n"
          ]
        }
      ]
    },
    {
      "cell_type": "code",
      "source": [
        "# 26. Access the 3rd element from the given NumPy array.\n",
        "arr = np.array([10, 20, 30, 40, 50])\n",
        "print(arr[2])\n"
      ],
      "metadata": {
        "colab": {
          "base_uri": "https://localhost:8080/"
        },
        "id": "aGZmB43Bu1tG",
        "outputId": "403ba2a7-f061-4e6d-e75e-040f4ca15d97"
      },
      "execution_count": 26,
      "outputs": [
        {
          "output_type": "stream",
          "name": "stdout",
          "text": [
            "30\n"
          ]
        }
      ]
    },
    {
      "cell_type": "code",
      "source": [
        "# 27. Retrieve the element at index (1, 2) from the 2D NumPy array.\n",
        "arr_2d = np.array([\n",
        "    [1, 2, 3],\n",
        "    [4, 5, 6],\n",
        "    [7, 8, 9]\n",
        "])\n",
        "print(arr_2d[1, 2])\n"
      ],
      "metadata": {
        "colab": {
          "base_uri": "https://localhost:8080/"
        },
        "id": "A8u0ZOYnu4kK",
        "outputId": "b67808d5-22c1-4b2e-947d-dafeba24fbbb"
      },
      "execution_count": 27,
      "outputs": [
        {
          "output_type": "stream",
          "name": "stdout",
          "text": [
            "6\n"
          ]
        }
      ]
    },
    {
      "cell_type": "code",
      "source": [
        "# 28. Using boolean indexing, extract elements greater than 5 from the given NumPy array.\n",
        "arr = np.array([3, 8, 2, 10, 5, 7])\n",
        "print(arr[arr > 5])"
      ],
      "metadata": {
        "colab": {
          "base_uri": "https://localhost:8080/"
        },
        "id": "eDwOk3mQu4uj",
        "outputId": "09c0a828-d282-4747-9a6d-d228ca46367c"
      },
      "execution_count": 28,
      "outputs": [
        {
          "output_type": "stream",
          "name": "stdout",
          "text": [
            "[ 8 10  7]\n"
          ]
        }
      ]
    },
    {
      "cell_type": "code",
      "source": [
        "# 29. Perform basic slicing to extract elements from index 2 to 5 (inclusive) from the given NumPy array.\n",
        "arr = np.array([1, 2, 3, 4, 5, 6, 7, 8, 9])\n",
        "print(arr[2:6])\n"
      ],
      "metadata": {
        "colab": {
          "base_uri": "https://localhost:8080/"
        },
        "id": "IvswYG8ou48A",
        "outputId": "5ce732fa-78d7-4e1a-fd96-0bb27b7f4a5e"
      },
      "execution_count": 29,
      "outputs": [
        {
          "output_type": "stream",
          "name": "stdout",
          "text": [
            "[3 4 5 6]\n"
          ]
        }
      ]
    },
    {
      "cell_type": "code",
      "source": [
        "# 30. Slice the 2D NumPy array to extract the sub-array [[2, 3], [5, 6]] from the given array.\n",
        "arr_2d = np.array([\n",
        "    [1, 2, 3],\n",
        "    [4, 5, 6],\n",
        "    [7, 8, 9]\n",
        "])\n",
        "print(arr_2d[0:2, 1:3])\n"
      ],
      "metadata": {
        "colab": {
          "base_uri": "https://localhost:8080/"
        },
        "id": "6olE-3tru5Ge",
        "outputId": "1751f96c-b2d4-405b-e3cf-2bfeed35e4e2"
      },
      "execution_count": 30,
      "outputs": [
        {
          "output_type": "stream",
          "name": "stdout",
          "text": [
            "[[2 3]\n",
            " [5 6]]\n"
          ]
        }
      ]
    },
    {
      "cell_type": "code",
      "source": [
        "# 31. Write a NumPy function to extract elements in specific order from a given 2D array based on indices provided in another array.\n",
        "def extract_by_indices(arr, indices):\n",
        "    return arr.flat[indices]\n",
        "\n",
        "arr = np.array([[10, 20, 30], [40, 50, 60]])\n",
        "indices = [0, 4, 5]\n",
        "print(extract_by_indices(arr, indices))"
      ],
      "metadata": {
        "colab": {
          "base_uri": "https://localhost:8080/"
        },
        "id": "TeIr-Bjpu5yE",
        "outputId": "76bb397b-413b-4d97-bbee-4ab6f0e1e8f1"
      },
      "execution_count": 31,
      "outputs": [
        {
          "output_type": "stream",
          "name": "stdout",
          "text": [
            "[10 50 60]\n"
          ]
        }
      ]
    },
    {
      "cell_type": "code",
      "source": [
        "# 32. Create a NumPy function that filters elements greater than a threshold from a given 1D array using boolean indexing.\n",
        "def filter_greater_than(arr, threshold):\n",
        "    return arr[arr > threshold]\n",
        "\n",
        "arr = np.array([2, 8, 3, 10, 6])\n",
        "print(filter_greater_than(arr, 5))"
      ],
      "metadata": {
        "colab": {
          "base_uri": "https://localhost:8080/"
        },
        "id": "7sYA3vR1u56C",
        "outputId": "75eb9920-0010-4a15-dfdb-b592ecb3ec3d"
      },
      "execution_count": 32,
      "outputs": [
        {
          "output_type": "stream",
          "name": "stdout",
          "text": [
            "[ 8 10  6]\n"
          ]
        }
      ]
    },
    {
      "cell_type": "code",
      "source": [
        "# 33. Develop a NumPy function that extracts specific elements from a 3D array using indices provided in three separate arrays for each dimension.\n",
        "def extract_from_3d(arr, x, y, z):\n",
        "    return arr[x, y, z]\n",
        "\n",
        "arr = np.arange(2*3*4).reshape(2, 3, 4)\n",
        "x = np.array([0, 1])\n",
        "y = np.array([1, 2])\n",
        "z = np.array([2, 3])\n",
        "print(extract_from_3d(arr, x, y, z))"
      ],
      "metadata": {
        "colab": {
          "base_uri": "https://localhost:8080/"
        },
        "id": "jO6nps5nwNRl",
        "outputId": "a523ab8d-2b67-4758-d642-d238f3fab2c0"
      },
      "execution_count": 33,
      "outputs": [
        {
          "output_type": "stream",
          "name": "stdout",
          "text": [
            "[ 6 23]\n"
          ]
        }
      ]
    },
    {
      "cell_type": "code",
      "source": [
        "# 34. Write a NumPy function that returns elements from an array where both two conditions are satisfied using boolean indexing.\n",
        "def filter_both_conditions(arr):\n",
        "    return arr[(arr > 3) & (arr < 8)]\n",
        "\n",
        "arr = np.array([1, 4, 6, 8, 10])\n",
        "print(filter_both_conditions(arr))\n"
      ],
      "metadata": {
        "colab": {
          "base_uri": "https://localhost:8080/"
        },
        "id": "zi_kSJ88u6CI",
        "outputId": "63ea03a4-923f-46cb-8331-e628dd6b1743"
      },
      "execution_count": 34,
      "outputs": [
        {
          "output_type": "stream",
          "name": "stdout",
          "text": [
            "[4 6]\n"
          ]
        }
      ]
    },
    {
      "cell_type": "code",
      "source": [
        "# 35. Create a NumPy function that extracts elements from a 2D array using row and column indices provided in separate arrays.\n",
        "def extract_by_row_col(arr, row_idx, col_idx):\n",
        "    return arr[row_idx, col_idx]\n",
        "\n",
        "arr = np.array([[10, 20], [30, 40], [50, 60]])\n",
        "rows = np.array([0, 1, 2])\n",
        "cols = np.array([1, 0, 1])\n",
        "print(extract_by_row_col(arr, rows, cols))\n"
      ],
      "metadata": {
        "colab": {
          "base_uri": "https://localhost:8080/"
        },
        "id": "lA1EpSeKwUIB",
        "outputId": "ab56f6dd-6f70-4c0d-b454-6b3e3440b7a5"
      },
      "execution_count": 35,
      "outputs": [
        {
          "output_type": "stream",
          "name": "stdout",
          "text": [
            "[20 30 60]\n"
          ]
        }
      ]
    },
    {
      "cell_type": "code",
      "source": [
        "# 36. Given an array arr of shape (3, 3), add a scalar value of 5 to each element using NumPy broadcasting.\n",
        "arr = np.array([[1, 2, 3], [4, 5, 6], [7, 8, 9]])\n",
        "print(arr + 5)\n"
      ],
      "metadata": {
        "colab": {
          "base_uri": "https://localhost:8080/"
        },
        "id": "s2BYRyPBwUiz",
        "outputId": "3433cbdc-d3c6-4b1e-c530-5caaac2808e3"
      },
      "execution_count": 36,
      "outputs": [
        {
          "output_type": "stream",
          "name": "stdout",
          "text": [
            "[[ 6  7  8]\n",
            " [ 9 10 11]\n",
            " [12 13 14]]\n"
          ]
        }
      ]
    },
    {
      "cell_type": "code",
      "source": [
        "# 37. Consider two arrays arr1 of shape (1, 3) and arr2 of shape (3, 4). Multiply each row of arr2 by the corresponding element in arr1 using NumPy broadcasting.\n",
        "arr1 = np.array([[1, 2, 3]])\n",
        "arr2 = np.array([[1, 1, 1, 1],\n",
        "                 [2, 2, 2, 2],\n",
        "                 [3, 3, 3, 3]])\n",
        "result = arr2 * arr1.T\n",
        "print(result)"
      ],
      "metadata": {
        "colab": {
          "base_uri": "https://localhost:8080/"
        },
        "id": "pT7jI49FwUsd",
        "outputId": "93b707d3-e9f3-45ce-f79a-02b537bbd726"
      },
      "execution_count": 37,
      "outputs": [
        {
          "output_type": "stream",
          "name": "stdout",
          "text": [
            "[[1 1 1 1]\n",
            " [4 4 4 4]\n",
            " [9 9 9 9]]\n"
          ]
        }
      ]
    },
    {
      "cell_type": "code",
      "source": [
        "# 38. Given a 1D array arr1 of shape (1, 4) and a 2D array arr2 of shape (4, 3), add arr1 to each row of arr2 using NumPy broadcasting.\n",
        "arr1 = np.array([[1, 2, 3, 4]])\n",
        "arr2 = np.array([[10, 20, 30],\n",
        "                 [40, 50, 60],\n",
        "                 [70, 80, 90],\n",
        "                 [100, 110, 120]])\n",
        "result = arr2 + arr1.T\n",
        "print(result)"
      ],
      "metadata": {
        "colab": {
          "base_uri": "https://localhost:8080/"
        },
        "id": "UFIh4WI0wUyi",
        "outputId": "d77e31a8-95f7-4a40-d902-509e0424da56"
      },
      "execution_count": 38,
      "outputs": [
        {
          "output_type": "stream",
          "name": "stdout",
          "text": [
            "[[ 11  21  31]\n",
            " [ 42  52  62]\n",
            " [ 73  83  93]\n",
            " [104 114 124]]\n"
          ]
        }
      ]
    },
    {
      "cell_type": "code",
      "source": [
        "# 39. Consider two arrays arr1 of shape (3, 1) and arr2 of shape (1, 3). Add these arrays using NumPy broadcasting.\n",
        "arr1 = np.array([[1], [2], [3]])\n",
        "arr2 = np.array([[10, 20, 30]])\n",
        "print(arr1 + arr2)"
      ],
      "metadata": {
        "colab": {
          "base_uri": "https://localhost:8080/"
        },
        "id": "qAYYbUJ4wU5F",
        "outputId": "8b4ba208-5b3e-45be-8914-1807905193d2"
      },
      "execution_count": 39,
      "outputs": [
        {
          "output_type": "stream",
          "name": "stdout",
          "text": [
            "[[11 21 31]\n",
            " [12 22 32]\n",
            " [13 23 33]]\n"
          ]
        }
      ]
    },
    {
      "cell_type": "code",
      "source": [
        "# 40. Given arrays arr1 of shape (2, 3) and arr2 of shape (2, 2), perform multiplication using NumPy broadcasting. Handle the shape incompatibility.\n",
        "arr1 = np.array([[1, 2, 3], [4, 5, 6]])\n",
        "arr2 = np.array([[1, 2], [3, 4]])\n",
        "try:\n",
        "    result = arr1 * arr2\n",
        "except ValueError as e:\n",
        "    print(\"Incompatible shapes:\", e)"
      ],
      "metadata": {
        "colab": {
          "base_uri": "https://localhost:8080/"
        },
        "id": "vX72OyKywU8e",
        "outputId": "36418746-c62a-48de-d8fb-b211be5a5a8d"
      },
      "execution_count": 40,
      "outputs": [
        {
          "output_type": "stream",
          "name": "stdout",
          "text": [
            "Incompatible shapes: operands could not be broadcast together with shapes (2,3) (2,2) \n"
          ]
        }
      ]
    },
    {
      "cell_type": "code",
      "source": [
        "# 41. Calculate column-wise mean for the given array:\n",
        "arr = np.array([[1, 2, 3], [4, 5, 6]])\n",
        "print(np.mean(arr, axis=0))"
      ],
      "metadata": {
        "colab": {
          "base_uri": "https://localhost:8080/"
        },
        "id": "P8YLnzY9wU_1",
        "outputId": "29a7c5d2-d9b1-4577-9fb1-74514c67666c"
      },
      "execution_count": 41,
      "outputs": [
        {
          "output_type": "stream",
          "name": "stdout",
          "text": [
            "[2.5 3.5 4.5]\n"
          ]
        }
      ]
    },
    {
      "cell_type": "code",
      "source": [
        "# 42. Find maximum value in each row of the given array:\n",
        "arr = np.array([[1, 2, 3], [4, 5, 6]])\n",
        "print(np.max(arr, axis=1))"
      ],
      "metadata": {
        "colab": {
          "base_uri": "https://localhost:8080/"
        },
        "id": "RC7dO4-9wVDJ",
        "outputId": "698fe0e0-bdb6-4f72-b910-07f7172acaf6"
      },
      "execution_count": 42,
      "outputs": [
        {
          "output_type": "stream",
          "name": "stdout",
          "text": [
            "[3 6]\n"
          ]
        }
      ]
    },
    {
      "cell_type": "code",
      "source": [
        "# 43. For the given array, find indices of maximum value in each column.\n",
        "arr = np.array([[1, 2, 3], [4, 5, 6]])\n",
        "print(np.argmax(arr, axis=0))"
      ],
      "metadata": {
        "colab": {
          "base_uri": "https://localhost:8080/"
        },
        "id": "3BFO8SApwVGL",
        "outputId": "839fed83-9dbe-41ee-91da-e2c40d6eda8c"
      },
      "execution_count": 43,
      "outputs": [
        {
          "output_type": "stream",
          "name": "stdout",
          "text": [
            "[1 1 1]\n"
          ]
        }
      ]
    },
    {
      "cell_type": "code",
      "source": [
        "# 44. For the given array, apply custom function to calculate moving sum along rows.\n",
        "def moving_sum(arr):\n",
        "    return np.cumsum(arr, axis=1)\n",
        "\n",
        "arr = np.array([[1, 2, 3], [4, 5, 6]])\n",
        "print(moving_sum(arr))"
      ],
      "metadata": {
        "colab": {
          "base_uri": "https://localhost:8080/"
        },
        "id": "mMAyLkJ7wVIj",
        "outputId": "0fd19740-b4e9-42a3-bbb4-b5d3919de195"
      },
      "execution_count": 44,
      "outputs": [
        {
          "output_type": "stream",
          "name": "stdout",
          "text": [
            "[[ 1  3  6]\n",
            " [ 4  9 15]]\n"
          ]
        }
      ]
    },
    {
      "cell_type": "code",
      "source": [
        "# 45. In the given array, check if all elements in each column are even.\n",
        "arr = np.array([[2, 4, 6], [3, 5, 7]])\n",
        "print(np.all(arr % 2 == 0, axis=0))"
      ],
      "metadata": {
        "colab": {
          "base_uri": "https://localhost:8080/"
        },
        "id": "EXH-wqNSwVLK",
        "outputId": "bead0421-af18-4462-dbff-95c1a369a0a1"
      },
      "execution_count": 45,
      "outputs": [
        {
          "output_type": "stream",
          "name": "stdout",
          "text": [
            "[False False False]\n"
          ]
        }
      ]
    },
    {
      "cell_type": "code",
      "source": [
        "# 46. Given a NumPy array arr, reshape it into a matrix of dimensions m rows and n columns. Return the reshaped matrix.\n",
        "original_array = np.array([1, 2, 3, 4, 5, 6])\n",
        "m = 2\n",
        "n = 3\n",
        "reshaped_matrix = original_array.reshape(m, n)\n",
        "print(reshaped_matrix)"
      ],
      "metadata": {
        "id": "M21jJBKRwVNh",
        "colab": {
          "base_uri": "https://localhost:8080/"
        },
        "outputId": "32b94827-ae7c-4e80-be22-2944d8da916c"
      },
      "execution_count": 46,
      "outputs": [
        {
          "output_type": "stream",
          "name": "stdout",
          "text": [
            "[[1 2 3]\n",
            " [4 5 6]]\n"
          ]
        }
      ]
    },
    {
      "cell_type": "code",
      "source": [
        "# 47. Create a function that takes a matrix as input and returns the flattened array.\n",
        "\n",
        "\n",
        "input_matrix = np.array([[1, 2, 3], [4, 5, 6]])\n",
        "\n",
        "def flatten_matrix(matrix):\n",
        "    return matrix.flatten()\n",
        "\n",
        "print(flatten_matrix(input_matrix))"
      ],
      "metadata": {
        "id": "Yp-kJ3N-wVQF",
        "colab": {
          "base_uri": "https://localhost:8080/"
        },
        "outputId": "f87dac65-da39-49ae-b9f2-825ba37a23b2"
      },
      "execution_count": 47,
      "outputs": [
        {
          "output_type": "stream",
          "name": "stdout",
          "text": [
            "[1 2 3 4 5 6]\n"
          ]
        }
      ]
    },
    {
      "cell_type": "code",
      "source": [
        "# 48. Write a function that concatenates two given arrays along a specified axis.\n",
        "array1 = np.array([[1, 2], [3, 4]])\n",
        "array2 = np.array([[5, 6], [7, 8]])\n",
        "\n",
        "def concatenate_arrays(arr1, arr2, axis):\n",
        "    return np.concatenate((arr1, arr2), axis=axis)\n",
        "\n",
        "print(concatenate_arrays(array1, array2, axis=0))\n",
        "print(concatenate_arrays(array1, array2, axis=1))\n"
      ],
      "metadata": {
        "id": "p8INGwqgwVSK",
        "colab": {
          "base_uri": "https://localhost:8080/"
        },
        "outputId": "a560e4e8-fb80-4d4b-c57c-d069a1c9a03c"
      },
      "execution_count": 48,
      "outputs": [
        {
          "output_type": "stream",
          "name": "stdout",
          "text": [
            "[[1 2]\n",
            " [3 4]\n",
            " [5 6]\n",
            " [7 8]]\n",
            "[[1 2 5 6]\n",
            " [3 4 7 8]]\n"
          ]
        }
      ]
    },
    {
      "cell_type": "code",
      "source": [
        "# 49. Create a function that splits an array into multiple sub-arrays along a specified axis.\n",
        "original_array = np.array([[1, 2, 3], [4, 5, 6], [7, 8, 9]])\n",
        "\n",
        "def split_array(arr, num_splits, axis):\n",
        "    return np.array_split(arr, num_splits, axis=axis)\n",
        "\n",
        "print(split_array(original_array, 3, axis=0))\n",
        "print(split_array(original_array, 3, axis=1))\n"
      ],
      "metadata": {
        "id": "lhqq4WxqwVUx",
        "colab": {
          "base_uri": "https://localhost:8080/"
        },
        "outputId": "5841d406-98fb-4c61-80d0-978a688392b3"
      },
      "execution_count": 49,
      "outputs": [
        {
          "output_type": "stream",
          "name": "stdout",
          "text": [
            "[array([[1, 2, 3]]), array([[4, 5, 6]]), array([[7, 8, 9]])]\n",
            "[array([[1],\n",
            "       [4],\n",
            "       [7]]), array([[2],\n",
            "       [5],\n",
            "       [8]]), array([[3],\n",
            "       [6],\n",
            "       [9]])]\n"
          ]
        }
      ]
    },
    {
      "cell_type": "code",
      "source": [
        "# 50. Write a function that inserts and then deletes elements from a given array at specified indices.\n",
        "\n",
        "original_array = np.array([1, 2, 3, 4, 5])\n",
        "indices_to_insert = [2, 4]\n",
        "values_to_insert = [10, 11]\n",
        "indices_to_delete = [1, 3]\n",
        "\n",
        "inserted_array = np.insert(original_array, indices_to_insert, values_to_insert)\n",
        "final_array = np.delete(inserted_array, indices_to_delete)\n",
        "print(final_array)\n"
      ],
      "metadata": {
        "id": "rl8h6IkhwVXt",
        "colab": {
          "base_uri": "https://localhost:8080/"
        },
        "outputId": "0a025e4d-a1b8-46ce-8014-9e914cfde92e"
      },
      "execution_count": 50,
      "outputs": [
        {
          "output_type": "stream",
          "name": "stdout",
          "text": [
            "[ 1 10  4 11  5]\n"
          ]
        }
      ]
    },
    {
      "cell_type": "code",
      "source": [
        "# 51. Create a NumPy array arr1 with random integers and another array arr2 with integers from 1 to 10. Perform element-wise addition between arr1 and arr2.\n",
        "arr1 = np.random.randint(1, 100, 10)\n",
        "arr2 = np.arange(1, 11)\n",
        "\n",
        "result = arr1 + arr2\n",
        "print(\"arr1:\", arr1)\n",
        "print(\"arr2:\", arr2)\n",
        "print(\"result:\", result)\n"
      ],
      "metadata": {
        "id": "n4a6zoi4wVaj",
        "colab": {
          "base_uri": "https://localhost:8080/"
        },
        "outputId": "0f8ad4c4-20ab-4af1-90ba-4a4cb063d8f2"
      },
      "execution_count": 51,
      "outputs": [
        {
          "output_type": "stream",
          "name": "stdout",
          "text": [
            "arr1: [37 37 67 23  4 54 74 86 68  2]\n",
            "arr2: [ 1  2  3  4  5  6  7  8  9 10]\n",
            "result: [38 39 70 27  9 60 81 94 77 12]\n"
          ]
        }
      ]
    },
    {
      "cell_type": "code",
      "source": [
        "# 52. Generate a NumPy array arr1 with sequential integers from 10 to 1 and another array arr2 with integers from 1 to 10. Subtract arr2 from arr1 element-wise.\n",
        "arr1 = np.arange(10, 0, -1)\n",
        "arr2 = np.arange(1, 11)\n",
        "result = arr1 - arr2\n",
        "print(arr1)\n",
        "print(arr2)\n",
        "print(result)"
      ],
      "metadata": {
        "id": "5iQuMKbHwVcZ",
        "colab": {
          "base_uri": "https://localhost:8080/"
        },
        "outputId": "242d9b79-471e-4873-e02f-1459c8c22e18"
      },
      "execution_count": 52,
      "outputs": [
        {
          "output_type": "stream",
          "name": "stdout",
          "text": [
            "[10  9  8  7  6  5  4  3  2  1]\n",
            "[ 1  2  3  4  5  6  7  8  9 10]\n",
            "[ 9  7  5  3  1 -1 -3 -5 -7 -9]\n"
          ]
        }
      ]
    },
    {
      "cell_type": "code",
      "source": [
        "# 53. Create a NumPy array arr1 with random integers and another array arr2 with integers from 1 to 5. Perform element-wise multiplication between arr1 and arr2.\n",
        "arr1 = np.random.randint(1, 100, 5)\n",
        "arr2 = np.array([1, 2, 3, 4, 5])\n",
        "result = arr1 * arr2\n",
        "print(arr1)\n",
        "print(arr2)\n",
        "print(result)"
      ],
      "metadata": {
        "id": "XIWuxq6cwVfN",
        "colab": {
          "base_uri": "https://localhost:8080/"
        },
        "outputId": "82ecc4ec-4682-4124-f205-deb42f12e1c1"
      },
      "execution_count": 53,
      "outputs": [
        {
          "output_type": "stream",
          "name": "stdout",
          "text": [
            "[74 78 95 98 79]\n",
            "[1 2 3 4 5]\n",
            "[ 74 156 285 392 395]\n"
          ]
        }
      ]
    },
    {
      "cell_type": "code",
      "source": [
        "# 54. Generate a NumPy array arr1 with even integers from 2 to 10 and another array arr2 with integers from 1 to 5. Perform element-wise division of arr1 by arr2.\n",
        "arr1 = np.array([2, 4, 6, 8, 10])\n",
        "arr2 = np.array([1, 2, 3, 4, 5])\n",
        "result = arr1 / arr2\n",
        "print(arr1)\n",
        "print(arr2)\n",
        "print(result)"
      ],
      "metadata": {
        "id": "Teg7_38UwVip",
        "colab": {
          "base_uri": "https://localhost:8080/"
        },
        "outputId": "884bf9e9-bca8-47d0-cc99-71748a5c2e74"
      },
      "execution_count": 54,
      "outputs": [
        {
          "output_type": "stream",
          "name": "stdout",
          "text": [
            "[ 2  4  6  8 10]\n",
            "[1 2 3 4 5]\n",
            "[2. 2. 2. 2. 2.]\n"
          ]
        }
      ]
    },
    {
      "cell_type": "code",
      "source": [
        "# 55. Create a NumPy array arr1 with integers from 1 to 5 and another array arr2 with the same numbers reversed. Calculate the exponentiation of arr1 raised to the power of arr2 element-wise.\n",
        "arr1 = np.array([1, 2, 3, 4, 5])\n",
        "arr2 = np.array([5, 4, 3, 2, 1])\n",
        "result = arr1 ** arr2\n",
        "print(arr1)\n",
        "print(arr2)\n",
        "print(result)"
      ],
      "metadata": {
        "id": "3pIrcudmwVmC",
        "colab": {
          "base_uri": "https://localhost:8080/"
        },
        "outputId": "ba86a7cc-e684-42b5-e3f7-02568296e466"
      },
      "execution_count": 55,
      "outputs": [
        {
          "output_type": "stream",
          "name": "stdout",
          "text": [
            "[1 2 3 4 5]\n",
            "[5 4 3 2 1]\n",
            "[ 1 16 27 16  5]\n"
          ]
        }
      ]
    },
    {
      "cell_type": "code",
      "source": [
        "# 56. Write a function that counts the occurrences of a specific substring within a NumPy array of strings.\n",
        "arr = np.array(['hello', 'world', 'hello', 'numpy', 'hello'])\n",
        "\n",
        "def count_substring(array, substring):\n",
        "    return np.char.count(array, substring).sum()\n",
        "\n",
        "print(count_substring(arr, 'hello'))"
      ],
      "metadata": {
        "id": "bMfNibKdwVpJ",
        "colab": {
          "base_uri": "https://localhost:8080/"
        },
        "outputId": "1436c7bb-a6b7-4534-a897-7e5c2baf5548"
      },
      "execution_count": 56,
      "outputs": [
        {
          "output_type": "stream",
          "name": "stdout",
          "text": [
            "3\n"
          ]
        }
      ]
    },
    {
      "cell_type": "code",
      "source": [
        "# 57. Write a function that extracts uppercase characters from a NumPy array of strings.\n",
        "arr = np.array(['Hello', 'World', 'OpenAI', 'GPT'])\n",
        "\n",
        "def extract_uppercase(array):\n",
        "    return [''.join([ch for ch in word if ch.isupper()]) for word in array]\n",
        "\n",
        "print(extract_uppercase(arr))"
      ],
      "metadata": {
        "id": "LNSLTGoMwVsd",
        "colab": {
          "base_uri": "https://localhost:8080/"
        },
        "outputId": "8174f890-e5d3-492b-cc62-b4819b66eee4"
      },
      "execution_count": 57,
      "outputs": [
        {
          "output_type": "stream",
          "name": "stdout",
          "text": [
            "['H', 'W', 'OAI', 'GPT']\n"
          ]
        }
      ]
    },
    {
      "cell_type": "code",
      "source": [
        "# 58. Write a function that replaces occurrences of a substring in a NumPy array of strings with a new string.\n",
        "arr = np.array(['apple', 'banana', 'grape', 'pineapple'])\n",
        "\n",
        "def replace_substring(array, old, new):\n",
        "    return np.char.replace(array, old, new)\n",
        "\n",
        "print(replace_substring(arr, 'apple', 'mango'))\n"
      ],
      "metadata": {
        "id": "n1hX3rYDwVv4",
        "colab": {
          "base_uri": "https://localhost:8080/"
        },
        "outputId": "8ea56474-765e-4274-d40e-81dcc0ae97a3"
      },
      "execution_count": 58,
      "outputs": [
        {
          "output_type": "stream",
          "name": "stdout",
          "text": [
            "['mango' 'banana' 'grape' 'pinemango']\n"
          ]
        }
      ]
    },
    {
      "cell_type": "code",
      "source": [
        "# 59. Write a function that concatenates strings in a NumPy array element-wise.\n",
        "arr1 = np.array(['Hello', 'World'])\n",
        "arr2 = np.array(['Open', 'AI'])\n",
        "\n",
        "def concatenate_arrays(a, b):\n",
        "    return np.char.add(a, b)\n",
        "\n",
        "print(concatenate_arrays(arr1, arr2))\n",
        "# 59. Write a function that concatenates strings in a NumPy array element-wise.\n",
        "arr1 = np.array(['Hello', 'World'])\n",
        "arr2 = np.array(['Open', 'AI'])\n",
        "\n",
        "def concatenate_arrays(a, b):\n",
        "    return np.char.add(a, b)\n",
        "\n",
        "print(concatenate_arrays(arr1, arr2))"
      ],
      "metadata": {
        "id": "bTOdUJzVwVyj",
        "colab": {
          "base_uri": "https://localhost:8080/"
        },
        "outputId": "3d0e03a4-c629-4e5c-ce18-06f20a2624a4"
      },
      "execution_count": 59,
      "outputs": [
        {
          "output_type": "stream",
          "name": "stdout",
          "text": [
            "['HelloOpen' 'WorldAI']\n",
            "['HelloOpen' 'WorldAI']\n"
          ]
        }
      ]
    },
    {
      "cell_type": "code",
      "source": [
        "# 60. Write a function that finds the length of the longest string in a NumPy array.\n",
        "arr = np.array(['apple', 'banana', 'grape', 'pineapple'])\n",
        "\n",
        "def longest_length(array):\n",
        "    return max([len(word) for word in array])\n",
        "\n",
        "print(longest_length(arr))\n"
      ],
      "metadata": {
        "id": "F8R5402IwV1r",
        "colab": {
          "base_uri": "https://localhost:8080/"
        },
        "outputId": "808a14eb-811b-4220-8738-9bb53fe2651a"
      },
      "execution_count": 60,
      "outputs": [
        {
          "output_type": "stream",
          "name": "stdout",
          "text": [
            "9\n"
          ]
        }
      ]
    },
    {
      "cell_type": "code",
      "source": [
        "# 61. Create a dataset of 100 random integers between 1 and 1000. Compute the mean, median, variance, and standard deviation of the dataset using NumPy's functions.\n",
        "data = np.random.randint(1, 1001, 100)\n",
        "mean = np.mean(data)\n",
        "median = np.median(data)\n",
        "variance = np.var(data)\n",
        "std_deviation = np.std(data)\n",
        "\n",
        "print(mean)\n",
        "print(median)\n",
        "print(variance)\n",
        "print(std_deviation)\n"
      ],
      "metadata": {
        "id": "efYXsVzHwV4u",
        "colab": {
          "base_uri": "https://localhost:8080/"
        },
        "outputId": "e7febe3c-a355-4a84-bc58-bf7158305255"
      },
      "execution_count": 61,
      "outputs": [
        {
          "output_type": "stream",
          "name": "stdout",
          "text": [
            "526.39\n",
            "535.5\n",
            "73805.99790000002\n",
            "271.6725932073385\n"
          ]
        }
      ]
    },
    {
      "cell_type": "code",
      "source": [
        "# 62. Generate an array of 50 random numbers between 1 and 100. Find the 25th and 75th percentiles of the dataset.\n",
        "data = np.random.randint(1, 101, 50)\n",
        "percentile_25 = np.percentile(data, 25)\n",
        "percentile_75 = np.percentile(data, 75)\n",
        "\n",
        "print(percentile_25)\n",
        "print(percentile_75)"
      ],
      "metadata": {
        "id": "nhNd0A4gwV7U",
        "colab": {
          "base_uri": "https://localhost:8080/"
        },
        "outputId": "953d98a8-1788-4263-fcb8-cff0aea59c2a"
      },
      "execution_count": 62,
      "outputs": [
        {
          "output_type": "stream",
          "name": "stdout",
          "text": [
            "24.25\n",
            "67.5\n"
          ]
        }
      ]
    },
    {
      "cell_type": "code",
      "source": [
        "# 63. Create two arrays representing two sets of variables. Compute the correlation coefficient between these arrays using NumPy's corrcoef function.\n",
        "x = np.random.randint(1, 100, 10)\n",
        "y = np.random.randint(1, 100, 10)\n",
        "\n",
        "correlation = np.corrcoef(x, y)\n",
        "\n",
        "print(x)\n",
        "print(y)\n",
        "print(correlation)\n"
      ],
      "metadata": {
        "id": "jRrJDMpZwV99",
        "colab": {
          "base_uri": "https://localhost:8080/"
        },
        "outputId": "07ffe9ba-aeff-4aac-ea28-d4c0fba9dcf5"
      },
      "execution_count": 63,
      "outputs": [
        {
          "output_type": "stream",
          "name": "stdout",
          "text": [
            "[35  1 93 93 60  4 77 11 90 77]\n",
            "[68 65 95  4 55 62 17  9 59 56]\n",
            "[[ 1.         -0.02787379]\n",
            " [-0.02787379  1.        ]]\n"
          ]
        }
      ]
    },
    {
      "cell_type": "code",
      "source": [
        "# 64. Create two matrices and perform matrix multiplication using NumPy's dot function.\n",
        "A = np.array([[1, 2], [3, 4]])\n",
        "B = np.array([[5, 6], [7, 8]])\n",
        "\n",
        "result = np.dot(A, B)\n",
        "print(result)"
      ],
      "metadata": {
        "id": "RIDYZucZwWA3",
        "colab": {
          "base_uri": "https://localhost:8080/"
        },
        "outputId": "81e5e7e8-1395-4a63-f626-9e9099ed4e8e"
      },
      "execution_count": 64,
      "outputs": [
        {
          "output_type": "stream",
          "name": "stdout",
          "text": [
            "[[19 22]\n",
            " [43 50]]\n"
          ]
        }
      ]
    },
    {
      "cell_type": "code",
      "source": [
        "# 65. Create an array of 50 integers between 10 and 1000. Calculate the 10th, 50th (median), and 90th percentiles along with the first and third quartiles.\n",
        "arr = np.random.randint(10, 1001, 50)\n",
        "p10 = np.percentile(arr, 10)\n",
        "p50 = np.percentile(arr, 50)\n",
        "p90 = np.percentile(arr, 90)\n",
        "q1 = np.percentile(arr, 25)\n",
        "q3 = np.percentile(arr, 75)\n",
        "\n",
        "print(p10)\n",
        "print(p50)\n",
        "print(p90)\n",
        "print(q1)\n",
        "print(q3)"
      ],
      "metadata": {
        "id": "lJs8RFXXwWDh",
        "colab": {
          "base_uri": "https://localhost:8080/"
        },
        "outputId": "7a6328ba-9e08-42f7-8f78-f53cf6aa52aa"
      },
      "execution_count": 65,
      "outputs": [
        {
          "output_type": "stream",
          "name": "stdout",
          "text": [
            "128.3\n",
            "533.5\n",
            "878.0\n",
            "253.75\n",
            "728.5\n"
          ]
        }
      ]
    },
    {
      "cell_type": "code",
      "source": [
        "# 66. Create a NumPy array of integers and find the index of a specific element.\n",
        "arr = np.array([5, 10, 15, 20, 25])\n",
        "index = np.where(arr == 15)[0][0]\n",
        "print(index)"
      ],
      "metadata": {
        "id": "U2VgUj22wWGV",
        "colab": {
          "base_uri": "https://localhost:8080/"
        },
        "outputId": "7cfc9391-b54c-4b1c-986a-4c6d25f15e0e"
      },
      "execution_count": 66,
      "outputs": [
        {
          "output_type": "stream",
          "name": "stdout",
          "text": [
            "2\n"
          ]
        }
      ]
    },
    {
      "cell_type": "code",
      "source": [
        "# 67. Generate a random NumPy array and sort it in ascending order.\n",
        "arr = np.random.randint(1, 100, 10)\n",
        "sorted_arr = np.sort(arr)\n",
        "print(sorted_arr)"
      ],
      "metadata": {
        "id": "kPhyVEOEwWI-",
        "colab": {
          "base_uri": "https://localhost:8080/"
        },
        "outputId": "8c90e326-9546-47f2-bece-3642be7d6dfe"
      },
      "execution_count": 67,
      "outputs": [
        {
          "output_type": "stream",
          "name": "stdout",
          "text": [
            "[ 6 16 17 24 29 36 70 75 86 88]\n"
          ]
        }
      ]
    },
    {
      "cell_type": "code",
      "source": [
        "# 68. Filter elements >20 in the given NumPy array.\n",
        "arr = np.array([12, 25, 6, 42, 8, 30])\n",
        "filtered = arr[arr > 20]\n",
        "print(filtered)"
      ],
      "metadata": {
        "id": "nba92phTwWL1",
        "colab": {
          "base_uri": "https://localhost:8080/"
        },
        "outputId": "9a32a921-99db-476c-98cf-235105a6a7b2"
      },
      "execution_count": 68,
      "outputs": [
        {
          "output_type": "stream",
          "name": "stdout",
          "text": [
            "[25 42 30]\n"
          ]
        }
      ]
    },
    {
      "cell_type": "code",
      "source": [
        "# 69. Filter elements which are divisible by 3 from a given NumPy array.\n",
        "arr = np.array([1, 5, 8, 12, 15])\n",
        "filtered = arr[arr % 3 == 0]\n",
        "print(filtered)"
      ],
      "metadata": {
        "id": "yKuUO-0cwWOJ",
        "colab": {
          "base_uri": "https://localhost:8080/"
        },
        "outputId": "8f507a2c-522c-46a8-f7cd-2b356a3bdb43"
      },
      "execution_count": 69,
      "outputs": [
        {
          "output_type": "stream",
          "name": "stdout",
          "text": [
            "[12 15]\n"
          ]
        }
      ]
    },
    {
      "cell_type": "code",
      "source": [
        "# 70. Filter elements which are ≥ 20 and ≤ 40 from a given NumPy array.\n",
        "arr = np.array([10, 20, 30, 40, 50])\n",
        "filtered = arr[(arr >= 20) & (arr <= 40)]\n",
        "print(filtered)"
      ],
      "metadata": {
        "id": "9xO6x8CKwWQv",
        "colab": {
          "base_uri": "https://localhost:8080/"
        },
        "outputId": "271afa97-3006-49a6-b2c1-33fe987d1e73"
      },
      "execution_count": 70,
      "outputs": [
        {
          "output_type": "stream",
          "name": "stdout",
          "text": [
            "[20 30 40]\n"
          ]
        }
      ]
    },
    {
      "cell_type": "code",
      "source": [
        "# 71. For the given NumPy array, check its byte order using the dtype attribute byteorder.\n",
        "arr = np.array([1, 2, 3])\n",
        "byte_order = arr.dtype.byteorder\n",
        "print(byte_order)"
      ],
      "metadata": {
        "id": "WcKF4SQ0wWTW",
        "colab": {
          "base_uri": "https://localhost:8080/"
        },
        "outputId": "a9f3ee4a-7351-418b-bfd0-28d1874a87df"
      },
      "execution_count": 71,
      "outputs": [
        {
          "output_type": "stream",
          "name": "stdout",
          "text": [
            "=\n"
          ]
        }
      ]
    },
    {
      "cell_type": "code",
      "source": [
        "# 72. For the given NumPy array, perform byte swapping in place using byteswap().\n",
        "arr = np.array([1, 2, 3], dtype=np.int32)\n",
        "arr.byteswap(inplace=True)\n",
        "print(arr)"
      ],
      "metadata": {
        "id": "4bOF9xSHwWVl",
        "colab": {
          "base_uri": "https://localhost:8080/"
        },
        "outputId": "e10ac599-a8fd-4377-b50a-a1b049e32b32"
      },
      "execution_count": 72,
      "outputs": [
        {
          "output_type": "stream",
          "name": "stdout",
          "text": [
            "[16777216 33554432 50331648]\n"
          ]
        }
      ]
    },
    {
      "cell_type": "code",
      "source": [
        "# 73. For the given NumPy array, swap its byte order without modifying the original array using view().\n",
        "arr = np.array([1, 2, 3], dtype=np.int32)\n",
        "new_arr = arr.view(arr.dtype.newbyteorder('S'))\n",
        "print(new_arr)"
      ],
      "metadata": {
        "id": "RPLDba4fwWYM",
        "colab": {
          "base_uri": "https://localhost:8080/"
        },
        "outputId": "820dca9f-2206-4e08-c80c-e9579713308a"
      },
      "execution_count": 73,
      "outputs": [
        {
          "output_type": "stream",
          "name": "stdout",
          "text": [
            "[16777216 33554432 50331648]\n"
          ]
        }
      ]
    },
    {
      "cell_type": "code",
      "source": [
        "# 74. For the given NumPy array, swap its byte order conditionally based on system endianness using newbyteorder().\n",
        "arr = np.array([1, 2, 3], dtype=np.int32)\n",
        "if arr.dtype.byteorder in ('=', '<'):\n",
        "    swapped = arr.view(arr.dtype.newbyteorder('>'))\n",
        "else:\n",
        "    swapped = arr.view(arr.dtype.newbyteorder('<'))\n",
        "print(swapped)\n"
      ],
      "metadata": {
        "colab": {
          "base_uri": "https://localhost:8080/"
        },
        "id": "cWgTS77Zp1NN",
        "outputId": "212d28ef-e991-4fa0-cca2-fb6a563df700"
      },
      "execution_count": 74,
      "outputs": [
        {
          "output_type": "stream",
          "name": "stdout",
          "text": [
            "[16777216 33554432 50331648]\n"
          ]
        }
      ]
    },
    {
      "cell_type": "code",
      "source": [
        "# 75. For the given NumPy array, check if byte swapping is necessary for the current system using dtype attribute byteorder.\n",
        "arr = np.array([1, 2, 3], dtype=np.int32)\n",
        "print(arr.dtype.byteorder)"
      ],
      "metadata": {
        "colab": {
          "base_uri": "https://localhost:8080/"
        },
        "id": "ulW_jd3Rp1e7",
        "outputId": "fcdcc8fa-def8-4d29-ce3b-2fac94299b33"
      },
      "execution_count": 75,
      "outputs": [
        {
          "output_type": "stream",
          "name": "stdout",
          "text": [
            "=\n"
          ]
        }
      ]
    },
    {
      "cell_type": "code",
      "source": [
        "# 76. Create a NumPy array arr1 with values from 1 to 10. Create a copy of arr1 named copy_arr and modify an element in copy_arr. Check if modifying copy_arr affects arr1.\n",
        "arr1 = np.array([1, 2, 3, 4, 5, 6, 7, 8, 9, 10])\n",
        "copy_arr = arr1.copy()\n",
        "copy_arr[0] = 99\n",
        "print(arr1)\n",
        "print(copy_arr)\n"
      ],
      "metadata": {
        "colab": {
          "base_uri": "https://localhost:8080/"
        },
        "id": "CalaQOI7p14b",
        "outputId": "7b6c4698-9628-4743-bf5d-a00d1cb653d1"
      },
      "execution_count": 76,
      "outputs": [
        {
          "output_type": "stream",
          "name": "stdout",
          "text": [
            "[ 1  2  3  4  5  6  7  8  9 10]\n",
            "[99  2  3  4  5  6  7  8  9 10]\n"
          ]
        }
      ]
    },
    {
      "cell_type": "code",
      "source": [
        "# 77. Create a 2D NumPy array matrix of shape (3, 3) with random integers. Extract a slice view_slice from the matrix. Modify an element in view_slice and observe if it changes the original matrix.\n",
        "matrix = np.random.randint(1, 100, size=(3, 3))\n",
        "view_slice = matrix[:, :2]\n",
        "view_slice[0, 0] = 777\n",
        "print(matrix)"
      ],
      "metadata": {
        "colab": {
          "base_uri": "https://localhost:8080/"
        },
        "id": "shFaNKxup2L3",
        "outputId": "c3ceaf67-9fd8-4c38-8637-5f48feeb89db"
      },
      "execution_count": 77,
      "outputs": [
        {
          "output_type": "stream",
          "name": "stdout",
          "text": [
            "[[777  65  66]\n",
            " [  1  15  81]\n",
            " [ 55  76  51]]\n"
          ]
        }
      ]
    },
    {
      "cell_type": "code",
      "source": [
        "# 78. Create a NumPy array array_a of shape (4, 3) with sequential integers from 1 to 12. Extract a slice view_b from array_a and broadcast the addition of 5 to view_b. Check if it alters the original array_a.\n",
        "array_a = np.arange(1, 13).reshape(4, 3)\n",
        "view_b = array_a[:, 1:]\n",
        "view_b += 5\n",
        "print(array_a)"
      ],
      "metadata": {
        "colab": {
          "base_uri": "https://localhost:8080/"
        },
        "id": "p0QVE47sp2Tm",
        "outputId": "12217921-abbf-466d-db0d-c060e0b3a743"
      },
      "execution_count": 78,
      "outputs": [
        {
          "output_type": "stream",
          "name": "stdout",
          "text": [
            "[[ 1  7  8]\n",
            " [ 4 10 11]\n",
            " [ 7 13 14]\n",
            " [10 16 17]]\n"
          ]
        }
      ]
    },
    {
      "cell_type": "code",
      "source": [
        "# 79. Create a NumPy array orig_array of shape (2, 4) with values from 1 to 8. Create a reshaped view reshaped_view of shape (4, 2) from orig_array. Modify an element in reshaped_view and check if it reflects changes in the original orig_array.\n",
        "orig_array = np.arange(1, 9).reshape(2, 4)\n",
        "reshaped_view = orig_array.reshape(4, 2)\n",
        "reshaped_view[0, 0] = 123\n",
        "print(orig_array)\n"
      ],
      "metadata": {
        "colab": {
          "base_uri": "https://localhost:8080/"
        },
        "id": "6uUKqalPp2W2",
        "outputId": "77d05c8f-dc9b-4fb4-9182-0df9decb97ab"
      },
      "execution_count": 79,
      "outputs": [
        {
          "output_type": "stream",
          "name": "stdout",
          "text": [
            "[[123   2   3   4]\n",
            " [  5   6   7   8]]\n"
          ]
        }
      ]
    },
    {
      "cell_type": "code",
      "source": [
        "# 80. Create a NumPy array data of shape (3, 4) with random integers. Extract a copy data_copy of elements greater than 5. Modify an element in data_copy and verify if it affects the original data.\n",
        "data = np.random.randint(1, 10, size=(3, 4))\n",
        "data_copy = data[data > 5].copy()\n",
        "data_copy[0] = 100\n",
        "print(data)"
      ],
      "metadata": {
        "colab": {
          "base_uri": "https://localhost:8080/"
        },
        "id": "1g63vgB5p2lw",
        "outputId": "a582e0d3-0f0b-40c8-8d6b-908ab05b81a6"
      },
      "execution_count": 80,
      "outputs": [
        {
          "output_type": "stream",
          "name": "stdout",
          "text": [
            "[[9 9 5 6]\n",
            " [9 3 1 9]\n",
            " [1 1 7 6]]\n"
          ]
        }
      ]
    },
    {
      "cell_type": "code",
      "source": [
        "# 81. Create two matrices A and B of identical shape containing integers and perform addition and subtraction operations between them.\n",
        "A = np.array([[1, 2], [3, 4]])\n",
        "B = np.array([[5, 6], [7, 8]])\n",
        "print(A + B)\n",
        "print(A - B)"
      ],
      "metadata": {
        "colab": {
          "base_uri": "https://localhost:8080/"
        },
        "id": "53gV9fbkp2oW",
        "outputId": "6404b874-fa61-4390-f3db-7b0df7c96e64"
      },
      "execution_count": 81,
      "outputs": [
        {
          "output_type": "stream",
          "name": "stdout",
          "text": [
            "[[ 6  8]\n",
            " [10 12]]\n",
            "[[-4 -4]\n",
            " [-4 -4]]\n"
          ]
        }
      ]
    },
    {
      "cell_type": "code",
      "source": [
        "# 82. Generate two matrices C (3x2) and D (2x4) and perform matrix multiplication.\n",
        "C = np.array([[1, 2], [3, 4], [5, 6]])\n",
        "D = np.array([[7, 8, 9, 10], [11, 12, 13, 14]])\n",
        "print(np.dot(C, D))"
      ],
      "metadata": {
        "colab": {
          "base_uri": "https://localhost:8080/"
        },
        "id": "cAsc09t1p2qp",
        "outputId": "84dba26f-6b16-4943-96ec-6a20829a471f"
      },
      "execution_count": 82,
      "outputs": [
        {
          "output_type": "stream",
          "name": "stdout",
          "text": [
            "[[ 29  32  35  38]\n",
            " [ 65  72  79  86]\n",
            " [101 112 123 134]]\n"
          ]
        }
      ]
    },
    {
      "cell_type": "code",
      "source": [
        "# 83. Create a matrix E and find its transpose.\n",
        "E = np.array([[1, 2, 3], [4, 5, 6]])\n",
        "print(E.T)"
      ],
      "metadata": {
        "colab": {
          "base_uri": "https://localhost:8080/"
        },
        "id": "SBRZWGS4p2tN",
        "outputId": "c1af979f-c840-4d35-c240-b00d1c45f05c"
      },
      "execution_count": 83,
      "outputs": [
        {
          "output_type": "stream",
          "name": "stdout",
          "text": [
            "[[1 4]\n",
            " [2 5]\n",
            " [3 6]]\n"
          ]
        }
      ]
    },
    {
      "cell_type": "code",
      "source": [
        "# 84. Generate a square matrix F and compute its determinant.\n",
        "F = np.array([[1, 2], [3, 4]])\n",
        "print(np.linalg.det(F))"
      ],
      "metadata": {
        "colab": {
          "base_uri": "https://localhost:8080/"
        },
        "id": "LETeKZVBp2vr",
        "outputId": "f208ed7a-4639-4b8e-fd3d-51152a117e2d"
      },
      "execution_count": 84,
      "outputs": [
        {
          "output_type": "stream",
          "name": "stdout",
          "text": [
            "-2.0000000000000004\n"
          ]
        }
      ]
    },
    {
      "cell_type": "code",
      "source": [
        "# 85. Create a square matrix G and find its inverse.\n",
        "G = np.array([[1, 2], [3, 4]])\n",
        "print(np.linalg.inv(G))"
      ],
      "metadata": {
        "colab": {
          "base_uri": "https://localhost:8080/"
        },
        "id": "cvCE7u7Op2xn",
        "outputId": "2c4928e0-4de8-4f58-abda-3182105d4f9c"
      },
      "execution_count": 85,
      "outputs": [
        {
          "output_type": "stream",
          "name": "stdout",
          "text": [
            "[[-2.   1. ]\n",
            " [ 1.5 -0.5]]\n"
          ]
        }
      ]
    },
    {
      "cell_type": "code",
      "source": [],
      "metadata": {
        "id": "AfKqA8q3p2z9"
      },
      "execution_count": 85,
      "outputs": []
    }
  ]
}